{
 "cells": [
  {
   "cell_type": "code",
   "execution_count": 3,
   "id": "481c2aa8",
   "metadata": {},
   "outputs": [
    {
     "name": "stdout",
     "output_type": "stream",
     "text": [
      "    나이 성별   학교\n",
      "진현  18  남  김천고\n",
      "민지  19  여  울산고\n",
      "2352437005760\n",
      "    연령 남녀   소속\n",
      "진현  18  남  김천고\n",
      "민지  19  여  울산고\n",
      "2352437005760\n",
      "     연령 남녀   소속\n",
      "학생1  18  남  김천고\n",
      "학생2  19  여  울산고\n",
      "2352437004944\n",
      "    연령 남녀   소속\n",
      "진현  18  남  김천고\n",
      "민지  19  여  울산고\n"
     ]
    }
   ],
   "source": [
    "import pandas as pd\n",
    "\n",
    "df = pd.DataFrame([[18, '남','김천고'], [19, '여', '울산고']],\n",
    "                 index=['진현', '민지'],\n",
    "                 columns=['나이', '성별', '학교'])\n",
    "print(df)\n",
    "print(id(df))\n",
    "df.rename(columns={'나이':'연령', '성별':'남녀', '학교':'소속'}, inplace=True)\n",
    "print(df)\n",
    "print(id(df))\n",
    "new_df = df.rename(index={'진현':'학생1', '민지':'학생2' })\n",
    "print(new_df)\n",
    "print(id(new_df))   #새로 생성된 Dataframe?\n",
    "print(df)"
   ]
  },
  {
   "cell_type": "code",
   "execution_count": 5,
   "id": "5b9edb5e",
   "metadata": {},
   "outputs": [
    {
     "name": "stdout",
     "output_type": "stream",
     "text": [
      "Cidx1           A           B      \n",
      "Cidx2           C     D     C     D\n",
      "Ridx1 Ridx2                        \n",
      "M     id_1   0.06  0.17 -0.76  0.10\n",
      "      id_2  -0.58 -0.88 -0.70 -1.24\n",
      "      id_3   0.44  2.36  0.89  1.48\n",
      "F     id_1   0.23 -1.47  1.65 -0.76\n",
      "      id_2   0.36  1.22  2.04  0.63\n",
      "      id_3   1.61 -0.88 -1.19 -0.41\n"
     ]
    }
   ],
   "source": [
    "import numpy as np\n",
    "df4 = pd.DataFrame(np.round(np.random.randn(6, 4), 2),\n",
    "columns=[[\"A\", \"A\", \"B\", \"B\"], [\"C\", \"D\", \"C\", \"D\"]],\n",
    "index=[[\"M\", \"M\", \"M\", \"F\", \"F\", \"F\"], [\"id_\" + str(i + 1) for i in range(3)] * 2])\n",
    "df4.columns.names = [\"Cidx1\", \"Cidx2\"]\n",
    "df4.index.names = [\"Ridx1\", \"Ridx2\"]\n",
    "print(df4)\n"
   ]
  },
  {
   "cell_type": "code",
   "execution_count": 6,
   "id": "92f13cd3",
   "metadata": {},
   "outputs": [
    {
     "name": "stdout",
     "output_type": "stream",
     "text": [
      "Cidx2                 C     D\n",
      "Ridx1 Ridx2 Cidx1            \n",
      "M     id_1  A      0.06  0.17\n",
      "            B     -0.76  0.10\n",
      "      id_2  A     -0.58 -0.88\n",
      "            B     -0.70 -1.24\n",
      "      id_3  A      0.44  2.36\n",
      "            B      0.89  1.48\n",
      "F     id_1  A      0.23 -1.47\n",
      "            B      1.65 -0.76\n",
      "      id_2  A      0.36  1.22\n",
      "            B      2.04  0.63\n",
      "      id_3  A      1.61 -0.88\n",
      "            B     -1.19 -0.41\n"
     ]
    }
   ],
   "source": [
    "df=df4.stack(\"Cidx1\")\n",
    "print(df)"
   ]
  },
  {
   "cell_type": "code",
   "execution_count": 7,
   "id": "3ec52df3",
   "metadata": {},
   "outputs": [
    {
     "name": "stdout",
     "output_type": "stream",
     "text": [
      "Cidx1                 A     B\n",
      "Ridx1 Ridx2 Cidx2            \n",
      "M     id_1  C      0.06 -0.76\n",
      "            D      0.17  0.10\n",
      "      id_2  C     -0.58 -0.70\n",
      "            D     -0.88 -1.24\n",
      "      id_3  C      0.44  0.89\n",
      "            D      2.36  1.48\n",
      "F     id_1  C      0.23  1.65\n",
      "            D     -1.47 -0.76\n",
      "      id_2  C      0.36  2.04\n",
      "            D      1.22  0.63\n",
      "      id_3  C      1.61 -1.19\n",
      "            D     -0.88 -0.41\n"
     ]
    }
   ],
   "source": [
    "\n",
    "df= df4.stack(1)\n",
    "print(df)\n"
   ]
  },
  {
   "cell_type": "code",
   "execution_count": 8,
   "id": "296ae247",
   "metadata": {},
   "outputs": [
    {
     "name": "stdout",
     "output_type": "stream",
     "text": [
      "Cidx1     A                                   B                              \n",
      "Cidx2     C                 D                 C                 D            \n",
      "Ridx2  id_1  id_2  id_3  id_1  id_2  id_3  id_1  id_2  id_3  id_1  id_2  id_3\n",
      "Ridx1                                                                        \n",
      "F      0.23  0.36  1.61 -1.47  1.22 -0.88  1.65  2.04 -1.19 -0.76  0.63 -0.41\n",
      "M      0.06 -0.58  0.44  0.17 -0.88  2.36 -0.76 -0.70  0.89  0.10 -1.24  1.48\n"
     ]
    }
   ],
   "source": [
    "df= df4.unstack(\"Ridx2\")\n",
    "print(df)\n"
   ]
  },
  {
   "cell_type": "code",
   "execution_count": 9,
   "id": "e3ca28d5",
   "metadata": {},
   "outputs": [
    {
     "name": "stdout",
     "output_type": "stream",
     "text": [
      "Cidx1     A                       B                  \n",
      "Cidx2     C           D           C           D      \n",
      "Ridx1     F     M     F     M     F     M     F     M\n",
      "Ridx2                                                \n",
      "id_1   0.23  0.06 -1.47  0.17  1.65 -0.76 -0.76  0.10\n",
      "id_2   0.36 -0.58  1.22 -0.88  2.04 -0.70  0.63 -1.24\n",
      "id_3   1.61  0.44 -0.88  2.36 -1.19  0.89 -0.41  1.48\n"
     ]
    }
   ],
   "source": [
    "df =df4.unstack(0)\n",
    "print(df)"
   ]
  },
  {
   "cell_type": "code",
   "execution_count": 10,
   "id": "494d6ae4",
   "metadata": {},
   "outputs": [
    {
     "name": "stdout",
     "output_type": "stream",
     "text": [
      "      A           B      \n",
      "     C1    C2    C1    C2\n",
      "0  1.76  0.40  0.98  2.24\n",
      "1  1.87 -0.98  0.95 -0.15\n",
      "2 -0.10  0.41  0.14  1.45\n",
      "3  0.76  0.12  0.44  0.33\n",
      "4  1.49 -0.21  0.31 -0.85\n"
     ]
    }
   ],
   "source": [
    "np.random.seed(0)\n",
    "df3 = pd.DataFrame(np.round(np.random.randn(5, 4), 2),\n",
    "columns=[[\"A\", \"A\", \"B\", \"B\"], [\"C1\", \"C2\", \"C1\", \"C2\"]])\n",
    "print(df3)"
   ]
  },
  {
   "cell_type": "code",
   "execution_count": 12,
   "id": "097f87bc",
   "metadata": {},
   "outputs": [
    {
     "name": "stdout",
     "output_type": "stream",
     "text": [
      "0    1.76\n",
      "1    1.87\n",
      "2   -0.10\n",
      "3    0.76\n",
      "4    1.49\n",
      "Name: (A, C1), dtype: float64\n"
     ]
    }
   ],
   "source": [
    "print(df3[('A','C1')])  #error?"
   ]
  },
  {
   "cell_type": "code",
   "execution_count": 14,
   "id": "756255dc",
   "metadata": {},
   "outputs": [
    {
     "name": "stdout",
     "output_type": "stream",
     "text": [
      "     C1    C2\n",
      "0  1.76  0.40\n",
      "1  1.87 -0.98\n",
      "2 -0.10  0.41\n",
      "3  0.76  0.12\n",
      "4  1.49 -0.21\n"
     ]
    }
   ],
   "source": [
    "print(df3['A'])"
   ]
  },
  {
   "cell_type": "code",
   "execution_count": 15,
   "id": "58084d7d",
   "metadata": {},
   "outputs": [],
   "source": [
    "df4 = pd.DataFrame(np.round(np.random.randn(6, 4), 2),\n",
    "columns=[[\"A\", \"A\", \"B\", \"B\"], [\"C\", \"D\", \"C\", \"D\"]],\n",
    "index=[[\"M\", \"M\", \"M\", \"F\", \"F\", \"F\"], [\"id_\" + str(i + 1) for i in range(3)] * 2])\n",
    "df4.columns.names = [\"Cidx1\", \"Cidx2\"]\n",
    "df4.index.names = [\"Ridx1\", \"Ridx2\"]"
   ]
  },
  {
   "cell_type": "code",
   "execution_count": 17,
   "id": "b5cf73f3",
   "metadata": {},
   "outputs": [
    {
     "name": "stdout",
     "output_type": "stream",
     "text": [
      "Cidx1           A           B      \n",
      "Cidx2           C     D     C     D\n",
      "Ridx1 Ridx2                        \n",
      "M     id_1  -2.55  0.65  0.86 -0.74\n",
      "      id_2   2.27 -1.45  0.05 -0.19\n",
      "      id_3   1.53  1.47  0.15  0.38\n",
      "F     id_1  -0.89 -1.98 -0.35  0.16\n",
      "      id_2   1.23  1.20 -0.39 -0.30\n",
      "      id_3  -1.05 -1.42 -1.71  1.95\n"
     ]
    }
   ],
   "source": [
    "print(df4)"
   ]
  },
  {
   "cell_type": "code",
   "execution_count": 18,
   "id": "b01b9bbb",
   "metadata": {},
   "outputs": [
    {
     "name": "stdout",
     "output_type": "stream",
     "text": [
      "Cidx1           A           B      \n",
      "Cidx2           C     D     C     D\n",
      "Ridx1 Ridx2                        \n",
      "M     id_1  -2.55  0.65  0.86 -0.74\n",
      "      id_2   2.27 -1.45  0.05 -0.19\n",
      "      id_3   1.53  1.47  0.15  0.38\n",
      "F     id_1  -0.89 -1.98 -0.35  0.16\n",
      "      id_2   1.23  1.20 -0.39 -0.30\n",
      "      id_3  -1.05 -1.42 -1.71  1.95\n",
      "All   All    0.54 -1.53 -1.39  1.26\n"
     ]
    }
   ],
   "source": [
    "df4.loc[(\"All\", \"All\"), :] = df4.sum()\n",
    "print(df4)"
   ]
  },
  {
   "cell_type": "code",
   "execution_count": 19,
   "id": "257dadab",
   "metadata": {},
   "outputs": [
    {
     "name": "stdout",
     "output_type": "stream",
     "text": [
      "Cidx1     A           B      \n",
      "Cidx2     C     D     C     D\n",
      "Ridx2                        \n",
      "id_1  -2.55  0.65  0.86 -0.74\n",
      "id_2   2.27 -1.45  0.05 -0.19\n",
      "id_3   1.53  1.47  0.15  0.38\n"
     ]
    }
   ],
   "source": [
    "print(df4.loc[\"M\"])\n"
   ]
  },
  {
   "cell_type": "code",
   "execution_count": 20,
   "id": "5a4e6974",
   "metadata": {},
   "outputs": [
    {
     "name": "stdout",
     "output_type": "stream",
     "text": [
      "Cidx1           A           B      \n",
      "Cidx2           C     D     C     D\n",
      "Ridx1 Ridx2                        \n",
      "M     id_1  -2.55  0.65  0.86 -0.74\n",
      "      id_2   2.27 -1.45  0.05 -0.19\n",
      "      id_3   1.53  1.47  0.15  0.38\n"
     ]
    }
   ],
   "source": [
    "print(df4.loc[(\"M\", slice(None)), :])  #[ M:  , : ]의미\n"
   ]
  },
  {
   "cell_type": "code",
   "execution_count": 21,
   "id": "6db1e0f9",
   "metadata": {},
   "outputs": [
    {
     "name": "stdout",
     "output_type": "stream",
     "text": [
      "Cidx1           A           B      \n",
      "Cidx2           C     D     C     D\n",
      "Ridx1 Ridx2                        \n",
      "M     id_1  -2.55  0.65  0.86 -0.74\n",
      "F     id_1  -0.89 -1.98 -0.35  0.16\n"
     ]
    }
   ],
   "source": [
    "print(df4.loc[(slice(None), \"id_1\"), :])  #[ :id_1, : ]"
   ]
  },
  {
   "cell_type": "code",
   "execution_count": 22,
   "id": "c2b2bd9a",
   "metadata": {},
   "outputs": [
    {
     "name": "stdout",
     "output_type": "stream",
     "text": [
      "<class 'pandas.core.frame.DataFrame'>\n"
     ]
    }
   ],
   "source": [
    "csv_test = pd.read_csv('./datas/customers.csv')\n",
    "print(type(csv_test))"
   ]
  },
  {
   "cell_type": "code",
   "execution_count": 23,
   "id": "3e07fae2",
   "metadata": {},
   "outputs": [
    {
     "name": "stdout",
     "output_type": "stream",
     "text": [
      "<class 'pandas.core.frame.DataFrame'>\n",
      "RangeIndex: 122 entries, 0 to 121\n",
      "Data columns (total 13 columns):\n",
      " #   Column                  Non-Null Count  Dtype  \n",
      "---  ------                  --------------  -----  \n",
      " 0   customerNumber          122 non-null    int64  \n",
      " 1   customerName            122 non-null    object \n",
      " 2   contactLastName         122 non-null    object \n",
      " 3   contactFirstName        122 non-null    object \n",
      " 4   phone                   122 non-null    object \n",
      " 5   addressLine1            122 non-null    object \n",
      " 6   addressLine2            22 non-null     object \n",
      " 7   city                    122 non-null    object \n",
      " 8   state                   49 non-null     object \n",
      " 9   postalCode              115 non-null    object \n",
      " 10  country                 122 non-null    object \n",
      " 11  salesRepEmployeeNumber  100 non-null    float64\n",
      " 12  creditLimit             122 non-null    int64  \n",
      "dtypes: float64(1), int64(2), object(10)\n",
      "memory usage: 12.5+ KB\n"
     ]
    }
   ],
   "source": [
    "csv_test.info()"
   ]
  },
  {
   "cell_type": "code",
   "execution_count": 27,
   "id": "2419e355",
   "metadata": {},
   "outputs": [
    {
     "name": "stdout",
     "output_type": "stream",
     "text": [
      "      A  B  C    D\n",
      "ID                \n",
      "C1  1.0  2  3  NaN\n",
      "C2  5.0  ?  7  8.0\n",
      "C3  NaN  3  5  7.0\n"
     ]
    }
   ],
   "source": [
    "df = pd.read_csv('./datas/test_text_file.txt', sep='|', index_col='ID')\n",
    "print(df)"
   ]
  },
  {
   "cell_type": "code",
   "execution_count": 28,
   "id": "1bf26448",
   "metadata": {},
   "outputs": [
    {
     "name": "stdout",
     "output_type": "stream",
     "text": [
      "   ID    A  B  C    D\n",
      "0  C1  1.0  2  3  NaN\n",
      "1  C2  5.0  ?  7  8.0\n",
      "2  C3  NaN  3  5  7.0\n"
     ]
    }
   ],
   "source": [
    "df = pd.read_csv('./datas/test_text_file.txt', sep='|')\n",
    "print(df)"
   ]
  },
  {
   "cell_type": "code",
   "execution_count": 30,
   "id": "fb1ce10f",
   "metadata": {},
   "outputs": [
    {
     "name": "stdout",
     "output_type": "stream",
     "text": [
      "    0    1  2  3    4\n",
      "0  C1  1.0  2  3  NaN\n",
      "1  C2  5.0  ?  7  8.0\n",
      "2  C3  NaN  3  5  7.0\n"
     ]
    }
   ],
   "source": [
    "df = pd.read_csv('./datas/text_without_column_name.txt', sep='|' , header=None)\n",
    "print(df)"
   ]
  },
  {
   "cell_type": "code",
   "execution_count": 31,
   "id": "69d7cb6f",
   "metadata": {},
   "outputs": [
    {
     "name": "stdout",
     "output_type": "stream",
     "text": [
      "   C1    1  2  3  nan\n",
      "0  C2  5.0  ?  7    8\n",
      "1  C3  NaN  3  5    7\n"
     ]
    }
   ],
   "source": [
    "df = pd.read_csv('./datas/text_without_column_name.txt', sep='|' )\n",
    "print(df)"
   ]
  },
  {
   "cell_type": "code",
   "execution_count": 33,
   "id": "25a3d3cb",
   "metadata": {},
   "outputs": [
    {
     "name": "stdout",
     "output_type": "stream",
     "text": [
      "   ID    A  B  C    D\n",
      "0  C1  1.0  2  3  NaN\n",
      "1  C2  5.0  ?  7  8.0\n",
      "2  C3  NaN  3  5  7.0\n"
     ]
    }
   ],
   "source": [
    "df = pd.read_csv('./datas/text_without_column_name.txt', sep='|' , names=['ID', 'A', 'B', 'C', 'D'], header=None)\n",
    "print(df)"
   ]
  },
  {
   "cell_type": "code",
   "execution_count": 34,
   "id": "82a43555",
   "metadata": {},
   "outputs": [
    {
     "name": "stdout",
     "output_type": "stream",
     "text": [
      "      A  B  C    D\n",
      "ID                \n",
      "C1  1.0  2  3  NaN\n",
      "C2  5.0  ?  7  8.0\n",
      "C3  NaN  3  5  7.0\n"
     ]
    }
   ],
   "source": [
    "df = pd.read_csv('./datas/text_without_column_name.txt', sep='|' , names=['ID', 'A', 'B', 'C', 'D'], header=None, index_col='ID')\n",
    "print(df)"
   ]
  },
  {
   "cell_type": "code",
   "execution_count": 36,
   "id": "1ed7d681",
   "metadata": {},
   "outputs": [
    {
     "name": "stdout",
     "output_type": "stream",
     "text": [
      "   ID LAST_NAME  AGE\n",
      "0   1       KIM   30\n",
      "1   2      CHOI   25\n",
      "2   3       LEE   41\n",
      "3   4      PARK   19\n",
      "4   5       LIM   36\n"
     ]
    }
   ],
   "source": [
    "df = pd.read_csv('./datas/test_csv_file.csv')\n",
    "print(df)"
   ]
  },
  {
   "cell_type": "code",
   "execution_count": 37,
   "id": "228f1a95",
   "metadata": {},
   "outputs": [
    {
     "name": "stdout",
     "output_type": "stream",
     "text": [
      "   ID LAST_NAME  AGE\n",
      "0   3       LEE   41\n",
      "1   4      PARK   19\n",
      "2   5       LIM   36\n"
     ]
    }
   ],
   "source": [
    "df = pd.read_csv('./datas/test_csv_file.csv', skiprows=[1, 2])\n",
    "print(df)"
   ]
  },
  {
   "cell_type": "code",
   "execution_count": 42,
   "id": "d63f6fb3",
   "metadata": {},
   "outputs": [
    {
     "name": "stdout",
     "output_type": "stream",
     "text": [
      "   ID LAST_NAME  AGE\n",
      "0   1       KIM   30\n",
      "1   2      CHOI   25\n",
      "2   3       LEE   41\n",
      "<class 'pandas.core.frame.DataFrame'>\n",
      "RangeIndex: 3 entries, 0 to 2\n",
      "Data columns (total 3 columns):\n",
      " #   Column     Non-Null Count  Dtype \n",
      "---  ------     --------------  ----- \n",
      " 0   ID         3 non-null      int64 \n",
      " 1   LAST_NAME  3 non-null      object\n",
      " 2   AGE        3 non-null      int64 \n",
      "dtypes: int64(2), object(1)\n",
      "memory usage: 200.0+ bytes\n",
      "None\n"
     ]
    }
   ],
   "source": [
    "df = pd.read_csv('./datas/test_csv_file.csv', nrows=3)\n",
    "print(df)\n",
    "print(df.info())"
   ]
  },
  {
   "cell_type": "code",
   "execution_count": 43,
   "id": "f8c4a7f1",
   "metadata": {},
   "outputs": [
    {
     "name": "stdout",
     "output_type": "stream",
     "text": [
      "   ID LAST_NAME   AGE\n",
      "0   1       KIM  30.0\n",
      "1   2      CHOI  25.0\n",
      "2   3       LEE  41.0\n",
      "3   4      PARK  19.0\n",
      "4   5       LIM  36.0\n",
      "<class 'pandas.core.frame.DataFrame'>\n",
      "RangeIndex: 5 entries, 0 to 4\n",
      "Data columns (total 3 columns):\n",
      " #   Column     Non-Null Count  Dtype  \n",
      "---  ------     --------------  -----  \n",
      " 0   ID         5 non-null      int32  \n",
      " 1   LAST_NAME  5 non-null      object \n",
      " 2   AGE        5 non-null      float64\n",
      "dtypes: float64(1), int32(1), object(1)\n",
      "memory usage: 228.0+ bytes\n",
      "None\n"
     ]
    }
   ],
   "source": [
    "df = pd.read_csv('./datas/test_csv_file.csv',  dtype = {\"ID\": int, \"LAST_NAME\": str, \"AGE\": float})\n",
    "print(df)\n",
    "print(df.info())"
   ]
  },
  {
   "cell_type": "code",
   "execution_count": 39,
   "id": "bb0e2d9b",
   "metadata": {},
   "outputs": [
    {
     "name": "stdout",
     "output_type": "stream",
     "text": [
      "   ID    A    B  C    D\n",
      "0  C1  1.0  2.0  3  NaN\n",
      "1  C2  5.0  NaN  7  8.0\n",
      "2  C3  NaN  3.0  5  7.0\n"
     ]
    }
   ],
   "source": [
    "df = pd.read_csv('./datas/test_text_file.txt', sep='|', \n",
    "                 na_values = ['?', '??', 'N/A', 'NA', 'nan', 'NaN', '-nan', '-NaN', 'null'])\n",
    "print(df)"
   ]
  },
  {
   "cell_type": "code",
   "execution_count": 41,
   "id": "ba4c6143",
   "metadata": {},
   "outputs": [
    {
     "name": "stdout",
     "output_type": "stream",
     "text": [
      "   ID    A  B  C    D\n",
      "0  C1  1.0  2  3  NaN\n",
      "1  C2  5.0  ?  7  8.0\n",
      "2  C3  NaN  3  5  7.0\n"
     ]
    }
   ],
   "source": [
    "df = pd.read_csv('./datas/test_text_file.txt', sep='|')                  \n",
    "print(df) "
   ]
  },
  {
   "cell_type": "code",
   "execution_count": 44,
   "id": "815eb03c",
   "metadata": {},
   "outputs": [],
   "source": [
    "student_data = {\n",
    "\"1.FirstName\": \"Gildong\",\n",
    "\"2.LastName\": \"Hong\",\n",
    "\"3.Age\": 20,\n",
    "\"4.University\": \"Yonsei University\",\n",
    "\"5.Courses\": [\n",
    "{\n",
    "\"Major\": \"Statistics\",\n",
    "\"Classes\": [\"Probability\",\n",
    "\"Generalized Linear Model\",\n",
    "\"Categorical Data Analysis\"]\n",
    "},\n",
    "{\n",
    "\"Minor\": \"ComputerScience\",\n",
    "\"Classes\": [\"Data Structure\",\n",
    "\"Programming\",\n",
    "\"Algorithms\"]\n",
    "}\n",
    "]\n",
    "}"
   ]
  },
  {
   "cell_type": "code",
   "execution_count": 46,
   "id": "9ec5d7da",
   "metadata": {},
   "outputs": [],
   "source": [
    "\n",
    "import json\n",
    "with open(\"./datas/student_file.json\", \"w\") as json_file:\n",
    "    json.dump(student_data, json_file)"
   ]
  },
  {
   "cell_type": "code",
   "execution_count": 50,
   "id": "765dc127",
   "metadata": {},
   "outputs": [
    {
     "name": "stdout",
     "output_type": "stream",
     "text": [
      "<class 'dict'>\n",
      "{'1.FirstName': 'Gildong', '2.LastName': 'Hong', '3.Age': 20, '4.University': 'Yonsei University', '5.Courses': [{'Major': 'Statistics', 'Classes': ['Probability', 'Generalized Linear Model', 'Categorical Data Analysis']}, {'Minor': 'ComputerScience', 'Classes': ['Data Structure', 'Programming', 'Algorithms']}]}\n",
      "<class 'dict'>\n"
     ]
    }
   ],
   "source": [
    "print(type(student_data ))\n",
    "\n",
    "with open(\"./datas/student_file.json\", \"r\") as st_json:\n",
    "    st_python = json.load(st_json)\n",
    "    print(st_python)\n",
    "    print(type(st_python))"
   ]
  },
  {
   "cell_type": "code",
   "execution_count": 51,
   "id": "aa1b0c91",
   "metadata": {},
   "outputs": [
    {
     "name": "stdout",
     "output_type": "stream",
     "text": [
      "   name  age\n",
      "0  Jack   26\n",
      "1   Ace   87\n",
      "   name  age\n",
      "0  Jack   26\n",
      "1   Ace   87\n"
     ]
    }
   ],
   "source": [
    "import json\n",
    "\n",
    "with open('./datas/test.json') as f:\n",
    "    js = json.loads(f.read()) ## json 라이브러리 이용\n",
    "df1 = pd.DataFrame(js)\n",
    "print(df1)\n",
    "\n",
    "df2 = pd.read_json('./datas/test.json') ## pd.read_json 이용\n",
    "print(df2)\n"
   ]
  },
  {
   "cell_type": "code",
   "execution_count": 52,
   "id": "89cbf8de",
   "metadata": {},
   "outputs": [
    {
     "data": {
      "text/plain": [
       "'{\"name\":{\"0\":\"Jack\",\"1\":\"Ace\"},\"age\":{\"0\":26,\"1\":87}}'"
      ]
     },
     "execution_count": 52,
     "metadata": {},
     "output_type": "execute_result"
    }
   ],
   "source": [
    "df1.to_json()  #name, age  열이름"
   ]
  },
  {
   "cell_type": "code",
   "execution_count": 57,
   "id": "d8db8b8d",
   "metadata": {},
   "outputs": [
    {
     "data": {
      "text/html": [
       "<div>\n",
       "<style scoped>\n",
       "    .dataframe tbody tr th:only-of-type {\n",
       "        vertical-align: middle;\n",
       "    }\n",
       "\n",
       "    .dataframe tbody tr th {\n",
       "        vertical-align: top;\n",
       "    }\n",
       "\n",
       "    .dataframe thead th {\n",
       "        text-align: right;\n",
       "    }\n",
       "</style>\n",
       "<table border=\"1\" class=\"dataframe\">\n",
       "  <thead>\n",
       "    <tr style=\"text-align: right;\">\n",
       "      <th></th>\n",
       "      <th>name</th>\n",
       "      <th>age</th>\n",
       "    </tr>\n",
       "  </thead>\n",
       "  <tbody>\n",
       "    <tr>\n",
       "      <th>0</th>\n",
       "      <td>Jack</td>\n",
       "      <td>26</td>\n",
       "    </tr>\n",
       "    <tr>\n",
       "      <th>1</th>\n",
       "      <td>Ace</td>\n",
       "      <td>87</td>\n",
       "    </tr>\n",
       "  </tbody>\n",
       "</table>\n",
       "</div>"
      ],
      "text/plain": [
       "   name  age\n",
       "0  Jack   26\n",
       "1   Ace   87"
      ]
     },
     "execution_count": 57,
     "metadata": {},
     "output_type": "execute_result"
    }
   ],
   "source": [
    "pd.DataFrame({\"name\":{\"0\":\"Jack\",\"1\":\"Ace\"},\"age\":{\"0\":26,\"1\":87}})"
   ]
  },
  {
   "cell_type": "code",
   "execution_count": 58,
   "id": "a03d4747",
   "metadata": {},
   "outputs": [
    {
     "data": {
      "text/plain": [
       "'[{\"name\":\"Jack\",\"age\":26},{\"name\":\"Ace\",\"age\":87}]'"
      ]
     },
     "execution_count": 58,
     "metadata": {},
     "output_type": "execute_result"
    }
   ],
   "source": [
    "df1.to_json(orient='records')"
   ]
  },
  {
   "cell_type": "code",
   "execution_count": 59,
   "id": "a356b632",
   "metadata": {},
   "outputs": [
    {
     "data": {
      "text/html": [
       "<div>\n",
       "<style scoped>\n",
       "    .dataframe tbody tr th:only-of-type {\n",
       "        vertical-align: middle;\n",
       "    }\n",
       "\n",
       "    .dataframe tbody tr th {\n",
       "        vertical-align: top;\n",
       "    }\n",
       "\n",
       "    .dataframe thead th {\n",
       "        text-align: right;\n",
       "    }\n",
       "</style>\n",
       "<table border=\"1\" class=\"dataframe\">\n",
       "  <thead>\n",
       "    <tr style=\"text-align: right;\">\n",
       "      <th></th>\n",
       "      <th>name</th>\n",
       "      <th>age</th>\n",
       "    </tr>\n",
       "  </thead>\n",
       "  <tbody>\n",
       "    <tr>\n",
       "      <th>0</th>\n",
       "      <td>Jack</td>\n",
       "      <td>26</td>\n",
       "    </tr>\n",
       "    <tr>\n",
       "      <th>1</th>\n",
       "      <td>Ace</td>\n",
       "      <td>87</td>\n",
       "    </tr>\n",
       "  </tbody>\n",
       "</table>\n",
       "</div>"
      ],
      "text/plain": [
       "   name  age\n",
       "0  Jack   26\n",
       "1   Ace   87"
      ]
     },
     "execution_count": 59,
     "metadata": {},
     "output_type": "execute_result"
    }
   ],
   "source": [
    "pd.DataFrame([{\"name\":\"Jack\",\"age\":26},{\"name\":\"Ace\",\"age\":87}])"
   ]
  },
  {
   "cell_type": "code",
   "execution_count": 56,
   "id": "bce247f3",
   "metadata": {},
   "outputs": [
    {
     "data": {
      "text/plain": [
       "'{\"0\":{\"name\":\"Jack\",\"age\":26},\"1\":{\"name\":\"Ace\",\"age\":87}}'"
      ]
     },
     "execution_count": 56,
     "metadata": {},
     "output_type": "execute_result"
    }
   ],
   "source": [
    "df1.to_json(orient='index')"
   ]
  },
  {
   "cell_type": "code",
   "execution_count": 60,
   "id": "255be56a",
   "metadata": {},
   "outputs": [
    {
     "data": {
      "text/html": [
       "<div>\n",
       "<style scoped>\n",
       "    .dataframe tbody tr th:only-of-type {\n",
       "        vertical-align: middle;\n",
       "    }\n",
       "\n",
       "    .dataframe tbody tr th {\n",
       "        vertical-align: top;\n",
       "    }\n",
       "\n",
       "    .dataframe thead th {\n",
       "        text-align: right;\n",
       "    }\n",
       "</style>\n",
       "<table border=\"1\" class=\"dataframe\">\n",
       "  <thead>\n",
       "    <tr style=\"text-align: right;\">\n",
       "      <th></th>\n",
       "      <th>0</th>\n",
       "      <th>1</th>\n",
       "    </tr>\n",
       "  </thead>\n",
       "  <tbody>\n",
       "    <tr>\n",
       "      <th>name</th>\n",
       "      <td>Jack</td>\n",
       "      <td>Ace</td>\n",
       "    </tr>\n",
       "    <tr>\n",
       "      <th>age</th>\n",
       "      <td>26</td>\n",
       "      <td>87</td>\n",
       "    </tr>\n",
       "  </tbody>\n",
       "</table>\n",
       "</div>"
      ],
      "text/plain": [
       "         0    1\n",
       "name  Jack  Ace\n",
       "age     26   87"
      ]
     },
     "execution_count": 60,
     "metadata": {},
     "output_type": "execute_result"
    }
   ],
   "source": [
    "pd.DataFrame({\"0\":{\"name\":\"Jack\",\"age\":26},\"1\":{\"name\":\"Ace\",\"age\":87}})"
   ]
  },
  {
   "cell_type": "code",
   "execution_count": 63,
   "id": "83b233af",
   "metadata": {},
   "outputs": [
    {
     "ename": "HTTPError",
     "evalue": "HTTP Error 403: Forbidden",
     "output_type": "error",
     "traceback": [
      "\u001b[1;31m---------------------------------------------------------------------------\u001b[0m",
      "\u001b[1;31mHTTPError\u001b[0m                                 Traceback (most recent call last)",
      "Input \u001b[1;32mIn [63]\u001b[0m, in \u001b[0;36m<cell line: 2>\u001b[1;34m()\u001b[0m\n\u001b[0;32m      1\u001b[0m \u001b[38;5;28;01mfrom\u001b[39;00m \u001b[38;5;21;01murllib\u001b[39;00m\u001b[38;5;21;01m.\u001b[39;00m\u001b[38;5;21;01mrequest\u001b[39;00m \u001b[38;5;28;01mimport\u001b[39;00m urlopen\n\u001b[1;32m----> 2\u001b[0m \u001b[38;5;28;01mwith\u001b[39;00m \u001b[43murlopen\u001b[49m\u001b[43m(\u001b[49m\u001b[38;5;124;43m\"\u001b[39;49m\u001b[38;5;124;43mhttps://api.nobelprize.org/v1/prize.json\u001b[39;49m\u001b[38;5;124;43m\"\u001b[39;49m\u001b[43m)\u001b[49m \u001b[38;5;28;01mas\u001b[39;00m url:\n\u001b[0;32m      3\u001b[0m     novel_prize_json_file \u001b[38;5;241m=\u001b[39m url\u001b[38;5;241m.\u001b[39mread()\n\u001b[0;32m      4\u001b[0m     \u001b[38;5;28mprint\u001b[39m(\u001b[38;5;28mtype\u001b[39m(novel_prize_json_file))\n",
      "File \u001b[1;32mC:\\anaconda3\\lib\\urllib\\request.py:214\u001b[0m, in \u001b[0;36murlopen\u001b[1;34m(url, data, timeout, cafile, capath, cadefault, context)\u001b[0m\n\u001b[0;32m    212\u001b[0m \u001b[38;5;28;01melse\u001b[39;00m:\n\u001b[0;32m    213\u001b[0m     opener \u001b[38;5;241m=\u001b[39m _opener\n\u001b[1;32m--> 214\u001b[0m \u001b[38;5;28;01mreturn\u001b[39;00m \u001b[43mopener\u001b[49m\u001b[38;5;241;43m.\u001b[39;49m\u001b[43mopen\u001b[49m\u001b[43m(\u001b[49m\u001b[43murl\u001b[49m\u001b[43m,\u001b[49m\u001b[43m \u001b[49m\u001b[43mdata\u001b[49m\u001b[43m,\u001b[49m\u001b[43m \u001b[49m\u001b[43mtimeout\u001b[49m\u001b[43m)\u001b[49m\n",
      "File \u001b[1;32mC:\\anaconda3\\lib\\urllib\\request.py:523\u001b[0m, in \u001b[0;36mOpenerDirector.open\u001b[1;34m(self, fullurl, data, timeout)\u001b[0m\n\u001b[0;32m    521\u001b[0m \u001b[38;5;28;01mfor\u001b[39;00m processor \u001b[38;5;129;01min\u001b[39;00m \u001b[38;5;28mself\u001b[39m\u001b[38;5;241m.\u001b[39mprocess_response\u001b[38;5;241m.\u001b[39mget(protocol, []):\n\u001b[0;32m    522\u001b[0m     meth \u001b[38;5;241m=\u001b[39m \u001b[38;5;28mgetattr\u001b[39m(processor, meth_name)\n\u001b[1;32m--> 523\u001b[0m     response \u001b[38;5;241m=\u001b[39m \u001b[43mmeth\u001b[49m\u001b[43m(\u001b[49m\u001b[43mreq\u001b[49m\u001b[43m,\u001b[49m\u001b[43m \u001b[49m\u001b[43mresponse\u001b[49m\u001b[43m)\u001b[49m\n\u001b[0;32m    525\u001b[0m \u001b[38;5;28;01mreturn\u001b[39;00m response\n",
      "File \u001b[1;32mC:\\anaconda3\\lib\\urllib\\request.py:632\u001b[0m, in \u001b[0;36mHTTPErrorProcessor.http_response\u001b[1;34m(self, request, response)\u001b[0m\n\u001b[0;32m    629\u001b[0m \u001b[38;5;66;03m# According to RFC 2616, \"2xx\" code indicates that the client's\u001b[39;00m\n\u001b[0;32m    630\u001b[0m \u001b[38;5;66;03m# request was successfully received, understood, and accepted.\u001b[39;00m\n\u001b[0;32m    631\u001b[0m \u001b[38;5;28;01mif\u001b[39;00m \u001b[38;5;129;01mnot\u001b[39;00m (\u001b[38;5;241m200\u001b[39m \u001b[38;5;241m<\u001b[39m\u001b[38;5;241m=\u001b[39m code \u001b[38;5;241m<\u001b[39m \u001b[38;5;241m300\u001b[39m):\n\u001b[1;32m--> 632\u001b[0m     response \u001b[38;5;241m=\u001b[39m \u001b[38;5;28;43mself\u001b[39;49m\u001b[38;5;241;43m.\u001b[39;49m\u001b[43mparent\u001b[49m\u001b[38;5;241;43m.\u001b[39;49m\u001b[43merror\u001b[49m\u001b[43m(\u001b[49m\n\u001b[0;32m    633\u001b[0m \u001b[43m        \u001b[49m\u001b[38;5;124;43m'\u001b[39;49m\u001b[38;5;124;43mhttp\u001b[39;49m\u001b[38;5;124;43m'\u001b[39;49m\u001b[43m,\u001b[49m\u001b[43m \u001b[49m\u001b[43mrequest\u001b[49m\u001b[43m,\u001b[49m\u001b[43m \u001b[49m\u001b[43mresponse\u001b[49m\u001b[43m,\u001b[49m\u001b[43m \u001b[49m\u001b[43mcode\u001b[49m\u001b[43m,\u001b[49m\u001b[43m \u001b[49m\u001b[43mmsg\u001b[49m\u001b[43m,\u001b[49m\u001b[43m \u001b[49m\u001b[43mhdrs\u001b[49m\u001b[43m)\u001b[49m\n\u001b[0;32m    635\u001b[0m \u001b[38;5;28;01mreturn\u001b[39;00m response\n",
      "File \u001b[1;32mC:\\anaconda3\\lib\\urllib\\request.py:561\u001b[0m, in \u001b[0;36mOpenerDirector.error\u001b[1;34m(self, proto, *args)\u001b[0m\n\u001b[0;32m    559\u001b[0m \u001b[38;5;28;01mif\u001b[39;00m http_err:\n\u001b[0;32m    560\u001b[0m     args \u001b[38;5;241m=\u001b[39m (\u001b[38;5;28mdict\u001b[39m, \u001b[38;5;124m'\u001b[39m\u001b[38;5;124mdefault\u001b[39m\u001b[38;5;124m'\u001b[39m, \u001b[38;5;124m'\u001b[39m\u001b[38;5;124mhttp_error_default\u001b[39m\u001b[38;5;124m'\u001b[39m) \u001b[38;5;241m+\u001b[39m orig_args\n\u001b[1;32m--> 561\u001b[0m     \u001b[38;5;28;01mreturn\u001b[39;00m \u001b[38;5;28;43mself\u001b[39;49m\u001b[38;5;241;43m.\u001b[39;49m\u001b[43m_call_chain\u001b[49m\u001b[43m(\u001b[49m\u001b[38;5;241;43m*\u001b[39;49m\u001b[43margs\u001b[49m\u001b[43m)\u001b[49m\n",
      "File \u001b[1;32mC:\\anaconda3\\lib\\urllib\\request.py:494\u001b[0m, in \u001b[0;36mOpenerDirector._call_chain\u001b[1;34m(self, chain, kind, meth_name, *args)\u001b[0m\n\u001b[0;32m    492\u001b[0m \u001b[38;5;28;01mfor\u001b[39;00m handler \u001b[38;5;129;01min\u001b[39;00m handlers:\n\u001b[0;32m    493\u001b[0m     func \u001b[38;5;241m=\u001b[39m \u001b[38;5;28mgetattr\u001b[39m(handler, meth_name)\n\u001b[1;32m--> 494\u001b[0m     result \u001b[38;5;241m=\u001b[39m \u001b[43mfunc\u001b[49m\u001b[43m(\u001b[49m\u001b[38;5;241;43m*\u001b[39;49m\u001b[43margs\u001b[49m\u001b[43m)\u001b[49m\n\u001b[0;32m    495\u001b[0m     \u001b[38;5;28;01mif\u001b[39;00m result \u001b[38;5;129;01mis\u001b[39;00m \u001b[38;5;129;01mnot\u001b[39;00m \u001b[38;5;28;01mNone\u001b[39;00m:\n\u001b[0;32m    496\u001b[0m         \u001b[38;5;28;01mreturn\u001b[39;00m result\n",
      "File \u001b[1;32mC:\\anaconda3\\lib\\urllib\\request.py:641\u001b[0m, in \u001b[0;36mHTTPDefaultErrorHandler.http_error_default\u001b[1;34m(self, req, fp, code, msg, hdrs)\u001b[0m\n\u001b[0;32m    640\u001b[0m \u001b[38;5;28;01mdef\u001b[39;00m \u001b[38;5;21mhttp_error_default\u001b[39m(\u001b[38;5;28mself\u001b[39m, req, fp, code, msg, hdrs):\n\u001b[1;32m--> 641\u001b[0m     \u001b[38;5;28;01mraise\u001b[39;00m HTTPError(req\u001b[38;5;241m.\u001b[39mfull_url, code, msg, hdrs, fp)\n",
      "\u001b[1;31mHTTPError\u001b[0m: HTTP Error 403: Forbidden"
     ]
    }
   ],
   "source": [
    "from urllib.request import urlopen\n",
    "with urlopen(\"https://api.nobelprize.org/v1/prize.json\") as url:\n",
    "    novel_prize_json_file = url.read()\n",
    "    print(type(novel_prize_json_file))\n",
    "# 읽어온 JSON 포맷 데이터를 Python의 json.loads() 메소드를 이용해서 decoding\n",
    "    novel_prize_json = json.loads(novel_prize_json_file.decode('utf-8'))"
   ]
  },
  {
   "cell_type": "code",
   "execution_count": 70,
   "id": "9e10c67e",
   "metadata": {},
   "outputs": [
    {
     "name": "stdout",
     "output_type": "stream",
     "text": [
      "dict_keys(['prizes'])\n",
      "dict_keys(['year', 'category', 'laureates'])\n",
      "{'year': '2021', 'category': 'chemistry', 'laureates': [{'id': '1002', 'firstname': 'Benjamin', 'surname': 'List', 'motivation': '\"for the development of asymmetric organocatalysis\"', 'share': '2'}, {'id': '1003', 'firstname': 'David', 'surname': 'MacMillan', 'motivation': '\"for the development of asymmetric organocatalysis\"', 'share': '2'}]}\n",
      "{\n",
      "    \"year\": \"2021\",\n",
      "    \"category\": \"chemistry\",\n",
      "    \"laureates\": [\n",
      "        {\n",
      "            \"id\": \"1002\",\n",
      "            \"firstname\": \"Benjamin\",\n",
      "            \"surname\": \"List\",\n",
      "            \"motivation\": \"\\\"for the development of asymmetric organocatalysis\\\"\",\n",
      "            \"share\": \"2\"\n",
      "        },\n",
      "        {\n",
      "            \"id\": \"1003\",\n",
      "            \"firstname\": \"David\",\n",
      "            \"surname\": \"MacMillan\",\n",
      "            \"motivation\": \"\\\"for the development of asymmetric organocatalysis\\\"\",\n",
      "            \"share\": \"2\"\n",
      "        }\n",
      "    ]\n",
      "}\n",
      "{\n",
      "    \"category\": \"chemistry\",\n",
      "    \"laureates\": [\n",
      "        {\n",
      "            \"firstname\": \"Benjamin\",\n",
      "            \"id\": \"1002\",\n",
      "            \"motivation\": \"\\\"for the development of asymmetric organocatalysis\\\"\",\n",
      "            \"share\": \"2\",\n",
      "            \"surname\": \"List\"\n",
      "        },\n",
      "        {\n",
      "            \"firstname\": \"David\",\n",
      "            \"id\": \"1003\",\n",
      "            \"motivation\": \"\\\"for the development of asymmetric organocatalysis\\\"\",\n",
      "            \"share\": \"2\",\n",
      "            \"surname\": \"MacMillan\"\n",
      "        }\n",
      "    ],\n",
      "    \"year\": \"2021\"\n",
      "}\n"
     ]
    }
   ],
   "source": [
    "import json\n",
    "import urllib\n",
    "from urllib.request import Request, urlopen\n",
    "import pandas as pd\n",
    "import sys\n",
    "\n",
    "urlTicker = Request(\"http://api.nobelprize.org/v1/prize.json\", headers={'User-Agent': 'Mozilla/5.0'})\n",
    "readTicker = urlopen(urlTicker).read()\n",
    "jsonTicker = json.loads(readTicker)\n",
    "\n",
    "print(jsonTicker.keys())\n",
    "print(jsonTicker['prizes'][0].keys())\n",
    "print(jsonTicker['prizes'][0])\n",
    "print( json.dumps(jsonTicker['prizes'][0], indent=4))\n",
    "#키(keys)를 기준으로 정렬\n",
    "print( json.dumps(jsonTicker['prizes'][0], indent=4, sort_keys=True))"
   ]
  },
  {
   "cell_type": "code",
   "execution_count": 67,
   "id": "e2e6b91d",
   "metadata": {},
   "outputs": [
    {
     "name": "stdout",
     "output_type": "stream",
     "text": [
      "<Element 'CATALOG' at 0x00000223C0B262C0>\n"
     ]
    }
   ],
   "source": [
    "import xml.etree.ElementTree as ET\n",
    "import sys \n",
    "from urllib.request import urlopen\n",
    "\n",
    "url = \"https://www.w3schools.com/xml/cd_catalog.xml\"\n",
    "response = urlopen(url).read()\n",
    "xtree = ET.fromstring(response)\n",
    "print(xtree)\n"
   ]
  },
  {
   "cell_type": "code",
   "execution_count": 68,
   "id": "c699a65a",
   "metadata": {},
   "outputs": [
    {
     "name": "stdout",
     "output_type": "stream",
     "text": [
      "[{'title': 'Empire Burlesque', 'artist': 'Bob Dylan', 'country': 'USA', 'company': 'Columbia', 'price': '10.90', 'year': '1985'}, {'title': 'Hide your heart', 'artist': 'Bonnie Tyler', 'country': 'UK', 'company': 'CBS Records', 'price': '9.90', 'year': '1988'}, {'title': 'Greatest Hits', 'artist': 'Dolly Parton', 'country': 'USA', 'company': 'RCA', 'price': '9.90', 'year': '1982'}, {'title': 'Still got the blues', 'artist': 'Gary Moore', 'country': 'UK', 'company': 'Virgin records', 'price': '10.20', 'year': '1990'}, {'title': 'Eros', 'artist': 'Eros Ramazzotti', 'country': 'EU', 'company': 'BMG', 'price': '9.90', 'year': '1997'}, {'title': 'One night only', 'artist': 'Bee Gees', 'country': 'UK', 'company': 'Polydor', 'price': '10.90', 'year': '1998'}, {'title': 'Sylvias Mother', 'artist': 'Dr.Hook', 'country': 'UK', 'company': 'CBS', 'price': '8.10', 'year': '1973'}, {'title': 'Maggie May', 'artist': 'Rod Stewart', 'country': 'UK', 'company': 'Pickwick', 'price': '8.50', 'year': '1990'}, {'title': 'Romanza', 'artist': 'Andrea Bocelli', 'country': 'EU', 'company': 'Polydor', 'price': '10.80', 'year': '1996'}, {'title': 'When a man loves a woman', 'artist': 'Percy Sledge', 'country': 'USA', 'company': 'Atlantic', 'price': '8.70', 'year': '1987'}, {'title': 'Black angel', 'artist': 'Savage Rose', 'country': 'EU', 'company': 'Mega', 'price': '10.90', 'year': '1995'}, {'title': '1999 Grammy Nominees', 'artist': 'Many', 'country': 'USA', 'company': 'Grammy', 'price': '10.20', 'year': '1999'}, {'title': 'For the good times', 'artist': 'Kenny Rogers', 'country': 'UK', 'company': 'Mucik Master', 'price': '8.70', 'year': '1995'}, {'title': 'Big Willie style', 'artist': 'Will Smith', 'country': 'USA', 'company': 'Columbia', 'price': '9.90', 'year': '1997'}, {'title': 'Tupelo Honey', 'artist': 'Van Morrison', 'country': 'UK', 'company': 'Polydor', 'price': '8.20', 'year': '1971'}, {'title': 'Soulsville', 'artist': 'Jorn Hoel', 'country': 'Norway', 'company': 'WEA', 'price': '7.90', 'year': '1996'}, {'title': 'The very best of', 'artist': 'Cat Stevens', 'country': 'UK', 'company': 'Island', 'price': '8.90', 'year': '1990'}, {'title': 'Stop', 'artist': 'Sam Brown', 'country': 'UK', 'company': 'A and M', 'price': '8.90', 'year': '1988'}, {'title': 'Bridge of Spies', 'artist': \"T'Pau\", 'country': 'UK', 'company': 'Siren', 'price': '7.90', 'year': '1987'}, {'title': 'Private Dancer', 'artist': 'Tina Turner', 'country': 'UK', 'company': 'Capitol', 'price': '8.90', 'year': '1983'}, {'title': 'Midt om natten', 'artist': 'Kim Larsen', 'country': 'EU', 'company': 'Medley', 'price': '7.80', 'year': '1983'}, {'title': 'Pavarotti Gala Concert', 'artist': 'Luciano Pavarotti', 'country': 'UK', 'company': 'DECCA', 'price': '9.90', 'year': '1991'}, {'title': 'The dock of the bay', 'artist': 'Otis Redding', 'country': 'USA', 'company': 'Stax Records', 'price': '7.90', 'year': '1968'}, {'title': 'Picture book', 'artist': 'Simply Red', 'country': 'EU', 'company': 'Elektra', 'price': '7.20', 'year': '1985'}, {'title': 'Red', 'artist': 'The Communards', 'country': 'UK', 'company': 'London', 'price': '7.80', 'year': '1987'}, {'title': 'Unchain my heart', 'artist': 'Joe Cocker', 'country': 'USA', 'company': 'EMI', 'price': '8.20', 'year': '1987'}]\n"
     ]
    }
   ],
   "source": [
    "rows = []\n",
    "# iterate through each node of the tree\n",
    "for node in xtree:\n",
    "    n_title = node.find(\"TITLE\").text\n",
    "    n_artist = node.find(\"ARTIST\").text\n",
    "    n_country = node.find(\"COUNTRY\").text\n",
    "    n_company = node.find(\"COMPANY\").text\n",
    "    n_price = node.find(\"PRICE\").text\n",
    "    n_year = node.find(\"YEAR\").text\n",
    "    rows.append({\"title\": n_title,\n",
    "            \"artist\": n_artist,\n",
    "            \"country\": n_country,\n",
    "            \"company\": n_company,\n",
    "            \"price\": n_price,\n",
    "            \"year\": n_year})\n",
    "print(rows)"
   ]
  },
  {
   "cell_type": "code",
   "execution_count": 79,
   "id": "7fec5069",
   "metadata": {},
   "outputs": [
    {
     "name": "stdout",
     "output_type": "stream",
     "text": [
      "<class 'pandas.core.frame.DataFrame'>\n",
      "RangeIndex: 26 entries, 0 to 25\n",
      "Data columns (total 6 columns):\n",
      " #   Column   Non-Null Count  Dtype \n",
      "---  ------   --------------  ----- \n",
      " 0   title    26 non-null     object\n",
      " 1   artist   26 non-null     object\n",
      " 2   country  26 non-null     object\n",
      " 3   company  26 non-null     object\n",
      " 4   price    26 non-null     object\n",
      " 5   year     26 non-null     object\n",
      "dtypes: object(6)\n",
      "memory usage: 1.3+ KB\n",
      "None\n",
      "                 title           artist country         company  price  year\n",
      "0     Empire Burlesque        Bob Dylan     USA        Columbia  10.90  1985\n",
      "1      Hide your heart     Bonnie Tyler      UK     CBS Records   9.90  1988\n",
      "2        Greatest Hits     Dolly Parton     USA             RCA   9.90  1982\n",
      "3  Still got the blues       Gary Moore      UK  Virgin records  10.20  1990\n",
      "4                 Eros  Eros Ramazzotti      EU             BMG   9.90  1997\n",
      "title      object\n",
      "artist     object\n",
      "country    object\n",
      "company    object\n",
      "price      object\n",
      "year       object\n",
      "dtype: object\n"
     ]
    }
   ],
   "source": [
    "#XML text data를 dict로 저장된 list를 pandas DataFrame으로 변환\n",
    "columns = [\"title\", \"artist\", \"country\", \"company\", \"price\", \"year\"]\n",
    "catalog_cd_df = pd.DataFrame(rows, columns = columns)\n",
    "print(catalog_cd_df.info())\n",
    "print(catalog_cd_df.head(5))\n",
    "#df.dtypes 로 각 칼럼의 데이터 형태를 확인 - 문자열 객체(string object)\n",
    "print(catalog_cd_df.dtypes)\n",
    "# astype()을 이용하여 칼럼 중에서 price는 float64, year는 int32로 변환\n",
    " \n",
    "\n"
   ]
  },
  {
   "cell_type": "code",
   "execution_count": 78,
   "id": "5df607aa",
   "metadata": {},
   "outputs": [
    {
     "name": "stdout",
     "output_type": "stream",
     "text": [
      "title       object\n",
      "artist      object\n",
      "country     object\n",
      "company     object\n",
      "price      float64\n",
      "year         int32\n",
      "dtype: object\n"
     ]
    }
   ],
   "source": [
    "catalog_cd_df = catalog_cd_df.astype({'price': np.float64, 'year': int})\n",
    "print(catalog_cd_df.dtypes)\n"
   ]
  },
  {
   "cell_type": "code",
   "execution_count": 73,
   "id": "54023e11",
   "metadata": {},
   "outputs": [
    {
     "data": {
      "text/plain": [
       "country\n",
       "EU        9.320000\n",
       "Norway    7.900000\n",
       "UK        8.984615\n",
       "USA       9.385714\n",
       "Name: price, dtype: float64"
      ]
     },
     "execution_count": 73,
     "metadata": {},
     "output_type": "execute_result"
    }
   ],
   "source": [
    "country_mean = catalog_cd_df.groupby('country').price.mean()\n",
    "country_mean\n"
   ]
  },
  {
   "cell_type": "code",
   "execution_count": 75,
   "id": "fd5b5ebf",
   "metadata": {},
   "outputs": [
    {
     "data": {
      "text/html": [
       "<div>\n",
       "<style scoped>\n",
       "    .dataframe tbody tr th:only-of-type {\n",
       "        vertical-align: middle;\n",
       "    }\n",
       "\n",
       "    .dataframe tbody tr th {\n",
       "        vertical-align: top;\n",
       "    }\n",
       "\n",
       "    .dataframe thead th {\n",
       "        text-align: right;\n",
       "    }\n",
       "</style>\n",
       "<table border=\"1\" class=\"dataframe\">\n",
       "  <thead>\n",
       "    <tr style=\"text-align: right;\">\n",
       "      <th></th>\n",
       "      <th>country</th>\n",
       "      <th>price</th>\n",
       "    </tr>\n",
       "  </thead>\n",
       "  <tbody>\n",
       "    <tr>\n",
       "      <th>0</th>\n",
       "      <td>EU</td>\n",
       "      <td>9.320000</td>\n",
       "    </tr>\n",
       "    <tr>\n",
       "      <th>1</th>\n",
       "      <td>Norway</td>\n",
       "      <td>7.900000</td>\n",
       "    </tr>\n",
       "    <tr>\n",
       "      <th>2</th>\n",
       "      <td>UK</td>\n",
       "      <td>8.984615</td>\n",
       "    </tr>\n",
       "    <tr>\n",
       "      <th>3</th>\n",
       "      <td>USA</td>\n",
       "      <td>9.385714</td>\n",
       "    </tr>\n",
       "  </tbody>\n",
       "</table>\n",
       "</div>"
      ],
      "text/plain": [
       "  country     price\n",
       "0      EU  9.320000\n",
       "1  Norway  7.900000\n",
       "2      UK  8.984615\n",
       "3     USA  9.385714"
      ]
     },
     "execution_count": 75,
     "metadata": {},
     "output_type": "execute_result"
    }
   ],
   "source": [
    "country_mean_df = pd.DataFrame(country_mean).reset_index()\n",
    "country_mean_df "
   ]
  },
  {
   "cell_type": "code",
   "execution_count": 77,
   "id": "f65d83ed",
   "metadata": {},
   "outputs": [
    {
     "data": {
      "image/png": "[encoded data removed]",
      "text/plain": [
       "<Figure size 432x288 with 1 Axes>"
      ]
     },
     "metadata": {
      "needs_background": "light"
     },
     "output_type": "display_data"
    }
   ],
   "source": [
    "import seaborn as sns\n",
    "import matplotlib.pyplot as plt\n",
    "sns.barplot(x='country', y='price', data=country_mean_df)\n",
    "plt.show()"
   ]
  },
  {
   "cell_type": "code",
   "execution_count": 93,
   "id": "ff1aaf71",
   "metadata": {},
   "outputs": [
    {
     "name": "stdout",
     "output_type": "stream",
     "text": [
      "<class 'pandas.core.frame.DataFrame'>\n",
      "Int64Index: 7 entries, 1 to 7\n",
      "Data columns (total 3 columns):\n",
      " #   Column                Non-Null Count  Dtype  \n",
      "---  ------                --------------  -----  \n",
      " 0   region                7 non-null      object \n",
      " 1   sales_representative  7 non-null      int64  \n",
      " 2   sales_amount          7 non-null      float64\n",
      "dtypes: float64(1), int64(1), object(1)\n",
      "memory usage: 224.0+ bytes\n",
      "None\n",
      "     region  sales_representative  sales_amount\n",
      "id                                             \n",
      "1     seoul                   510        1500.0\n",
      "2    inchon                   430        1260.0\n",
      "3     busan                   320        1090.0\n",
      "4   guangju                   180         550.0\n",
      "5     ulsan                   135         380.0\n",
      "6    sejong                   110         290.0\n",
      "7    jeunju                    83         235.0\n"
     ]
    }
   ],
   "source": [
    "df3 = pd.read_excel('./datas/sales_per_region.xlsx', sheet_name = 'Sheet1', header = 2,\n",
    "                     thousands = ',',\n",
    "                    dtype = {'region': str, 'sales_representative': np.int64, 'sales_amount': float},\n",
    "index_col = 'id' , comment = '#' , nrows=7)\n",
    "print(df3.info())\n",
    "print(df3)"
   ]
  },
  {
   "cell_type": "code",
   "execution_count": 94,
   "id": "f54fd70d",
   "metadata": {},
   "outputs": [
    {
     "name": "stdout",
     "output_type": "stream",
     "text": [
      "Writing sample3.txt\n"
     ]
    }
   ],
   "source": [
    "%%writefile sample3.txt\n",
    "c1 c2 c3 c4\n",
    "0.179181 -1.538472 1.347553 0.43381\n",
    "1.024209 0.087307 -1.281997 0.49265\n",
    "0.417899 -2.002308 0.255245 -1.10515"
   ]
  },
  {
   "cell_type": "code",
   "execution_count": 95,
   "id": "7c2dd0c4",
   "metadata": {},
   "outputs": [
    {
     "data": {
      "text/html": [
       "<div>\n",
       "<style scoped>\n",
       "    .dataframe tbody tr th:only-of-type {\n",
       "        vertical-align: middle;\n",
       "    }\n",
       "\n",
       "    .dataframe tbody tr th {\n",
       "        vertical-align: top;\n",
       "    }\n",
       "\n",
       "    .dataframe thead th {\n",
       "        text-align: right;\n",
       "    }\n",
       "</style>\n",
       "<table border=\"1\" class=\"dataframe\">\n",
       "  <thead>\n",
       "    <tr style=\"text-align: right;\">\n",
       "      <th></th>\n",
       "      <th>c1</th>\n",
       "      <th>c2</th>\n",
       "      <th>c3</th>\n",
       "      <th>c4</th>\n",
       "    </tr>\n",
       "  </thead>\n",
       "  <tbody>\n",
       "    <tr>\n",
       "      <th>0</th>\n",
       "      <td>0.179181</td>\n",
       "      <td>-1.538472</td>\n",
       "      <td>1.347553</td>\n",
       "      <td>0.43381</td>\n",
       "    </tr>\n",
       "    <tr>\n",
       "      <th>1</th>\n",
       "      <td>1.024209</td>\n",
       "      <td>0.087307</td>\n",
       "      <td>-1.281997</td>\n",
       "      <td>0.49265</td>\n",
       "    </tr>\n",
       "    <tr>\n",
       "      <th>2</th>\n",
       "      <td>0.417899</td>\n",
       "      <td>-2.002308</td>\n",
       "      <td>0.255245</td>\n",
       "      <td>-1.10515</td>\n",
       "    </tr>\n",
       "  </tbody>\n",
       "</table>\n",
       "</div>"
      ],
      "text/plain": [
       "         c1        c2        c3       c4\n",
       "0  0.179181 -1.538472  1.347553  0.43381\n",
       "1  1.024209  0.087307 -1.281997  0.49265\n",
       "2  0.417899 -2.002308  0.255245 -1.10515"
      ]
     },
     "execution_count": 95,
     "metadata": {},
     "output_type": "execute_result"
    }
   ],
   "source": [
    "df =pd.read_table('sample3.txt', sep='\\s+')\n",
    "df\n",
    " "
   ]
  },
  {
   "cell_type": "code",
   "execution_count": 96,
   "id": "f0bdf5d2",
   "metadata": {},
   "outputs": [],
   "source": [
    "df.to_csv('sample6.csv')"
   ]
  },
  {
   "cell_type": "code",
   "execution_count": 97,
   "id": "0e73f9d6",
   "metadata": {},
   "outputs": [],
   "source": [
    "df.to_csv('sample7.txt', sep='|')"
   ]
  },
  {
   "cell_type": "code",
   "execution_count": 98,
   "id": "f4a83fc1",
   "metadata": {},
   "outputs": [
    {
     "name": "stdout",
     "output_type": "stream",
     "text": [
      "Writing sample1.csv\n"
     ]
    }
   ],
   "source": [
    "%%writefile sample1.csv\n",
    "c1, c2, c3, c4\n",
    "0.179181, -1.538472, 1.347553, 0.43381\n",
    "1.024209, , -1.281997, 0.49265, 누락\n",
    "0.417899, -2.002308, 0.255245, -1.10515"
   ]
  },
  {
   "cell_type": "code",
   "execution_count": 109,
   "id": "9ad97610",
   "metadata": {},
   "outputs": [
    {
     "data": {
      "text/html": [
       "<div>\n",
       "<style scoped>\n",
       "    .dataframe tbody tr th:only-of-type {\n",
       "        vertical-align: middle;\n",
       "    }\n",
       "\n",
       "    .dataframe tbody tr th {\n",
       "        vertical-align: top;\n",
       "    }\n",
       "\n",
       "    .dataframe thead th {\n",
       "        text-align: right;\n",
       "    }\n",
       "</style>\n",
       "<table border=\"1\" class=\"dataframe\">\n",
       "  <thead>\n",
       "    <tr style=\"text-align: right;\">\n",
       "      <th></th>\n",
       "      <th>c1</th>\n",
       "      <th>c2</th>\n",
       "      <th>c3</th>\n",
       "      <th>c4</th>\n",
       "    </tr>\n",
       "  </thead>\n",
       "  <tbody>\n",
       "    <tr>\n",
       "      <th>0</th>\n",
       "      <td>0.179181</td>\n",
       "      <td>-1.538472</td>\n",
       "      <td>1.347553</td>\n",
       "      <td>0.43381</td>\n",
       "    </tr>\n",
       "    <tr>\n",
       "      <th>1</th>\n",
       "      <td>1.024209</td>\n",
       "      <td>누락</td>\n",
       "      <td>-1.281997</td>\n",
       "      <td>0.49265</td>\n",
       "    </tr>\n",
       "    <tr>\n",
       "      <th>2</th>\n",
       "      <td>0.417899</td>\n",
       "      <td>-2.002308</td>\n",
       "      <td>0.255245</td>\n",
       "      <td>-1.10515</td>\n",
       "    </tr>\n",
       "  </tbody>\n",
       "</table>\n",
       "</div>"
      ],
      "text/plain": [
       "         c1          c2        c3       c4\n",
       "0  0.179181   -1.538472  1.347553  0.43381\n",
       "1  1.024209        누락   -1.281997  0.49265\n",
       "2  0.417899   -2.002308  0.255245 -1.10515"
      ]
     },
     "execution_count": 109,
     "metadata": {},
     "output_type": "execute_result"
    }
   ],
   "source": [
    "df = pd.read_csv('sample1.csv', na_values=['누락'], encoding=\"utf8\")\n",
    "df"
   ]
  },
  {
   "cell_type": "code",
   "execution_count": 110,
   "id": "30f27cd5",
   "metadata": {},
   "outputs": [],
   "source": [
    "df.to_csv('sample2.csv', na_rep='누락')"
   ]
  },
  {
   "cell_type": "code",
   "execution_count": 111,
   "id": "fdeb605a",
   "metadata": {},
   "outputs": [],
   "source": [
    "df.to_csv('sample4.csv', index=False, header=False)\n"
   ]
  },
  {
   "cell_type": "code",
   "execution_count": 112,
   "id": "ff7dbdd3",
   "metadata": {},
   "outputs": [
    {
     "name": "stdout",
     "output_type": "stream",
     "text": [
      "     PassengerId  Survived  Pclass  \\\n",
      "0              1         0       3   \n",
      "1              2         1       1   \n",
      "2              3         1       3   \n",
      "3              4         1       1   \n",
      "4              5         0       3   \n",
      "..           ...       ...     ...   \n",
      "886          887         0       2   \n",
      "887          888         1       1   \n",
      "888          889         0       3   \n",
      "889          890         1       1   \n",
      "890          891         0       3   \n",
      "\n",
      "                                                  Name     Sex   Age  SibSp  \\\n",
      "0                              Braund, Mr. Owen Harris    male  22.0      1   \n",
      "1    Cumings, Mrs. John Bradley (Florence Briggs Th...  female  38.0      1   \n",
      "2                               Heikkinen, Miss. Laina  female  26.0      0   \n",
      "3         Futrelle, Mrs. Jacques Heath (Lily May Peel)  female  35.0      1   \n",
      "4                             Allen, Mr. William Henry    male  35.0      0   \n",
      "..                                                 ...     ...   ...    ...   \n",
      "886                              Montvila, Rev. Juozas    male  27.0      0   \n",
      "887                       Graham, Miss. Margaret Edith  female  19.0      0   \n",
      "888           Johnston, Miss. Catherine Helen \"Carrie\"  female   NaN      1   \n",
      "889                              Behr, Mr. Karl Howell    male  26.0      0   \n",
      "890                                Dooley, Mr. Patrick    male  32.0      0   \n",
      "\n",
      "     Parch            Ticket     Fare Cabin Embarked  \n",
      "0        0         A/5 21171   7.2500   NaN        S  \n",
      "1        0          PC 17599  71.2833   C85        C  \n",
      "2        0  STON/O2. 3101282   7.9250   NaN        S  \n",
      "3        0            113803  53.1000  C123        S  \n",
      "4        0            373450   8.0500   NaN        S  \n",
      "..     ...               ...      ...   ...      ...  \n",
      "886      0            211536  13.0000   NaN        S  \n",
      "887      0            112053  30.0000   B42        S  \n",
      "888      2        W./C. 6607  23.4500   NaN        S  \n",
      "889      0            111369  30.0000  C148        C  \n",
      "890      0            370376   7.7500   NaN        Q  \n",
      "\n",
      "[891 rows x 12 columns]\n"
     ]
    }
   ],
   "source": [
    "df = pd.read_csv(\"https://raw.githubusercontent.com/datascienceschool/docker_rpython/master/data/titanic.csv\")\n",
    "pd.set_option(\"display.max_rows\", 20) # 앞뒤로 모두 20행만 보여준다.\n",
    "print( df )"
   ]
  },
  {
   "cell_type": "code",
   "execution_count": 114,
   "id": "1272bf6b",
   "metadata": {},
   "outputs": [],
   "source": [
    "import cx_Oracle"
   ]
  },
  {
   "cell_type": "code",
   "execution_count": 117,
   "id": "91cd48e6",
   "metadata": {},
   "outputs": [
    {
     "name": "stdout",
     "output_type": "stream",
     "text": [
      "<cx_Oracle.Connection to c##scott@localhost/xe>\n"
     ]
    }
   ],
   "source": [
    "connection = cx_Oracle.connect('c##scott', 'oracle', 'localhost/xe')\n",
    "print(connection)"
   ]
  },
  {
   "cell_type": "code",
   "execution_count": 122,
   "id": "e70724cd",
   "metadata": {},
   "outputs": [
    {
     "name": "stdout",
     "output_type": "stream",
     "text": [
      "<cx_Oracle.Cursor on <cx_Oracle.Connection to c##scott@localhost/xe>>\n"
     ]
    }
   ],
   "source": [
    "cursor = connection.cursor()\n",
    "print(cursor)"
   ]
  },
  {
   "cell_type": "code",
   "execution_count": 126,
   "id": "f15c7dee",
   "metadata": {},
   "outputs": [
    {
     "name": "stdout",
     "output_type": "stream",
     "text": [
      "<cx_Oracle.Cursor on <cx_Oracle.Connection to c##scott@localhost/xe>>\n"
     ]
    }
   ],
   "source": [
    "cursor.execute(\"\"\"\n",
    "select *\n",
    "from emp\n",
    "where deptno = 10\"\"\" \n",
    ")\n",
    "print(cursor)"
   ]
  },
  {
   "cell_type": "code",
   "execution_count": 127,
   "id": "680e4832",
   "metadata": {},
   "outputs": [
    {
     "name": "stdout",
     "output_type": "stream",
     "text": [
      "테스트 이름 리스트 :  (7782, 'CLARK', 'MANAGER', 7839, datetime.datetime(1981, 6, 9, 0, 0), 2450.0, None, 10)\n",
      "테스트 이름 리스트 :  (7839, 'KING', 'PRESIDENT', None, datetime.datetime(1981, 11, 17, 0, 0), 5000.0, None, 10)\n",
      "테스트 이름 리스트 :  (7934, 'MILLER', 'CLERK', 7782, datetime.datetime(1982, 1, 23, 0, 0), 1300.0, None, 10)\n",
      "테스트 이름 리스트 :  (7000, '홍길동', None, None, None, 3000.0, None, 10)\n"
     ]
    }
   ],
   "source": [
    "for row in cursor:\n",
    "    print(\"테스트 이름 리스트 : \", row)"
   ]
  },
  {
   "cell_type": "code",
   "execution_count": 128,
   "id": "eedc32c6",
   "metadata": {},
   "outputs": [
    {
     "name": "stdout",
     "output_type": "stream",
     "text": [
      "Cidx1           A           B      \n",
      "Cidx2           C     D     C     D\n",
      "Ridx1 Ridx2                        \n",
      "M     id_1  -0.51 -0.44 -1.25  0.78\n",
      "      id_2  -1.61 -0.21 -0.90  0.39\n",
      "      id_3  -0.51 -1.18 -0.03  0.43\n",
      "F     id_1   0.07  0.30 -0.63 -0.36\n",
      "      id_2  -0.67 -0.36 -0.81 -1.73\n",
      "      id_3   0.18 -0.40 -1.63  0.46\n"
     ]
    }
   ],
   "source": [
    "df4 = pd.DataFrame(np.round(np.random.randn(6, 4), 2),\n",
    "columns=[[\"A\", \"A\", \"B\", \"B\"], [\"C\", \"D\", \"C\", \"D\"]],\n",
    "index=[[\"M\", \"M\", \"M\", \"F\", \"F\", \"F\"], [\"id_\" + str(i + 1) for i in range(3)] * 2])\n",
    "df4.columns.names = [\"Cidx1\", \"Cidx2\"]\n",
    "df4.index.names = [\"Ridx1\", \"Ridx2\"]\n",
    "print(df4)"
   ]
  },
  {
   "cell_type": "code",
   "execution_count": 129,
   "id": "6bd29d9c",
   "metadata": {},
   "outputs": [
    {
     "name": "stdout",
     "output_type": "stream",
     "text": [
      "Cidx1           A           B      \n",
      "Cidx2           C     D     C     D\n",
      "Ridx2 Ridx1                        \n",
      "id_1  M     -0.51 -0.44 -1.25  0.78\n",
      "id_2  M     -1.61 -0.21 -0.90  0.39\n",
      "id_3  M     -0.51 -1.18 -0.03  0.43\n",
      "id_1  F      0.07  0.30 -0.63 -0.36\n",
      "id_2  F     -0.67 -0.36 -0.81 -1.73\n",
      "id_3  F      0.18 -0.40 -1.63  0.46\n",
      "Cidx2           C     D     C     D\n",
      "Cidx1           A     A     B     B\n",
      "Ridx1 Ridx2                        \n",
      "M     id_1  -0.51 -0.44 -1.25  0.78\n",
      "      id_2  -1.61 -0.21 -0.90  0.39\n",
      "      id_3  -0.51 -1.18 -0.03  0.43\n",
      "F     id_1   0.07  0.30 -0.63 -0.36\n",
      "      id_2  -0.67 -0.36 -0.81 -1.73\n",
      "      id_3   0.18 -0.40 -1.63  0.46\n"
     ]
    }
   ],
   "source": [
    "df5 = df4.swaplevel(\"Ridx1\", \"Ridx2\")\n",
    "print(df5)\n",
    "df6 = df4.swaplevel(\"Cidx1\", \"Cidx2\", 1)\n",
    "print(df6)\n"
   ]
  },
  {
   "cell_type": "code",
   "execution_count": 131,
   "id": "534c9ccf",
   "metadata": {},
   "outputs": [
    {
     "name": "stdout",
     "output_type": "stream",
     "text": [
      "Cidx1           A           B      \n",
      "Cidx2           C     D     C     D\n",
      "Ridx2 Ridx1                        \n",
      "id_1  F      0.07  0.30 -0.63 -0.36\n",
      "      M     -0.51 -0.44 -1.25  0.78\n",
      "id_2  F     -0.67 -0.36 -0.81 -1.73\n",
      "      M     -1.61 -0.21 -0.90  0.39\n",
      "id_3  F      0.18 -0.40 -1.63  0.46\n",
      "      M     -0.51 -1.18 -0.03  0.43\n"
     ]
    }
   ],
   "source": [
    "print(df5.sort_index(level=0))\n"
   ]
  },
  {
   "cell_type": "code",
   "execution_count": 132,
   "id": "bdbda956",
   "metadata": {},
   "outputs": [
    {
     "name": "stdout",
     "output_type": "stream",
     "text": [
      "Cidx2           C           D      \n",
      "Cidx1           A     B     A     B\n",
      "Ridx1 Ridx2                        \n",
      "M     id_1  -0.51 -1.25 -0.44  0.78\n",
      "      id_2  -1.61 -0.90 -0.21  0.39\n",
      "      id_3  -0.51 -0.03 -1.18  0.43\n",
      "F     id_1   0.07 -0.63  0.30 -0.36\n",
      "      id_2  -0.67 -0.81 -0.36 -1.73\n",
      "      id_3   0.18 -1.63 -0.40  0.46\n"
     ]
    }
   ],
   "source": [
    "print(df6.sort_index(axis=1, level=0))"
   ]
  },
  {
   "cell_type": "code",
   "execution_count": 153,
   "id": "b21fae75",
   "metadata": {},
   "outputs": [
    {
     "name": "stdout",
     "output_type": "stream",
     "text": [
      "(10, 3)\n",
      "<class 'numpy.ndarray'>\n"
     ]
    }
   ],
   "source": [
    "df_score3 = np.random.randint(50, 100, [10,3])\n",
    "print(df_score3.shape)\n",
    "print(type(df_score3))\n",
    "df_score3 = pd.DataFrame(df_score3, columns=['국어', '영어', '수학'] ,\n",
    "                                     index=[[\"A\", \"A\", \"A\", \"A\", \"A\", \"B\", \"B\", \"B\", \"B\", \"B\"],  [i + 1 for i in range(5)]*2 ])\n",
    "\n"
   ]
  },
  {
   "cell_type": "code",
   "execution_count": 154,
   "id": "4c8ca049",
   "metadata": {},
   "outputs": [
    {
     "name": "stdout",
     "output_type": "stream",
     "text": [
      "      국어  영어  수학\n",
      "반 번호            \n",
      "A 1   56  71  81\n",
      "  2   63  57  74\n",
      "  3   65  91  68\n",
      "  4   90  65  61\n",
      "  5   88  97  79\n",
      "B 1   51  81  94\n",
      "  2   74  74  53\n",
      "  3   68  97  53\n",
      "  4   92  62  88\n",
      "  5   85  72  55\n"
     ]
    }
   ],
   "source": [
    "df_score3.index.names=[\"반\", \"번호\"]\n",
    "print(df_score3)"
   ]
  },
  {
   "cell_type": "code",
   "execution_count": 155,
   "id": "d9fb9b5a",
   "metadata": {
    "scrolled": true
   },
   "outputs": [
    {
     "name": "stdout",
     "output_type": "stream",
     "text": [
      "   반  번호  국어  영어  수학\n",
      "0  A   1  56  71  81\n",
      "1  A   2  63  57  74\n",
      "2  A   3  65  91  68\n",
      "3  A   4  90  65  61\n",
      "4  A   5  88  97  79\n",
      "5  B   1  51  81  94\n",
      "6  B   2  74  74  53\n",
      "7  B   3  68  97  53\n",
      "8  B   4  92  62  88\n",
      "9  B   5  85  72  55\n"
     ]
    }
   ],
   "source": [
    "df_score3 = df_score3.reset_index()\n",
    "print(df_score3)"
   ]
  },
  {
   "cell_type": "code",
   "execution_count": 141,
   "id": "2197ab2e",
   "metadata": {},
   "outputs": [
    {
     "name": "stdout",
     "output_type": "stream",
     "text": [
      "      국어  영어  수학\n",
      "반 번호            \n",
      "A 1   77  64  91\n",
      "  2   51  86  60\n",
      "  3   72  93  90\n",
      "  4   61  52  66\n",
      "  5   82  50  88\n",
      "B 1   69  96  92\n",
      "  2   90  63  80\n",
      "  3   74  52  53\n",
      "  4   80  84  93\n",
      "  5   63  98  90\n"
     ]
    }
   ],
   "source": [
    "df_score4 = df_score3.set_index([\"반\", \"번호\"] )\n",
    "print(df_score4)"
   ]
  },
  {
   "cell_type": "code",
   "execution_count": 156,
   "id": "f7816ee5",
   "metadata": {},
   "outputs": [
    {
     "name": "stdout",
     "output_type": "stream",
     "text": [
      "      국어  영어  수학        평균 \n",
      "반 번호                       \n",
      "A 1   77  64  91  77.333333\n",
      "  2   51  86  60  65.666667\n",
      "  3   72  93  90  85.000000\n",
      "  4   61  52  66  59.666667\n",
      "  5   82  50  88  73.333333\n",
      "B 1   69  96  92  85.666667\n",
      "  2   90  63  80  77.666667\n",
      "  3   74  52  53  59.666667\n",
      "  4   80  84  93  85.666667\n",
      "  5   63  98  90  83.666667\n"
     ]
    }
   ],
   "source": [
    "df_score4[\"평균 \"] = df_score4.mean(axis=1)\n",
    "print(df_score4)"
   ]
  },
  {
   "cell_type": "code",
   "execution_count": 158,
   "id": "4d932c91",
   "metadata": {},
   "outputs": [
    {
     "name": "stdout",
     "output_type": "stream",
     "text": [
      "    국어      영어      수학    \n",
      "반    A   B   A   B   A   B\n",
      "번호                        \n",
      "1   56  51  71  81  81  94\n",
      "2   63  74  57  74  74  53\n",
      "3   65  68  91  97  68  53\n",
      "4   90  92  65  62  61  88\n",
      "5   88  85  97  72  79  55\n"
     ]
    }
   ],
   "source": [
    "df_score5 = df_score3.set_index([\"반\", \"번호\"] ).unstack(\"반\")\n",
    "print(df_score5)"
   ]
  },
  {
   "cell_type": "code",
   "execution_count": 159,
   "id": "45fb5029",
   "metadata": {},
   "outputs": [
    {
     "name": "stdout",
     "output_type": "stream",
     "text": [
      "       국어          영어          수학      \n",
      "반       A     B     A     B     A     B\n",
      "번호                                     \n",
      "1    56.0  51.0  71.0  81.0  81.0  94.0\n",
      "2    63.0  74.0  57.0  74.0  74.0  53.0\n",
      "3    65.0  68.0  91.0  97.0  68.0  53.0\n",
      "4    90.0  92.0  65.0  62.0  61.0  88.0\n",
      "5    88.0  85.0  97.0  72.0  79.0  55.0\n",
      "AVG  72.4  74.0  76.2  77.2  72.6  68.6\n"
     ]
    }
   ],
   "source": [
    "df_score5.loc[(\"AVG\"), :] = df_score5.mean()\n",
    "print(df_score5)"
   ]
  },
  {
   "cell_type": "code",
   "execution_count": 161,
   "id": "53aeb7dd",
   "metadata": {},
   "outputs": [
    {
     "name": "stdout",
     "output_type": "stream",
     "text": [
      "   고객번호   이름\n",
      "0  1001   둘리\n",
      "1  1002  도우너\n",
      "2  1003   또치\n",
      "3  1004   길동\n",
      "4  1005   희동\n",
      "5  1006  마이콜\n",
      "6  1007   영희\n",
      "   고객번호      금액\n",
      "0  1001   10000\n",
      "1  1001   20000\n",
      "2  1005   15000\n",
      "3  1006    5000\n",
      "4  1008  100000\n",
      "5  1001   30000\n"
     ]
    }
   ],
   "source": [
    "df1 = pd.DataFrame({ '고객번호': [1001, 1002, 1003, 1004, 1005, 1006, 1007],\n",
    "'이름': ['둘리', '도우너', '또치', '길동', '희동', '마이콜', '영희']\n",
    "}, columns=['고객번호', '이름'])\n",
    "print(df1)\n",
    "df2 = pd.DataFrame({ '고객번호': [1001, 1001, 1005, 1006, 1008, 1001],\n",
    "'금액': [10000, 20000, 15000, 5000, 100000, 30000]\n",
    "}, columns=['고객번호', '금액'])\n",
    "print(df2)\n"
   ]
  },
  {
   "cell_type": "code",
   "execution_count": 162,
   "id": "2731b6e4",
   "metadata": {},
   "outputs": [
    {
     "name": "stdout",
     "output_type": "stream",
     "text": [
      "   고객번호   이름     금액\n",
      "0  1001   둘리  10000\n",
      "1  1001   둘리  20000\n",
      "2  1001   둘리  30000\n",
      "3  1005   희동  15000\n",
      "4  1006  마이콜   5000\n"
     ]
    }
   ],
   "source": [
    "print(pd.merge(df1, df2))\n"
   ]
  },
  {
   "cell_type": "code",
   "execution_count": 163,
   "id": "c6feb746",
   "metadata": {},
   "outputs": [
    {
     "name": "stdout",
     "output_type": "stream",
     "text": [
      "   고객번호   이름        금액\n",
      "0  1001   둘리   10000.0\n",
      "1  1001   둘리   20000.0\n",
      "2  1001   둘리   30000.0\n",
      "3  1002  도우너       NaN\n",
      "4  1003   또치       NaN\n",
      "5  1004   길동       NaN\n",
      "6  1005   희동   15000.0\n",
      "7  1006  마이콜    5000.0\n",
      "8  1007   영희       NaN\n",
      "9  1008  NaN  100000.0\n"
     ]
    }
   ],
   "source": [
    "print(pd.merge(df1, df2, how='outer'))\n"
   ]
  },
  {
   "cell_type": "code",
   "execution_count": 166,
   "id": "f2695d8b",
   "metadata": {},
   "outputs": [
    {
     "name": "stdout",
     "output_type": "stream",
     "text": [
      "   고객번호   이름       금액\n",
      "0  1001   둘리  10000.0\n",
      "1  1001   둘리  20000.0\n",
      "2  1001   둘리  30000.0\n",
      "3  1002  도우너      NaN\n",
      "4  1003   또치      NaN\n",
      "5  1004   길동      NaN\n",
      "6  1005   희동  15000.0\n",
      "7  1006  마이콜   5000.0\n",
      "8  1007   영희      NaN\n"
     ]
    }
   ],
   "source": [
    "print(pd.merge(df1, df2, how='left'))\n"
   ]
  },
  {
   "cell_type": "code",
   "execution_count": null,
   "id": "0ec21148",
   "metadata": {},
   "outputs": [],
   "source": []
  },
  {
   "cell_type": "code",
   "execution_count": 165,
   "id": "fe0ea0ab",
   "metadata": {},
   "outputs": [
    {
     "name": "stdout",
     "output_type": "stream",
     "text": [
      "   고객번호   이름      금액\n",
      "0  1001   둘리   10000\n",
      "1  1001   둘리   20000\n",
      "2  1005   희동   15000\n",
      "3  1006  마이콜    5000\n",
      "4  1008  NaN  100000\n",
      "5  1001   둘리   30000\n"
     ]
    }
   ],
   "source": [
    "print(pd.merge(df1, df2, how='right'))"
   ]
  },
  {
   "cell_type": "code",
   "execution_count": 167,
   "id": "00765728",
   "metadata": {},
   "outputs": [
    {
     "name": "stdout",
     "output_type": "stream",
     "text": [
      "   도시    연도       인구\n",
      "0  서울  2000  9853972\n",
      "1  서울  2005  9762546\n",
      "2  서울  2010  9631482\n",
      "3  부산  2000  3655437\n",
      "4  부산  2005  3512547\n",
      "         데이터1  데이터2\n",
      "부산 2000     0     1\n",
      "   2005     2     3\n",
      "서울 2000     4     5\n",
      "   2005     6     7\n",
      "   2010     8     9\n",
      "   2015    10    11\n"
     ]
    }
   ],
   "source": [
    "df1 = pd.DataFrame({ '도시': ['서울', '서울', '서울', '부산', '부산'],\n",
    "'연도': [2000, 2005, 2010, 2000, 2005],\n",
    "'인구': [9853972, 9762546, 9631482, 3655437, 3512547]})\n",
    "print(df1)\n",
    "df2 = pd.DataFrame( np.arange(12).reshape((6, 2)),\n",
    "index=[['부산', '부산', '서울', '서울', '서울', '서울'],\n",
    "[2000, 2005, 2000, 2005, 2010, 2015]],\n",
    "columns=['데이터1', '데이터2'])\n",
    "print(df2)\n"
   ]
  },
  {
   "cell_type": "code",
   "execution_count": 168,
   "id": "f2470810",
   "metadata": {},
   "outputs": [
    {
     "name": "stdout",
     "output_type": "stream",
     "text": [
      "   도시    연도       인구  데이터1  데이터2\n",
      "0  서울  2000  9853972     4     5\n",
      "1  서울  2005  9762546     6     7\n",
      "2  서울  2010  9631482     8     9\n",
      "3  부산  2000  3655437     0     1\n",
      "4  부산  2005  3512547     2     3\n"
     ]
    }
   ],
   "source": [
    "print(pd.merge(df1, df2, left_on=['도시', '연도'], right_index=True))\n",
    "#from  df1, df2\n",
    "#where (df1.도시, df1.연도) = (df2.행인덱스값)"
   ]
  },
  {
   "cell_type": "code",
   "execution_count": null,
   "id": "7b5d58c0",
   "metadata": {},
   "outputs": [],
   "source": []
  },
  {
   "cell_type": "code",
   "execution_count": null,
   "id": "87d1f22e",
   "metadata": {},
   "outputs": [],
   "source": []
  },
  {
   "cell_type": "code",
   "execution_count": null,
   "id": "8cbca187",
   "metadata": {},
   "outputs": [],
   "source": []
  },
  {
   "cell_type": "code",
   "execution_count": null,
   "id": "7bfebd1b",
   "metadata": {},
   "outputs": [],
   "source": []
  },
  {
   "cell_type": "code",
   "execution_count": null,
   "id": "c1f09b4c",
   "metadata": {},
   "outputs": [],
   "source": []
  },
  {
   "cell_type": "code",
   "execution_count": null,
   "id": "53ebe02a",
   "metadata": {},
   "outputs": [],
   "source": []
  },
  {
   "cell_type": "code",
   "execution_count": null,
   "id": "1683064b",
   "metadata": {},
   "outputs": [],
   "source": []
  },
  {
   "cell_type": "code",
   "execution_count": null,
   "id": "74d28426",
   "metadata": {},
   "outputs": [],
   "source": []
  },
  {
   "cell_type": "code",
   "execution_count": null,
   "id": "90ac76c0",
   "metadata": {},
   "outputs": [],
   "source": []
  },
  {
   "cell_type": "code",
   "execution_count": null,
   "id": "61056967",
   "metadata": {},
   "outputs": [],
   "source": []
  },
  {
   "cell_type": "code",
   "execution_count": null,
   "id": "86b33442",
   "metadata": {},
   "outputs": [],
   "source": []
  },
  {
   "cell_type": "code",
   "execution_count": null,
   "id": "54825c30",
   "metadata": {},
   "outputs": [],
   "source": []
  },
  {
   "cell_type": "code",
   "execution_count": null,
   "id": "74415d34",
   "metadata": {},
   "outputs": [],
   "source": []
  },
  {
   "cell_type": "code",
   "execution_count": null,
   "id": "15acdddf",
   "metadata": {},
   "outputs": [],
   "source": []
  },
  {
   "cell_type": "code",
   "execution_count": null,
   "id": "454f2f80",
   "metadata": {},
   "outputs": [],
   "source": []
  },
  {
   "cell_type": "code",
   "execution_count": null,
   "id": "5131416d",
   "metadata": {},
   "outputs": [],
   "source": []
  },
  {
   "cell_type": "code",
   "execution_count": null,
   "id": "d077c787",
   "metadata": {},
   "outputs": [],
   "source": []
  },
  {
   "cell_type": "code",
   "execution_count": null,
   "id": "8d2894c1",
   "metadata": {},
   "outputs": [],
   "source": []
  },
  {
   "cell_type": "code",
   "execution_count": null,
   "id": "aec77369",
   "metadata": {},
   "outputs": [],
   "source": []
  },
  {
   "cell_type": "code",
   "execution_count": null,
   "id": "d2b075b8",
   "metadata": {},
   "outputs": [],
   "source": []
  },
  {
   "cell_type": "code",
   "execution_count": null,
   "id": "0ca77022",
   "metadata": {},
   "outputs": [],
   "source": []
  }
 ],
 "metadata": {
  "kernelspec": {
   "display_name": "Python 3 (ipykernel)",
   "language": "python",
   "name": "python3"
  },
  "language_info": {
   "codemirror_mode": {
    "name": "ipython",
    "version": 3
   },
   "file_extension": ".py",
   "mimetype": "text/x-python",
   "name": "python",
   "nbconvert_exporter": "python",
   "pygments_lexer": "ipython3",
   "version": "3.9.12"
  }
 },
 "nbformat": 4,
 "nbformat_minor": 5
}
