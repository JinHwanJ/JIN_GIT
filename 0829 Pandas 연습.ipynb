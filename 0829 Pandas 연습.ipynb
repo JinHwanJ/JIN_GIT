{
 "cells": [
  {
   "cell_type": "code",
   "execution_count": 1,
   "id": "2c94cc1f",
   "metadata": {},
   "outputs": [
    {
     "data": {
      "text/plain": [
       "'1.4.2'"
      ]
     },
     "execution_count": 1,
     "metadata": {},
     "output_type": "execute_result"
    }
   ],
   "source": [
    "#Q. pandas 버전 확인\n",
    "\n",
    "import pandas as pd\n",
    "pd.__version__"
   ]
  },
  {
   "cell_type": "code",
   "execution_count": 5,
   "id": "084d1f88",
   "metadata": {
    "scrolled": true
   },
   "outputs": [
    {
     "name": "stdout",
     "output_type": "stream",
     "text": [
      "['a', 'b', 'c', 'e', 'd', 'f', 'g', 'h', 'i', 'j', 'k', 'l', 'm', 'n', 'o', 'p', 'q', 'r', 's', 't', 'u', 'v', 'w', 'x', 'y', 'z']\n",
      "[ 0  1  2  3  4  5  6  7  8  9 10 11 12 13 14 15 16 17 18 19 20 21 22 23\n",
      " 24 25]\n",
      "{'a': 0, 'b': 1, 'c': 2, 'e': 3, 'd': 4, 'f': 5, 'g': 6, 'h': 7, 'i': 8, 'j': 9, 'k': 10, 'l': 11, 'm': 12, 'n': 13, 'o': 14, 'p': 15, 'q': 16, 'r': 17, 's': 18, 't': 19, 'u': 20, 'v': 21, 'w': 22, 'x': 23, 'y': 24, 'z': 25}\n"
     ]
    }
   ],
   "source": [
    "#Q. 다음의 list, ndarray, dict를  pandas의 Series 객체로 생성하시오i\n",
    "\n",
    "import numpy as np\n",
    "mylist = list('abcedfghijklmnopqrstuvwxyz')\n",
    "print(mylist)\n",
    "myarr = np.arange(26)\n",
    "print(myarr)\n",
    "mydict = dict(zip(mylist, myarr))\n"
   ]
  },
  {
   "cell_type": "code",
   "execution_count": 7,
   "id": "e162cba4",
   "metadata": {},
   "outputs": [
    {
     "name": "stdout",
     "output_type": "stream",
     "text": [
      "a     0\n",
      "b     1\n",
      "c     2\n",
      "e     3\n",
      "d     4\n",
      "f     5\n",
      "g     6\n",
      "h     7\n",
      "i     8\n",
      "j     9\n",
      "k    10\n",
      "l    11\n",
      "m    12\n",
      "n    13\n",
      "o    14\n",
      "p    15\n",
      "q    16\n",
      "r    17\n",
      "s    18\n",
      "t    19\n",
      "u    20\n",
      "v    21\n",
      "w    22\n",
      "x    23\n",
      "y    24\n",
      "z    25\n",
      "dtype: int32\n"
     ]
    }
   ],
   "source": [
    "s = pd.Series(mydict)\n",
    "print(s)"
   ]
  },
  {
   "cell_type": "code",
   "execution_count": 12,
   "id": "52392909",
   "metadata": {},
   "outputs": [
    {
     "name": "stdout",
     "output_type": "stream",
     "text": [
      "   a  b  c  e  d  f  g  h  i  j  ...   q   r   s   t   u   v   w   x   y   z\n",
      "0  0  1  2  3  4  5  6  7  8  9  ...  16  17  18  19  20  21  22  23  24  25\n",
      "\n",
      "[1 rows x 26 columns]\n"
     ]
    }
   ],
   "source": [
    "#Q.  시리즈의 인덱스를 데이터 프레임의 열로 변환하시오\n",
    "\n",
    "\n",
    "mylist = list('abcedfghijklmnopqrstuvwxyz')\n",
    "myarr = np.arange(26)\n",
    "mydict = dict(zip(mylist, myarr))\n",
    "ser = pd.Series(mydict)\n",
    "\n",
    "\n",
    "ser2 = pd.DataFrame(mydict,index=[0])\n",
    "print(ser2)"
   ]
  },
  {
   "cell_type": "code",
   "execution_count": 23,
   "id": "6a3f851b",
   "metadata": {
    "scrolled": true
   },
   "outputs": [
    {
     "name": "stdout",
     "output_type": "stream",
     "text": [
      "0      a\n",
      "1      b\n",
      "2      c\n",
      "3      e\n",
      "4      d\n",
      "5      f\n",
      "6      g\n",
      "7      h\n",
      "8      i\n",
      "9      j\n",
      "10     k\n",
      "11     l\n",
      "12     m\n",
      "13     n\n",
      "14     o\n",
      "15     p\n",
      "16     q\n",
      "17     r\n",
      "18     s\n",
      "19     t\n",
      "20     u\n",
      "21     v\n",
      "22     w\n",
      "23     x\n",
      "24     y\n",
      "25     z\n",
      "0      0\n",
      "1      1\n",
      "2      2\n",
      "3      3\n",
      "4      4\n",
      "5      5\n",
      "6      6\n",
      "7      7\n",
      "8      8\n",
      "9      9\n",
      "10    10\n",
      "11    11\n",
      "12    12\n",
      "13    13\n",
      "14    14\n",
      "15    15\n",
      "16    16\n",
      "17    17\n",
      "18    18\n",
      "19    19\n",
      "20    20\n",
      "21    21\n",
      "22    22\n",
      "23    23\n",
      "24    24\n",
      "25    25\n",
      "dtype: object\n"
     ]
    }
   ],
   "source": [
    "#Q. ser1과 ser2를 결합하여 데이터 프레임을 생성하시오\n",
    "\n",
    "import numpy as np\n",
    "ser1 = pd.Series(list('abcedfghijklmnopqrstuvwxyz'))\n",
    "ser2 = pd.Series(np.arange(26))\n",
    "ser3 = pd.concat([ser1,ser2])\n",
    "print(ser3)"
   ]
  },
  {
   "cell_type": "code",
   "execution_count": 45,
   "id": "4443197e",
   "metadata": {},
   "outputs": [
    {
     "name": "stdout",
     "output_type": "stream",
     "text": [
      "   알파벳\n",
      "0    a\n",
      "1    b\n",
      "2    c\n",
      "3    e\n",
      "4    d\n",
      "5    f\n",
      "6    g\n",
      "7    h\n",
      "8    i\n",
      "9    j\n",
      "10   k\n",
      "11   l\n",
      "12   m\n",
      "13   n\n",
      "14   o\n",
      "15   p\n",
      "16   q\n",
      "17   r\n",
      "18   s\n",
      "19   t\n",
      "20   u\n",
      "21   v\n",
      "22   w\n",
      "23   x\n",
      "24   y\n",
      "25   z\n"
     ]
    }
   ],
   "source": [
    "#Q. Series에 '알파벳'이라고 부르는 이름을 지정하시오\n",
    "\n",
    "\n",
    "ser = pd.Series(list('abcedfghijklmnopqrstuvwxyz'))\n",
    "ser5 = pd.DataFrame(ser, columns=[\"알파벳\"])\n",
    "print(ser5)"
   ]
  },
  {
   "cell_type": "code",
   "execution_count": 49,
   "id": "2e3f2f41",
   "metadata": {},
   "outputs": [
    {
     "name": "stdout",
     "output_type": "stream",
     "text": [
      "0    3\n",
      "1    3\n",
      "2    3\n",
      "3    3\n",
      "4    3\n",
      "dtype: int64\n"
     ]
    }
   ],
   "source": [
    "#Q. Series ser1에서 Series ser1에 있는 항목을 제거하시오\n",
    "\n",
    "ser1 = pd.Series([1, 2, 3, 4, 5])\n",
    "ser2 = pd.Series([4, 5, 6, 7, 8])\n",
    "\n",
    "ser3 = ser2 - ser1\n",
    "print(ser3)"
   ]
  },
  {
   "cell_type": "code",
   "execution_count": null,
   "id": "8e94a345",
   "metadata": {},
   "outputs": [],
   "source": []
  }
 ],
 "metadata": {
  "kernelspec": {
   "display_name": "Python 3 (ipykernel)",
   "language": "python",
   "name": "python3"
  },
  "language_info": {
   "codemirror_mode": {
    "name": "ipython",
    "version": 3
   },
   "file_extension": ".py",
   "mimetype": "text/x-python",
   "name": "python",
   "nbconvert_exporter": "python",
   "pygments_lexer": "ipython3",
   "version": "3.9.12"
  }
 },
 "nbformat": 4,
 "nbformat_minor": 5
}
