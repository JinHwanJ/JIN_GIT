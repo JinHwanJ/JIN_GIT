{
 "cells": [
  {
   "cell_type": "code",
   "execution_count": 13,
   "id": "01f630f3",
   "metadata": {},
   "outputs": [
    {
     "name": "stdout",
     "output_type": "stream",
     "text": [
      "    나이 성별   학교\n",
      "진현  18  남  김천고\n",
      "민지  19  여  울산고\n",
      "1839259903552\n"
     ]
    }
   ],
   "source": [
    "import pandas as pd\n",
    "\n",
    "df = pd.DataFrame([[18, '남','김천고'], [19, '여', '울산고']],\n",
    "                 index=['진현', '민지'],\n",
    "                 columns=['나이', '성별', '학교'])\n",
    "print(df)\n",
    "print(id(df))"
   ]
  },
  {
   "cell_type": "code",
   "execution_count": 6,
   "id": "9613d9ce",
   "metadata": {},
   "outputs": [
    {
     "name": "stdout",
     "output_type": "stream",
     "text": [
      "    연령 남녀   소속\n",
      "진현  18  남  김천고\n",
      "민지  19  여  울산고\n",
      "1839143825856\n"
     ]
    }
   ],
   "source": [
    "df.rename(columns={'나이':'연령','성별':'남녀','학교':'소속'},inplace=True)\n",
    "print(df)\n",
    "print(id(df))"
   ]
  },
  {
   "cell_type": "code",
   "execution_count": 8,
   "id": "7e0b04e9",
   "metadata": {},
   "outputs": [
    {
     "name": "stdout",
     "output_type": "stream",
     "text": [
      "      연령 남녀   소속\n",
      "학생`1  18  남  김천고\n",
      "학생2   19  여  울산고\n",
      "1839174571824\n"
     ]
    }
   ],
   "source": [
    "new_df= df.rename(index={'진현':'학생`1', '민지':'학생2'})\n",
    "print(new_df)\n",
    "print(id(new_df))"
   ]
  },
  {
   "cell_type": "code",
   "execution_count": 9,
   "id": "bcba2e2d",
   "metadata": {},
   "outputs": [
    {
     "name": "stdout",
     "output_type": "stream",
     "text": [
      "    연령 남녀   소속\n",
      "진현  18  남  김천고\n",
      "민지  19  여  울산고\n"
     ]
    }
   ],
   "source": [
    "print(df)"
   ]
  },
  {
   "cell_type": "code",
   "execution_count": 14,
   "id": "0d0de6f1",
   "metadata": {},
   "outputs": [
    {
     "ename": "KeyError",
     "evalue": "\"['진현'] not found in axis\"",
     "output_type": "error",
     "traceback": [
      "\u001b[1;31m---------------------------------------------------------------------------\u001b[0m",
      "\u001b[1;31mKeyError\u001b[0m                                  Traceback (most recent call last)",
      "Input \u001b[1;32mIn [14]\u001b[0m, in \u001b[0;36m<cell line: 1>\u001b[1;34m()\u001b[0m\n\u001b[1;32m----> 1\u001b[0m \u001b[43mdf\u001b[49m\u001b[38;5;241;43m.\u001b[39;49m\u001b[43mdrop\u001b[49m\u001b[43m(\u001b[49m\u001b[38;5;124;43m'\u001b[39;49m\u001b[38;5;124;43m진현\u001b[39;49m\u001b[38;5;124;43m'\u001b[39;49m\u001b[43m,\u001b[49m\u001b[43maxis\u001b[49m\u001b[38;5;241;43m=\u001b[39;49m\u001b[38;5;241;43m1\u001b[39;49m\u001b[43m,\u001b[49m\u001b[43minplace\u001b[49m\u001b[38;5;241;43m=\u001b[39;49m\u001b[38;5;28;43;01mTrue\u001b[39;49;00m\u001b[43m)\u001b[49m\n\u001b[0;32m      2\u001b[0m \u001b[38;5;28mprint\u001b[39m(df)\n",
      "File \u001b[1;32mC:\\ProgramData\\Anaconda3\\lib\\site-packages\\pandas\\util\\_decorators.py:311\u001b[0m, in \u001b[0;36mdeprecate_nonkeyword_arguments.<locals>.decorate.<locals>.wrapper\u001b[1;34m(*args, **kwargs)\u001b[0m\n\u001b[0;32m    305\u001b[0m \u001b[38;5;28;01mif\u001b[39;00m \u001b[38;5;28mlen\u001b[39m(args) \u001b[38;5;241m>\u001b[39m num_allow_args:\n\u001b[0;32m    306\u001b[0m     warnings\u001b[38;5;241m.\u001b[39mwarn(\n\u001b[0;32m    307\u001b[0m         msg\u001b[38;5;241m.\u001b[39mformat(arguments\u001b[38;5;241m=\u001b[39marguments),\n\u001b[0;32m    308\u001b[0m         \u001b[38;5;167;01mFutureWarning\u001b[39;00m,\n\u001b[0;32m    309\u001b[0m         stacklevel\u001b[38;5;241m=\u001b[39mstacklevel,\n\u001b[0;32m    310\u001b[0m     )\n\u001b[1;32m--> 311\u001b[0m \u001b[38;5;28;01mreturn\u001b[39;00m func(\u001b[38;5;241m*\u001b[39margs, \u001b[38;5;241m*\u001b[39m\u001b[38;5;241m*\u001b[39mkwargs)\n",
      "File \u001b[1;32mC:\\ProgramData\\Anaconda3\\lib\\site-packages\\pandas\\core\\frame.py:4954\u001b[0m, in \u001b[0;36mDataFrame.drop\u001b[1;34m(self, labels, axis, index, columns, level, inplace, errors)\u001b[0m\n\u001b[0;32m   4806\u001b[0m \u001b[38;5;129m@deprecate_nonkeyword_arguments\u001b[39m(version\u001b[38;5;241m=\u001b[39m\u001b[38;5;28;01mNone\u001b[39;00m, allowed_args\u001b[38;5;241m=\u001b[39m[\u001b[38;5;124m\"\u001b[39m\u001b[38;5;124mself\u001b[39m\u001b[38;5;124m\"\u001b[39m, \u001b[38;5;124m\"\u001b[39m\u001b[38;5;124mlabels\u001b[39m\u001b[38;5;124m\"\u001b[39m])\n\u001b[0;32m   4807\u001b[0m \u001b[38;5;28;01mdef\u001b[39;00m \u001b[38;5;21mdrop\u001b[39m(\n\u001b[0;32m   4808\u001b[0m     \u001b[38;5;28mself\u001b[39m,\n\u001b[1;32m   (...)\u001b[0m\n\u001b[0;32m   4815\u001b[0m     errors: \u001b[38;5;28mstr\u001b[39m \u001b[38;5;241m=\u001b[39m \u001b[38;5;124m\"\u001b[39m\u001b[38;5;124mraise\u001b[39m\u001b[38;5;124m\"\u001b[39m,\n\u001b[0;32m   4816\u001b[0m ):\n\u001b[0;32m   4817\u001b[0m     \u001b[38;5;124;03m\"\"\"\u001b[39;00m\n\u001b[0;32m   4818\u001b[0m \u001b[38;5;124;03m    Drop specified labels from rows or columns.\u001b[39;00m\n\u001b[0;32m   4819\u001b[0m \n\u001b[1;32m   (...)\u001b[0m\n\u001b[0;32m   4952\u001b[0m \u001b[38;5;124;03m            weight  1.0     0.8\u001b[39;00m\n\u001b[0;32m   4953\u001b[0m \u001b[38;5;124;03m    \"\"\"\u001b[39;00m\n\u001b[1;32m-> 4954\u001b[0m     \u001b[38;5;28;01mreturn\u001b[39;00m \u001b[38;5;28;43msuper\u001b[39;49m\u001b[43m(\u001b[49m\u001b[43m)\u001b[49m\u001b[38;5;241;43m.\u001b[39;49m\u001b[43mdrop\u001b[49m\u001b[43m(\u001b[49m\n\u001b[0;32m   4955\u001b[0m \u001b[43m        \u001b[49m\u001b[43mlabels\u001b[49m\u001b[38;5;241;43m=\u001b[39;49m\u001b[43mlabels\u001b[49m\u001b[43m,\u001b[49m\n\u001b[0;32m   4956\u001b[0m \u001b[43m        \u001b[49m\u001b[43maxis\u001b[49m\u001b[38;5;241;43m=\u001b[39;49m\u001b[43maxis\u001b[49m\u001b[43m,\u001b[49m\n\u001b[0;32m   4957\u001b[0m \u001b[43m        \u001b[49m\u001b[43mindex\u001b[49m\u001b[38;5;241;43m=\u001b[39;49m\u001b[43mindex\u001b[49m\u001b[43m,\u001b[49m\n\u001b[0;32m   4958\u001b[0m \u001b[43m        \u001b[49m\u001b[43mcolumns\u001b[49m\u001b[38;5;241;43m=\u001b[39;49m\u001b[43mcolumns\u001b[49m\u001b[43m,\u001b[49m\n\u001b[0;32m   4959\u001b[0m \u001b[43m        \u001b[49m\u001b[43mlevel\u001b[49m\u001b[38;5;241;43m=\u001b[39;49m\u001b[43mlevel\u001b[49m\u001b[43m,\u001b[49m\n\u001b[0;32m   4960\u001b[0m \u001b[43m        \u001b[49m\u001b[43minplace\u001b[49m\u001b[38;5;241;43m=\u001b[39;49m\u001b[43minplace\u001b[49m\u001b[43m,\u001b[49m\n\u001b[0;32m   4961\u001b[0m \u001b[43m        \u001b[49m\u001b[43merrors\u001b[49m\u001b[38;5;241;43m=\u001b[39;49m\u001b[43merrors\u001b[49m\u001b[43m,\u001b[49m\n\u001b[0;32m   4962\u001b[0m \u001b[43m    \u001b[49m\u001b[43m)\u001b[49m\n",
      "File \u001b[1;32mC:\\ProgramData\\Anaconda3\\lib\\site-packages\\pandas\\core\\generic.py:4267\u001b[0m, in \u001b[0;36mNDFrame.drop\u001b[1;34m(self, labels, axis, index, columns, level, inplace, errors)\u001b[0m\n\u001b[0;32m   4265\u001b[0m \u001b[38;5;28;01mfor\u001b[39;00m axis, labels \u001b[38;5;129;01min\u001b[39;00m axes\u001b[38;5;241m.\u001b[39mitems():\n\u001b[0;32m   4266\u001b[0m     \u001b[38;5;28;01mif\u001b[39;00m labels \u001b[38;5;129;01mis\u001b[39;00m \u001b[38;5;129;01mnot\u001b[39;00m \u001b[38;5;28;01mNone\u001b[39;00m:\n\u001b[1;32m-> 4267\u001b[0m         obj \u001b[38;5;241m=\u001b[39m \u001b[43mobj\u001b[49m\u001b[38;5;241;43m.\u001b[39;49m\u001b[43m_drop_axis\u001b[49m\u001b[43m(\u001b[49m\u001b[43mlabels\u001b[49m\u001b[43m,\u001b[49m\u001b[43m \u001b[49m\u001b[43maxis\u001b[49m\u001b[43m,\u001b[49m\u001b[43m \u001b[49m\u001b[43mlevel\u001b[49m\u001b[38;5;241;43m=\u001b[39;49m\u001b[43mlevel\u001b[49m\u001b[43m,\u001b[49m\u001b[43m \u001b[49m\u001b[43merrors\u001b[49m\u001b[38;5;241;43m=\u001b[39;49m\u001b[43merrors\u001b[49m\u001b[43m)\u001b[49m\n\u001b[0;32m   4269\u001b[0m \u001b[38;5;28;01mif\u001b[39;00m inplace:\n\u001b[0;32m   4270\u001b[0m     \u001b[38;5;28mself\u001b[39m\u001b[38;5;241m.\u001b[39m_update_inplace(obj)\n",
      "File \u001b[1;32mC:\\ProgramData\\Anaconda3\\lib\\site-packages\\pandas\\core\\generic.py:4311\u001b[0m, in \u001b[0;36mNDFrame._drop_axis\u001b[1;34m(self, labels, axis, level, errors, consolidate, only_slice)\u001b[0m\n\u001b[0;32m   4309\u001b[0m         new_axis \u001b[38;5;241m=\u001b[39m axis\u001b[38;5;241m.\u001b[39mdrop(labels, level\u001b[38;5;241m=\u001b[39mlevel, errors\u001b[38;5;241m=\u001b[39merrors)\n\u001b[0;32m   4310\u001b[0m     \u001b[38;5;28;01melse\u001b[39;00m:\n\u001b[1;32m-> 4311\u001b[0m         new_axis \u001b[38;5;241m=\u001b[39m \u001b[43maxis\u001b[49m\u001b[38;5;241;43m.\u001b[39;49m\u001b[43mdrop\u001b[49m\u001b[43m(\u001b[49m\u001b[43mlabels\u001b[49m\u001b[43m,\u001b[49m\u001b[43m \u001b[49m\u001b[43merrors\u001b[49m\u001b[38;5;241;43m=\u001b[39;49m\u001b[43merrors\u001b[49m\u001b[43m)\u001b[49m\n\u001b[0;32m   4312\u001b[0m     indexer \u001b[38;5;241m=\u001b[39m axis\u001b[38;5;241m.\u001b[39mget_indexer(new_axis)\n\u001b[0;32m   4314\u001b[0m \u001b[38;5;66;03m# Case for non-unique axis\u001b[39;00m\n\u001b[0;32m   4315\u001b[0m \u001b[38;5;28;01melse\u001b[39;00m:\n",
      "File \u001b[1;32mC:\\ProgramData\\Anaconda3\\lib\\site-packages\\pandas\\core\\indexes\\base.py:6644\u001b[0m, in \u001b[0;36mIndex.drop\u001b[1;34m(self, labels, errors)\u001b[0m\n\u001b[0;32m   6642\u001b[0m \u001b[38;5;28;01mif\u001b[39;00m mask\u001b[38;5;241m.\u001b[39many():\n\u001b[0;32m   6643\u001b[0m     \u001b[38;5;28;01mif\u001b[39;00m errors \u001b[38;5;241m!=\u001b[39m \u001b[38;5;124m\"\u001b[39m\u001b[38;5;124mignore\u001b[39m\u001b[38;5;124m\"\u001b[39m:\n\u001b[1;32m-> 6644\u001b[0m         \u001b[38;5;28;01mraise\u001b[39;00m \u001b[38;5;167;01mKeyError\u001b[39;00m(\u001b[38;5;124mf\u001b[39m\u001b[38;5;124m\"\u001b[39m\u001b[38;5;132;01m{\u001b[39;00m\u001b[38;5;28mlist\u001b[39m(labels[mask])\u001b[38;5;132;01m}\u001b[39;00m\u001b[38;5;124m not found in axis\u001b[39m\u001b[38;5;124m\"\u001b[39m)\n\u001b[0;32m   6645\u001b[0m     indexer \u001b[38;5;241m=\u001b[39m indexer[\u001b[38;5;241m~\u001b[39mmask]\n\u001b[0;32m   6646\u001b[0m \u001b[38;5;28;01mreturn\u001b[39;00m \u001b[38;5;28mself\u001b[39m\u001b[38;5;241m.\u001b[39mdelete(indexer)\n",
      "\u001b[1;31mKeyError\u001b[0m: \"['진현'] not found in axis\""
     ]
    }
   ],
   "source": [
    "df.drop('진현',axis=1,inplace=True)\n",
    "print(df)"
   ]
  },
  {
   "cell_type": "code",
   "execution_count": 16,
   "id": "3c590706",
   "metadata": {},
   "outputs": [
    {
     "name": "stdout",
     "output_type": "stream",
     "text": [
      "    나이 성별   학교\n",
      "진현  18  남  김천고\n",
      "민지  19  여  울산고\n"
     ]
    }
   ],
   "source": [
    "import pandas as pd\n",
    "\n",
    "df = pd.DataFrame([[18, '남','김천고'], [19, '여', '울산고']],\n",
    "                 index=['진현', '민지'],\n",
    "                 columns=['나이', '성별', '학교'])\n",
    "print(df)"
   ]
  },
  {
   "cell_type": "code",
   "execution_count": 18,
   "id": "cee948d0",
   "metadata": {},
   "outputs": [
    {
     "name": "stdout",
     "output_type": "stream",
     "text": [
      "   성별   학교\n",
      "진현  남  김천고\n",
      "민지  여  울산고\n"
     ]
    }
   ],
   "source": [
    "df.drop('나이',axis=1,inplace=True)\n",
    "print(df)"
   ]
  },
  {
   "cell_type": "code",
   "execution_count": 19,
   "id": "d960fa88",
   "metadata": {},
   "outputs": [
    {
     "name": "stdout",
     "output_type": "stream",
     "text": [
      "   이름   수학  영어  생물  도덕\n",
      "0  진현  100  50  50  88\n",
      "1  민지   40  70  90  68\n",
      "2  성철   70  90  70  58\n",
      "3  지산   30  80  18  77\n"
     ]
    }
   ],
   "source": [
    "import numpy as np\n",
    "exam_data = {'이름': ['진현', '민지', '성철', '지산'], '수학':[100, 40, 70, 30], '영어': [50, 70, 90, 80], '생물': [50, 90, 70, 18], '도덕': [88, 68, 58, 77]}\n",
    "df = pd.DataFrame(exam_data)\n",
    "print(df)\n"
   ]
  },
  {
   "cell_type": "code",
   "execution_count": 20,
   "id": "a0baa112",
   "metadata": {},
   "outputs": [
    {
     "name": "stdout",
     "output_type": "stream",
     "text": [
      "   이름   수학  영어  생물  도덕  국어\n",
      "0  진현  100  50  50  88  80\n",
      "1  민지   40  70  90  68  80\n",
      "2  성철   70  90  70  58  80\n",
      "3  지산   30  80  18  77  80\n"
     ]
    }
   ],
   "source": [
    "df['국어'] = 80\n",
    "print(df)"
   ]
  },
  {
   "cell_type": "code",
   "execution_count": 23,
   "id": "58a35b71",
   "metadata": {},
   "outputs": [
    {
     "name": "stdout",
     "output_type": "stream",
     "text": [
      "    이름   수학   영어   생물   도덕   국어\n",
      "0   진현  100   50   50   88   80\n",
      "1   하나    1    2    3    4    5\n",
      "2   성철   70   90   70   58   80\n",
      "3   지산   30   80   18   77   80\n",
      "4  100  100  100  100  100  100\n"
     ]
    }
   ],
   "source": [
    "df.loc[1] = ['하나','1','2','3','4','5']\n",
    "print(df)"
   ]
  },
  {
   "cell_type": "code",
   "execution_count": 25,
   "id": "7fe8e225",
   "metadata": {},
   "outputs": [
    {
     "name": "stdout",
     "output_type": "stream",
     "text": [
      "    이름   수학   영어   생물   도덕   국어\n",
      "0   진현  100   50   50   88   80\n",
      "1   하나    1    2    3    4    5\n",
      "2   성철   70   90   70   58   80\n",
      "3   지산   30   80   18   77   80\n",
      "4  100  100  100  100  100  100\n"
     ]
    }
   ],
   "source": [
    "df.loc[4] = 100\n",
    "print(df)"
   ]
  },
  {
   "cell_type": "code",
   "execution_count": 26,
   "id": "b453c86a",
   "metadata": {},
   "outputs": [
    {
     "name": "stdout",
     "output_type": "stream",
     "text": [
      "    c0  c1  c2  c3  c4\n",
      "r0   1   4   7  10  13\n",
      "r1   2   5   8  11  14\n",
      "r2   3   6   9  12  15\n"
     ]
    }
   ],
   "source": [
    "dict_data = {'c0':[1,2,3], 'c1':[4,5,6], 'c2':[7,8,9], 'c3':[10,11,12], 'c4':[13,14,15]}\n",
    "df = pd.DataFrame(dict_data, index=['r0', 'r1', 'r2'])\n",
    "print(df)\n"
   ]
  },
  {
   "cell_type": "code",
   "execution_count": 28,
   "id": "6fd6b641",
   "metadata": {},
   "outputs": [
    {
     "name": "stdout",
     "output_type": "stream",
     "text": [
      "     c0   c1   c2    c3    c4\n",
      "r0  1.0  4.0  7.0  10.0  13.0\n",
      "r1  2.0  5.0  8.0  11.0  14.0\n",
      "r2  3.0  6.0  9.0  12.0  15.0\n",
      "r3  NaN  NaN  NaN   NaN   NaN\n",
      "r4  NaN  NaN  NaN   NaN   NaN\n"
     ]
    }
   ],
   "source": [
    "new_index = ['r0', 'r1', 'r2', 'r3', 'r4']\n",
    "ndf = df.reindex(new_index)\n",
    "print(ndf)\n",
    "\n",
    "#추가되는 부분은 행인텍스의 행 데이터는 NaN 값이 된다."
   ]
  },
  {
   "cell_type": "code",
   "execution_count": 30,
   "id": "9fbc88c5",
   "metadata": {},
   "outputs": [
    {
     "name": "stdout",
     "output_type": "stream",
     "text": [
      "    c0  c1  c2  c3  c4\n",
      "r0   1   4   7  10  13\n",
      "r1   2   5   8  11  14\n",
      "r2   3   6   9  12  15\n",
      "r3   0   0   0   0   0\n",
      "r4   0   0   0   0   0\n"
     ]
    }
   ],
   "source": [
    "new_index = ['r0', 'r1', 'r2', 'r3', 'r4']\n",
    "ndf2 = df.reindex(new_index, fill_value=0)\n",
    "print(ndf2)"
   ]
  },
  {
   "cell_type": "code",
   "execution_count": 31,
   "id": "b345fae1",
   "metadata": {},
   "outputs": [
    {
     "name": "stdout",
     "output_type": "stream",
     "text": [
      "  index  c0  c1  c2  c3  c4\n",
      "0    r0   1   4   7  10  13\n",
      "1    r1   2   5   8  11  14\n",
      "2    r2   3   6   9  12  15\n"
     ]
    }
   ],
   "source": [
    "# 헹인덱스를 기본 정수 인덱스로 변환\n",
    "ndf = df.reset_index()\n",
    "print(ndf)"
   ]
  },
  {
   "cell_type": "code",
   "execution_count": null,
   "id": "88eb8660",
   "metadata": {},
   "outputs": [],
   "source": [
    "#DataFrame 객체.isnull()   = > 결측치(NaN) 데이터이면 True 반환, \n",
    "#DataFrame 객체.dropna(subset=['열이름'])   = > 결측치(NaN) 데이터를 삭제\n",
    "#DataFrame 객체.filna(채울값, inplace=)   = > 결측치(NaN) 데이터를 평균 또는 중앙값등으로 채울 때 사용"
   ]
  },
  {
   "cell_type": "code",
   "execution_count": 33,
   "id": "b30cf4b9",
   "metadata": {},
   "outputs": [
    {
     "name": "stdout",
     "output_type": "stream",
     "text": [
      "      A           B      \n",
      "     C1    C2    C1    C2\n",
      "0  1.76  0.40  0.98  2.24\n",
      "1  1.87 -0.98  0.95 -0.15\n",
      "2 -0.10  0.41  0.14  1.45\n",
      "3  0.76  0.12  0.44  0.33\n",
      "4  1.49 -0.21  0.31 -0.85\n"
     ]
    }
   ],
   "source": [
    "import pandas as pd\n",
    "np.random.seed(0)\n",
    "df3 = pd.DataFrame(np.round(np.random.randn(5, 4), 2),\n",
    "columns=[[\"A\", \"A\", \"B\", \"B\"], [\"C1\", \"C2\", \"C1\", \"C2\"]])\n",
    "print(df3)"
   ]
  },
  {
   "cell_type": "code",
   "execution_count": 34,
   "id": "eb39c589",
   "metadata": {},
   "outputs": [
    {
     "name": "stdout",
     "output_type": "stream",
     "text": [
      "Cidx1     A           B      \n",
      "Cidx2    C1    C2    C1    C2\n",
      "0      1.76  0.40  0.98  2.24\n",
      "1      1.87 -0.98  0.95 -0.15\n",
      "2     -0.10  0.41  0.14  1.45\n",
      "3      0.76  0.12  0.44  0.33\n",
      "4      1.49 -0.21  0.31 -0.85\n"
     ]
    }
   ],
   "source": [
    "df3.columns.names = [\"Cidx1\", \"Cidx2\"]\n",
    "print(df3)"
   ]
  },
  {
   "cell_type": "code",
   "execution_count": 35,
   "id": "361cb368",
   "metadata": {},
   "outputs": [
    {
     "name": "stdout",
     "output_type": "stream",
     "text": [
      "Cidx1           A           B      \n",
      "Cidx2           C     D     C     D\n",
      "Ridx1 Ridx2                        \n",
      "M     id_1  -2.55  0.65  0.86 -0.74\n",
      "      id_2   2.27 -1.45  0.05 -0.19\n",
      "      id_3   1.53  1.47  0.15  0.38\n",
      "F     id_1  -0.89 -1.98 -0.35  0.16\n",
      "      id_2   1.23  1.20 -0.39 -0.30\n",
      "      id_3  -1.05 -1.42 -1.71  1.95\n"
     ]
    }
   ],
   "source": [
    "df4 = pd.DataFrame(np.round(np.random.randn(6, 4), 2),\n",
    "columns=[[\"A\", \"A\", \"B\", \"B\"], [\"C\", \"D\", \"C\", \"D\"]],\n",
    "index=[[\"M\", \"M\", \"M\", \"F\", \"F\", \"F\"], [\"id_\" + str(i + 1) for i in range(3)] * 2])\n",
    "df4.columns.names = [\"Cidx1\", \"Cidx2\"]\n",
    "df4.index.names = [\"Ridx1\", \"Ridx2\"]\n",
    "print(df4)"
   ]
  },
  {
   "cell_type": "code",
   "execution_count": 36,
   "id": "8b795dd2",
   "metadata": {},
   "outputs": [
    {
     "name": "stdout",
     "output_type": "stream",
     "text": [
      "           A           B      \n",
      "           C     D     C     D\n",
      "M id_1 -0.51 -0.44 -1.25  0.78\n",
      "  id_2 -1.61 -0.21 -0.90  0.39\n",
      "  id_3 -0.51 -1.18 -0.03  0.43\n",
      "F id_1  0.07  0.30 -0.63 -0.36\n",
      "  id_2 -0.67 -0.36 -0.81 -1.73\n",
      "  id_3  0.18 -0.40 -1.63  0.46\n"
     ]
    }
   ],
   "source": [
    "import pandas as pd\n",
    "import numpy as np\n",
    "df4 = pd.DataFrame(np.round(np.random.randn(6, 4), 2),\n",
    "columns=[[\"A\", \"A\", \"B\", \"B\"], [\"C\", \"D\", \"C\", \"D\"]],\n",
    "index=[[\"M\", \"M\", \"M\", \"F\", \"F\", \"F\"], [\"id_\" + str(i + 1) for i in range(3)] * 2])\n",
    "\n",
    "print(df4)"
   ]
  },
  {
   "cell_type": "code",
   "execution_count": 38,
   "id": "fff7385a",
   "metadata": {},
   "outputs": [
    {
     "name": "stdout",
     "output_type": "stream",
     "text": [
      "Cidx1      A           B      \n",
      "Cidx2      C     D     C     D\n",
      "M id_1 -0.51 -0.44 -1.25  0.78\n",
      "  id_2 -1.61 -0.21 -0.90  0.39\n",
      "  id_3 -0.51 -1.18 -0.03  0.43\n",
      "F id_1  0.07  0.30 -0.63 -0.36\n",
      "  id_2 -0.67 -0.36 -0.81 -1.73\n",
      "  id_3  0.18 -0.40 -1.63  0.46\n"
     ]
    }
   ],
   "source": [
    "df4.columns.names = [\"Cidx1\", \"Cidx2\"]\n",
    "print(df4)"
   ]
  },
  {
   "cell_type": "code",
   "execution_count": 39,
   "id": "21b75f43",
   "metadata": {},
   "outputs": [
    {
     "name": "stdout",
     "output_type": "stream",
     "text": [
      "Cidx1           A           B      \n",
      "Cidx2           C     D     C     D\n",
      "Ridx1 Ridx2                        \n",
      "M     id_1  -0.51 -0.44 -1.25  0.78\n",
      "      id_2  -1.61 -0.21 -0.90  0.39\n",
      "      id_3  -0.51 -1.18 -0.03  0.43\n",
      "F     id_1   0.07  0.30 -0.63 -0.36\n",
      "      id_2  -0.67 -0.36 -0.81 -1.73\n",
      "      id_3   0.18 -0.40 -1.63  0.46\n"
     ]
    }
   ],
   "source": [
    "df4.index.names = [\"Ridx1\", \"Ridx2\"]\n",
    "print(df4)"
   ]
  },
  {
   "cell_type": "code",
   "execution_count": 40,
   "id": "0d236491",
   "metadata": {},
   "outputs": [
    {
     "name": "stdout",
     "output_type": "stream",
     "text": [
      "Cidx2                 C     D\n",
      "Ridx1 Ridx2 Cidx1            \n",
      "M     id_1  A     -0.51 -0.44\n",
      "            B     -1.25  0.78\n",
      "      id_2  A     -1.61 -0.21\n",
      "            B     -0.90  0.39\n",
      "      id_3  A     -0.51 -1.18\n",
      "            B     -0.03  0.43\n",
      "F     id_1  A      0.07  0.30\n",
      "            B     -0.63 -0.36\n",
      "      id_2  A     -0.67 -0.36\n",
      "            B     -0.81 -1.73\n",
      "      id_3  A      0.18 -0.40\n",
      "            B     -1.63  0.46\n"
     ]
    }
   ],
   "source": [
    "df=df4.stack(\"Cidx1\")\n",
    "print(df)"
   ]
  },
  {
   "cell_type": "code",
   "execution_count": 41,
   "id": "367ae6ce",
   "metadata": {},
   "outputs": [
    {
     "name": "stdout",
     "output_type": "stream",
     "text": [
      "Cidx1                 A     B\n",
      "Ridx1 Ridx2 Cidx2            \n",
      "M     id_1  C     -0.51 -1.25\n",
      "            D     -0.44  0.78\n",
      "      id_2  C     -1.61 -0.90\n",
      "            D     -0.21  0.39\n",
      "      id_3  C     -0.51 -0.03\n",
      "            D     -1.18  0.43\n",
      "F     id_1  C      0.07 -0.63\n",
      "            D      0.30 -0.36\n",
      "      id_2  C     -0.67 -0.81\n",
      "            D     -0.36 -1.73\n",
      "      id_3  C      0.18 -1.63\n",
      "            D     -0.40  0.46\n"
     ]
    }
   ],
   "source": [
    "df= df4.stack(1)\n",
    "print(df)"
   ]
  },
  {
   "cell_type": "code",
   "execution_count": 42,
   "id": "d7a81404",
   "metadata": {},
   "outputs": [
    {
     "name": "stdout",
     "output_type": "stream",
     "text": [
      "Cidx1     A                                   B                              \n",
      "Cidx2     C                 D                 C                 D            \n",
      "Ridx2  id_1  id_2  id_3  id_1  id_2  id_3  id_1  id_2  id_3  id_1  id_2  id_3\n",
      "Ridx1                                                                        \n",
      "F      0.07 -0.67  0.18  0.30 -0.36 -0.40 -0.63 -0.81 -1.63 -0.36 -1.73  0.46\n",
      "M     -0.51 -1.61 -0.51 -0.44 -0.21 -1.18 -1.25 -0.90 -0.03  0.78  0.39  0.43\n"
     ]
    }
   ],
   "source": [
    "df= df4.unstack(\"Ridx2\")\n",
    "print(df)\n"
   ]
  },
  {
   "cell_type": "code",
   "execution_count": 43,
   "id": "ed554ab8",
   "metadata": {},
   "outputs": [
    {
     "name": "stdout",
     "output_type": "stream",
     "text": [
      "Cidx1     A                                   B                              \n",
      "Cidx2     C                 D                 C                 D            \n",
      "Ridx2  id_1  id_2  id_3  id_1  id_2  id_3  id_1  id_2  id_3  id_1  id_2  id_3\n",
      "Ridx1                                                                        \n",
      "F      0.07 -0.67  0.18  0.30 -0.36 -0.40 -0.63 -0.81 -1.63 -0.36 -1.73  0.46\n",
      "M     -0.51 -1.61 -0.51 -0.44 -0.21 -1.18 -1.25 -0.90 -0.03  0.78  0.39  0.43\n"
     ]
    }
   ],
   "source": [
    "df4.unstack(0)\n",
    "print(df)\n"
   ]
  },
  {
   "cell_type": "code",
   "execution_count": 44,
   "id": "c767ebd7",
   "metadata": {},
   "outputs": [
    {
     "name": "stdout",
     "output_type": "stream",
     "text": [
      "      A           B      \n",
      "     C1    C2    C1    C2\n",
      "0  1.76  0.40  0.98  2.24\n",
      "1  1.87 -0.98  0.95 -0.15\n",
      "2 -0.10  0.41  0.14  1.45\n",
      "3  0.76  0.12  0.44  0.33\n",
      "4  1.49 -0.21  0.31 -0.85\n"
     ]
    }
   ],
   "source": [
    "import pandas as pd\n",
    "import numpy as np\n",
    "np.random.seed(0)\n",
    "df3 = pd.DataFrame(np.round(np.random.randn(5, 4), 2),\n",
    "columns=[[\"A\", \"A\", \"B\", \"B\"], [\"C1\", \"C2\", \"C1\", \"C2\"]])\n",
    "print(df3)"
   ]
  },
  {
   "cell_type": "code",
   "execution_count": 45,
   "id": "9254ca48",
   "metadata": {},
   "outputs": [
    {
     "name": "stdout",
     "output_type": "stream",
     "text": [
      "0    0.98\n",
      "1    0.95\n",
      "2    0.14\n",
      "3    0.44\n",
      "4    0.31\n",
      "Name: (B, C1), dtype: float64\n"
     ]
    }
   ],
   "source": [
    "print(df3[(\"B\", \"C1\")])"
   ]
  },
  {
   "cell_type": "code",
   "execution_count": 49,
   "id": "2da05fa5",
   "metadata": {},
   "outputs": [
    {
     "name": "stdout",
     "output_type": "stream",
     "text": [
      "0.98\n"
     ]
    }
   ],
   "source": [
    "print(df3.loc[0, (\"B\", \"C1\")])"
   ]
  },
  {
   "cell_type": "code",
   "execution_count": 47,
   "id": "55a0ec6c",
   "metadata": {},
   "outputs": [
    {
     "name": "stdout",
     "output_type": "stream",
     "text": [
      "0.98\n"
     ]
    }
   ],
   "source": [
    "print(df3.loc[0, (\"B\", \"C1\")])"
   ]
  },
  {
   "cell_type": "code",
   "execution_count": 50,
   "id": "71c1ad65",
   "metadata": {},
   "outputs": [
    {
     "name": "stdout",
     "output_type": "stream",
     "text": [
      "      A             B      \n",
      "     C1    C2      C1    C2\n",
      "0  1.76  0.40  100.00  2.24\n",
      "1  1.87 -0.98    0.95 -0.15\n",
      "2 -0.10  0.41    0.14  1.45\n",
      "3  0.76  0.12    0.44  0.33\n",
      "4  1.49 -0.21    0.31 -0.85\n"
     ]
    }
   ],
   "source": [
    "df3.loc[0, (\"B\", \"C1\")] = 100\n",
    "print(df3)\n"
   ]
  },
  {
   "cell_type": "code",
   "execution_count": 51,
   "id": "7d187f46",
   "metadata": {},
   "outputs": [
    {
     "name": "stdout",
     "output_type": "stream",
     "text": [
      "     C1    C2\n",
      "0  1.76  0.40\n",
      "1  1.87 -0.98\n",
      "2 -0.10  0.41\n",
      "3  0.76  0.12\n",
      "4  1.49 -0.21\n"
     ]
    }
   ],
   "source": [
    "print(df3['A'])"
   ]
  },
  {
   "cell_type": "code",
   "execution_count": 53,
   "id": "c79b6aa5",
   "metadata": {},
   "outputs": [
    {
     "name": "stdout",
     "output_type": "stream",
     "text": [
      "Cidx1           A           B      \n",
      "Cidx2           C     D     C     D\n",
      "Ridx1 Ridx2                        \n",
      "M     id_1  -0.51 -0.44 -1.25  0.78\n",
      "      id_2  -1.61 -0.21 -0.90  0.39\n",
      "      id_3  -0.51 -1.18 -0.03  0.43\n",
      "F     id_1   0.07  0.30 -0.63 -0.36\n",
      "      id_2  -0.67 -0.36 -0.81 -1.73\n",
      "      id_3   0.18 -0.40 -1.63  0.46\n",
      "-0.51\n"
     ]
    }
   ],
   "source": [
    "import pandas as pd\n",
    "import numpy as np\n",
    "df4 = pd.DataFrame(np.round(np.random.randn(6, 4), 2),\n",
    "columns=[[\"A\", \"A\", \"B\", \"B\"], [\"C\", \"D\", \"C\", \"D\"]],\n",
    "index=[[\"M\", \"M\", \"M\", \"F\", \"F\", \"F\"], [\"id_\" + str(i + 1) for i in range(3)] * 2])\n",
    "df4.columns.names = [\"Cidx1\", \"Cidx2\"]\n",
    "df4.index.names = [\"Ridx1\", \"Ridx2\"]\n",
    "print(df4)\n",
    "print(df4.loc[(\"M\", \"id_1\"), (\"A\", \"C\")])"
   ]
  },
  {
   "cell_type": "code",
   "execution_count": 54,
   "id": "d048bb5d",
   "metadata": {},
   "outputs": [
    {
     "name": "stdout",
     "output_type": "stream",
     "text": [
      "Ridx1  Ridx2\n",
      "M      id_1    -0.51\n",
      "       id_2    -1.61\n",
      "       id_3    -0.51\n",
      "F      id_1     0.07\n",
      "       id_2    -0.67\n",
      "       id_3     0.18\n",
      "Name: (A, C), dtype: float64\n"
     ]
    }
   ],
   "source": [
    "print(df4.loc[:, (\"A\", \"C\")])\n"
   ]
  },
  {
   "cell_type": "code",
   "execution_count": 55,
   "id": "20ef0fe9",
   "metadata": {},
   "outputs": [
    {
     "name": "stdout",
     "output_type": "stream",
     "text": [
      "Cidx1  Cidx2\n",
      "A      C       -0.51\n",
      "       D       -0.44\n",
      "B      C       -1.25\n",
      "       D        0.78\n",
      "Name: (M, id_1), dtype: float64\n"
     ]
    }
   ],
   "source": [
    "print(df4.loc[(\"M\", \"id_1\"), :])"
   ]
  },
  {
   "cell_type": "code",
   "execution_count": 56,
   "id": "862dc397",
   "metadata": {},
   "outputs": [
    {
     "name": "stdout",
     "output_type": "stream",
     "text": [
      "Cidx1           A           B      \n",
      "Cidx2           C     D     C     D\n",
      "Ridx1 Ridx2                        \n",
      "M     id_1  -0.51 -0.44 -1.25  0.78\n",
      "      id_2  -1.61 -0.21 -0.90  0.39\n",
      "      id_3  -0.51 -1.18 -0.03  0.43\n",
      "F     id_1   0.07  0.30 -0.63 -0.36\n",
      "      id_2  -0.67 -0.36 -0.81 -1.73\n",
      "      id_3   0.18 -0.40 -1.63  0.46\n",
      "All   All   -3.05 -2.29 -5.25 -0.03\n"
     ]
    }
   ],
   "source": [
    "df4.loc[(\"All\", \"All\"), :] = df4.sum()\n",
    "print(df4)"
   ]
  },
  {
   "cell_type": "code",
   "execution_count": 57,
   "id": "0dab6952",
   "metadata": {},
   "outputs": [
    {
     "name": "stdout",
     "output_type": "stream",
     "text": [
      "Cidx1     A           B      \n",
      "Cidx2     C     D     C     D\n",
      "Ridx2                        \n",
      "id_1  -0.51 -0.44 -1.25  0.78\n",
      "id_2  -1.61 -0.21 -0.90  0.39\n",
      "id_3  -0.51 -1.18 -0.03  0.43\n"
     ]
    }
   ],
   "source": [
    "print(df4.loc[\"M\"])\n"
   ]
  },
  {
   "cell_type": "code",
   "execution_count": 58,
   "id": "93b9f6de",
   "metadata": {},
   "outputs": [
    {
     "name": "stdout",
     "output_type": "stream",
     "text": [
      "Cidx1           A           B      \n",
      "Cidx2           C     D     C     D\n",
      "Ridx1 Ridx2                        \n",
      "M     id_1  -0.51 -0.44 -1.25  0.78\n",
      "      id_2  -1.61 -0.21 -0.90  0.39\n",
      "      id_3  -0.51 -1.18 -0.03  0.43\n"
     ]
    }
   ],
   "source": [
    "print(df4.loc[(\"M\", slice(None)), :])\n"
   ]
  },
  {
   "cell_type": "code",
   "execution_count": 59,
   "id": "707d6681",
   "metadata": {},
   "outputs": [
    {
     "name": "stdout",
     "output_type": "stream",
     "text": [
      "Cidx1           A           B      \n",
      "Cidx2           C     D     C     D\n",
      "Ridx1 Ridx2                        \n",
      "M     id_1  -0.51 -0.44 -1.25  0.78\n",
      "F     id_1   0.07  0.30 -0.63 -0.36\n"
     ]
    }
   ],
   "source": [
    "print(df4.loc[(slice(None), \"id_1\"), :])"
   ]
  },
  {
   "cell_type": "code",
   "execution_count": 67,
   "id": "27860082",
   "metadata": {},
   "outputs": [
    {
     "name": "stdout",
     "output_type": "stream",
     "text": [
      "    0    1  2  3    4\n",
      "0  C1  1.0  2  3  NaN\n",
      "1  C2  5.0  ?  7  8.0\n",
      "2  C3  NaN  3  5  7.0\n"
     ]
    }
   ],
   "source": [
    "import pandas as pd\n",
    "text_test = pd.read_csv('C:/Users/Administrator/Jupyter/text_without_column_name.txt', sep='|', header = None)\n",
    "\n",
    "print(text_test)\n"
   ]
  },
  {
   "cell_type": "code",
   "execution_count": 68,
   "id": "10b4517d",
   "metadata": {},
   "outputs": [
    {
     "name": "stdout",
     "output_type": "stream",
     "text": [
      "Empty DataFrame\n",
      "Columns: [C1|1|2|3|nan]\n",
      "Index: []\n"
     ]
    }
   ],
   "source": [
    "text_test = pd.read_csv('C:/Users/Administrator/Jupyter/text_without_column_name.txt', skiprows = [1,2])\n",
    "print(text_test)"
   ]
  },
  {
   "cell_type": "code",
   "execution_count": 71,
   "id": "25c07ce8",
   "metadata": {},
   "outputs": [
    {
     "name": "stdout",
     "output_type": "stream",
     "text": [
      "   ID LAST_NAME  AGE\n",
      "0   1       KIM   30\n",
      "1   2      CHOI   25\n",
      "2   3       LEE   41\n",
      "3   4      PARK   19\n",
      "4   5       LIM   36\n"
     ]
    }
   ],
   "source": [
    "text_test = pd.read_csv('C:/Users/Administrator/Jupyter/test_csv_file.csv')\n",
    "print(text_test)"
   ]
  },
  {
   "cell_type": "code",
   "execution_count": 72,
   "id": "76d142b1",
   "metadata": {},
   "outputs": [
    {
     "name": "stdout",
     "output_type": "stream",
     "text": [
      "   ID LAST_NAME  AGE\n",
      "0   3       LEE   41\n",
      "1   4      PARK   19\n",
      "2   5       LIM   36\n"
     ]
    }
   ],
   "source": [
    "text_test = pd.read_csv('C:/Users/Administrator/Jupyter/test_csv_file.csv', skiprows = [1,2])\n",
    "print(text_test)"
   ]
  },
  {
   "cell_type": "code",
   "execution_count": 73,
   "id": "2c479901",
   "metadata": {},
   "outputs": [],
   "source": [
    "student_data = {\n",
    "\"1.FirstName\": \"Gildong\",\n",
    "\"2.LastName\": \"Hong\",\n",
    "\"3.Age\": 20, \n",
    "\"4.University\": \"Yonsei University\",\n",
    "\"5.Courses\": [\n",
    "{\n",
    "\"Major\": \"Statistics\", \n",
    "\"Classes\": [\"Probability\", \n",
    "\"Generalized Linear Model\", \n",
    "\"Categorical Data Analysis\"]\n",
    "}, \n",
    "{\n",
    "\"Minor\": \"ComputerScience\", \n",
    "\"Classes\": [\"Data Structure\", \n",
    "\"Programming\", \n",
    "\"Algorithms\"]\n",
    "}\n",
    "]\n",
    "} "
   ]
  },
  {
   "cell_type": "code",
   "execution_count": 74,
   "id": "baeb7f20",
   "metadata": {},
   "outputs": [
    {
     "ename": "FileNotFoundError",
     "evalue": "[Errno 2] No such file or directory: './Jupyter/student_file.json'",
     "output_type": "error",
     "traceback": [
      "\u001b[1;31m---------------------------------------------------------------------------\u001b[0m",
      "\u001b[1;31mFileNotFoundError\u001b[0m                         Traceback (most recent call last)",
      "Input \u001b[1;32mIn [74]\u001b[0m, in \u001b[0;36m<cell line: 2>\u001b[1;34m()\u001b[0m\n\u001b[0;32m      1\u001b[0m \u001b[38;5;28;01mimport\u001b[39;00m \u001b[38;5;21;01mjson\u001b[39;00m\n\u001b[1;32m----> 2\u001b[0m \u001b[38;5;28;01mwith\u001b[39;00m \u001b[38;5;28;43mopen\u001b[39;49m\u001b[43m(\u001b[49m\u001b[38;5;124;43m\"\u001b[39;49m\u001b[38;5;124;43m./Jupyter/student_file.json\u001b[39;49m\u001b[38;5;124;43m\"\u001b[39;49m\u001b[43m,\u001b[49m\u001b[43m \u001b[49m\u001b[38;5;124;43m\"\u001b[39;49m\u001b[38;5;124;43mw\u001b[39;49m\u001b[38;5;124;43m\"\u001b[39;49m\u001b[43m)\u001b[49m \u001b[38;5;28;01mas\u001b[39;00m json_file:\n\u001b[0;32m      3\u001b[0m     json\u001b[38;5;241m.\u001b[39mdump(student_data, json_file)\n",
      "\u001b[1;31mFileNotFoundError\u001b[0m: [Errno 2] No such file or directory: './Jupyter/student_file.json'"
     ]
    }
   ],
   "source": [
    "import json\n",
    "with open(\"./Jupyter/student_file.json\", \"w\") as json_file:\n",
    "    json.dump(student_data, json_file)"
   ]
  },
  {
   "cell_type": "code",
   "execution_count": 75,
   "id": "bb8ccec5",
   "metadata": {},
   "outputs": [
    {
     "name": "stdout",
     "output_type": "stream",
     "text": [
      "<Element 'CATALOG' at 0x000001AC3D368D10>\n"
     ]
    }
   ],
   "source": [
    "import pandas as pd\n",
    "import xml.etree.ElementTree as ET\n",
    "import sys\n",
    "\n",
    "if sys.version_info[0] == 3:\n",
    "    from urllib.request import urlopen\n",
    "else:\n",
    "    from urllib import urlopen\n",
    "    \n",
    "    \n",
    "url = \"https://www.w3schools.com/xml/cd_catalog.xml\"\n",
    "response = urlopen(url).read()\n",
    "xtree = ET.fromstring(response)\n",
    "print(xtree) "
   ]
  },
  {
   "cell_type": "code",
   "execution_count": 77,
   "id": "1a66443d",
   "metadata": {},
   "outputs": [
    {
     "name": "stdout",
     "output_type": "stream",
     "text": [
      "[{'title': 'Empire Burlesque', 'artist': 'Bob Dylan', 'country': 'USA', 'company': 'Columbia', 'price': '10.90', 'year': '1985'}, {'title': 'Hide your heart', 'artist': 'Bonnie Tyler', 'country': 'UK', 'company': 'CBS Records', 'price': '9.90', 'year': '1988'}, {'title': 'Greatest Hits', 'artist': 'Dolly Parton', 'country': 'USA', 'company': 'RCA', 'price': '9.90', 'year': '1982'}, {'title': 'Still got the blues', 'artist': 'Gary Moore', 'country': 'UK', 'company': 'Virgin records', 'price': '10.20', 'year': '1990'}, {'title': 'Eros', 'artist': 'Eros Ramazzotti', 'country': 'EU', 'company': 'BMG', 'price': '9.90', 'year': '1997'}, {'title': 'One night only', 'artist': 'Bee Gees', 'country': 'UK', 'company': 'Polydor', 'price': '10.90', 'year': '1998'}, {'title': 'Sylvias Mother', 'artist': 'Dr.Hook', 'country': 'UK', 'company': 'CBS', 'price': '8.10', 'year': '1973'}, {'title': 'Maggie May', 'artist': 'Rod Stewart', 'country': 'UK', 'company': 'Pickwick', 'price': '8.50', 'year': '1990'}, {'title': 'Romanza', 'artist': 'Andrea Bocelli', 'country': 'EU', 'company': 'Polydor', 'price': '10.80', 'year': '1996'}, {'title': 'When a man loves a woman', 'artist': 'Percy Sledge', 'country': 'USA', 'company': 'Atlantic', 'price': '8.70', 'year': '1987'}, {'title': 'Black angel', 'artist': 'Savage Rose', 'country': 'EU', 'company': 'Mega', 'price': '10.90', 'year': '1995'}, {'title': '1999 Grammy Nominees', 'artist': 'Many', 'country': 'USA', 'company': 'Grammy', 'price': '10.20', 'year': '1999'}, {'title': 'For the good times', 'artist': 'Kenny Rogers', 'country': 'UK', 'company': 'Mucik Master', 'price': '8.70', 'year': '1995'}, {'title': 'Big Willie style', 'artist': 'Will Smith', 'country': 'USA', 'company': 'Columbia', 'price': '9.90', 'year': '1997'}, {'title': 'Tupelo Honey', 'artist': 'Van Morrison', 'country': 'UK', 'company': 'Polydor', 'price': '8.20', 'year': '1971'}, {'title': 'Soulsville', 'artist': 'Jorn Hoel', 'country': 'Norway', 'company': 'WEA', 'price': '7.90', 'year': '1996'}, {'title': 'The very best of', 'artist': 'Cat Stevens', 'country': 'UK', 'company': 'Island', 'price': '8.90', 'year': '1990'}, {'title': 'Stop', 'artist': 'Sam Brown', 'country': 'UK', 'company': 'A and M', 'price': '8.90', 'year': '1988'}, {'title': 'Bridge of Spies', 'artist': \"T'Pau\", 'country': 'UK', 'company': 'Siren', 'price': '7.90', 'year': '1987'}, {'title': 'Private Dancer', 'artist': 'Tina Turner', 'country': 'UK', 'company': 'Capitol', 'price': '8.90', 'year': '1983'}, {'title': 'Midt om natten', 'artist': 'Kim Larsen', 'country': 'EU', 'company': 'Medley', 'price': '7.80', 'year': '1983'}, {'title': 'Pavarotti Gala Concert', 'artist': 'Luciano Pavarotti', 'country': 'UK', 'company': 'DECCA', 'price': '9.90', 'year': '1991'}, {'title': 'The dock of the bay', 'artist': 'Otis Redding', 'country': 'USA', 'company': 'Stax Records', 'price': '7.90', 'year': '1968'}, {'title': 'Picture book', 'artist': 'Simply Red', 'country': 'EU', 'company': 'Elektra', 'price': '7.20', 'year': '1985'}, {'title': 'Red', 'artist': 'The Communards', 'country': 'UK', 'company': 'London', 'price': '7.80', 'year': '1987'}, {'title': 'Unchain my heart', 'artist': 'Joe Cocker', 'country': 'USA', 'company': 'EMI', 'price': '8.20', 'year': '1987'}]\n"
     ]
    }
   ],
   "source": [
    "rows = []\n",
    "# iterate through each node of the tree\n",
    "for node in xtree:\n",
    "    n_title = node.find(\"TITLE\").text\n",
    "    n_artist = node.find(\"ARTIST\").text\n",
    "    n_country = node.find(\"COUNTRY\").text\n",
    "    n_company = node.find(\"COMPANY\").text\n",
    "    n_price = node.find(\"PRICE\").text\n",
    "    n_year = node.find(\"YEAR\").text \n",
    "    rows.append({\"title\": n_title, \n",
    "        \"artist\": n_artist, \n",
    "        \"country\": n_country, \n",
    "        \"company\": n_company, \n",
    "        \"price\": n_price, \n",
    "        \"year\": n_year})\n",
    "print(rows)"
   ]
  },
  {
   "cell_type": "code",
   "execution_count": 85,
   "id": "b1f7a96a",
   "metadata": {},
   "outputs": [
    {
     "name": "stdout",
     "output_type": "stream",
     "text": [
      "                 title           artist country         company  price  year\n",
      "0     Empire Burlesque        Bob Dylan     USA        Columbia  10.90  1985\n",
      "1      Hide your heart     Bonnie Tyler      UK     CBS Records   9.90  1988\n",
      "2        Greatest Hits     Dolly Parton     USA             RCA   9.90  1982\n",
      "3  Still got the blues       Gary Moore      UK  Virgin records  10.20  1990\n",
      "4                 Eros  Eros Ramazzotti      EU             BMG   9.90  1997\n",
      "title      object\n",
      "artist     object\n",
      "country    object\n",
      "company    object\n",
      "price      object\n",
      "year       object\n",
      "dtype: object\n"
     ]
    }
   ],
   "source": [
    "#XML text data를 dict로 저장된 list를 pandas DataFrame으로 변환\n",
    "columns = [\"title\", \"artist\", \"country\", \"company\", \"price\", \"year\"]\n",
    "catalog_cd_df = pd.DataFrame(rows, columns = columns)\n",
    "print(catalog_cd_df.head())\n",
    "catalog_cd_df.head(5) \n",
    "#df.dtypes 로 각 칼럼의 데이터 형태를 확인 - 문자열 객체(string object)\n",
    "print(catalog_cd_df.dtypes)"
   ]
  },
  {
   "cell_type": "code",
   "execution_count": 82,
   "id": "59ef8d21",
   "metadata": {},
   "outputs": [
    {
     "name": "stdout",
     "output_type": "stream",
     "text": [
      "title       object\n",
      "artist      object\n",
      "country     object\n",
      "company     object\n",
      "price      float64\n",
      "year         int32\n",
      "dtype: object\n"
     ]
    },
    {
     "name": "stderr",
     "output_type": "stream",
     "text": [
      "C:\\Users\\Administrator\\AppData\\Local\\Temp\\ipykernel_41700\\2805519093.py:3: DeprecationWarning: `np.float` is a deprecated alias for the builtin `float`. To silence this warning, use `float` by itself. Doing this will not modify any behavior and is safe. If you specifically wanted the numpy scalar type, use `np.float64` here.\n",
      "Deprecated in NumPy 1.20; for more details and guidance: https://numpy.org/devdocs/release/1.20.0-notes.html#deprecations\n",
      "  catalog_cd_df = catalog_cd_df.astype({'price': np.float, 'year': int})\n"
     ]
    }
   ],
   "source": [
    "# astype()을 이용하여 칼럼 중에서 price는 float64, year는 int32로 변환\n",
    "import numpy as np\n",
    "catalog_cd_df = catalog_cd_df.astype({'price': np.float, 'year': int})\n",
    "print(catalog_cd_df.dtypes)"
   ]
  },
  {
   "cell_type": "code",
   "execution_count": 90,
   "id": "e9142ffd",
   "metadata": {},
   "outputs": [
    {
     "data": {
      "image/png": "[encoded data removed]",
      "text/plain": [
       "<Figure size 432x288 with 1 Axes>"
      ]
     },
     "metadata": {
      "needs_background": "light"
     },
     "output_type": "display_data"
    }
   ],
   "source": [
    "country_mean = catalog_cd_df.groupby('title').price.mean()\n",
    "country_mean\n",
    "country_mean_df = pd.DataFrame(country_mean).reset_index()\n",
    "import seaborn as sns\n",
    "import matplotlib.pyplot as plt \n",
    "\n",
    "sns.barplot(x='title', y='price', data=country_mean_df)\n",
    "plt.show()"
   ]
  },
  {
   "cell_type": "code",
   "execution_count": 103,
   "id": "00b953c9",
   "metadata": {},
   "outputs": [
    {
     "name": "stdout",
     "output_type": "stream",
     "text": [
      "    id              region  sales_representative  sales_amount\n",
      "0  1.0               seoul                 510.0        1500.0\n",
      "1  2.0              inchon                 430.0        1260.0\n",
      "2  3.0               busan                 320.0        1090.0\n",
      "3  4.0             guangju                 180.0         550.0\n",
      "4  5.0               ulsan                 135.0         380.0\n",
      "5  6.0              sejong                 110.0         290.0\n",
      "6  7.0              jeunju                  83.0         235.0\n",
      "7  NaN  # ignore this line                   NaN           NaN\n"
     ]
    }
   ],
   "source": [
    "import numpy as np\n",
    "import pandas as pd\n",
    "import os\n",
    "\n",
    "\n",
    "df3 = pd.read_excel(\"C:/Users/Administrator/Jupyter/sales_per_region.xlsx\", sheet_name = 'Sheet1', header = 2, thousands = ',')\n",
    "print(df3)"
   ]
  },
  {
   "cell_type": "code",
   "execution_count": 121,
   "id": "2aa61380",
   "metadata": {},
   "outputs": [
    {
     "name": "stdout",
     "output_type": "stream",
     "text": [
      "Overwriting sample1.csv\n"
     ]
    }
   ],
   "source": [
    "%%writefile sample1.csv\n",
    "c1, c2, c3, c4\n",
    "0.179181, -1.538472, 1.347553, 0.43381\n",
    "1.024209,  -1.281997, 0.49265, 누락\n",
    "0.417899, -2.002308, 0.255245, -1.10515"
   ]
  },
  {
   "cell_type": "code",
   "execution_count": 122,
   "id": "3838eb1a",
   "metadata": {},
   "outputs": [
    {
     "data": {
      "text/html": [
       "<div>\n",
       "<style scoped>\n",
       "    .dataframe tbody tr th:only-of-type {\n",
       "        vertical-align: middle;\n",
       "    }\n",
       "\n",
       "    .dataframe tbody tr th {\n",
       "        vertical-align: top;\n",
       "    }\n",
       "\n",
       "    .dataframe thead th {\n",
       "        text-align: right;\n",
       "    }\n",
       "</style>\n",
       "<table border=\"1\" class=\"dataframe\">\n",
       "  <thead>\n",
       "    <tr style=\"text-align: right;\">\n",
       "      <th></th>\n",
       "      <th>c1</th>\n",
       "      <th>c2</th>\n",
       "      <th>c3</th>\n",
       "      <th>c4</th>\n",
       "    </tr>\n",
       "  </thead>\n",
       "  <tbody>\n",
       "    <tr>\n",
       "      <th>0</th>\n",
       "      <td>0.179181</td>\n",
       "      <td>-1.538472</td>\n",
       "      <td>1.347553</td>\n",
       "      <td>0.43381</td>\n",
       "    </tr>\n",
       "    <tr>\n",
       "      <th>1</th>\n",
       "      <td>1.024209</td>\n",
       "      <td>-1.281997</td>\n",
       "      <td>0.492650</td>\n",
       "      <td>누락</td>\n",
       "    </tr>\n",
       "    <tr>\n",
       "      <th>2</th>\n",
       "      <td>0.417899</td>\n",
       "      <td>-2.002308</td>\n",
       "      <td>0.255245</td>\n",
       "      <td>-1.10515</td>\n",
       "    </tr>\n",
       "  </tbody>\n",
       "</table>\n",
       "</div>"
      ],
      "text/plain": [
       "         c1        c2        c3         c4\n",
       "0  0.179181 -1.538472  1.347553    0.43381\n",
       "1  1.024209 -1.281997  0.492650         누락\n",
       "2  0.417899 -2.002308  0.255245   -1.10515"
      ]
     },
     "execution_count": 122,
     "metadata": {},
     "output_type": "execute_result"
    }
   ],
   "source": [
    "df = pd.read_csv('sample1.csv', na_values=['누락'], encoding=\"utf8\")\n",
    "df"
   ]
  },
  {
   "cell_type": "code",
   "execution_count": 124,
   "id": "12bb3d85",
   "metadata": {},
   "outputs": [
    {
     "name": "stdout",
     "output_type": "stream",
     "text": [
      "     PassengerId  Survived  Pclass  \\\n",
      "0              1         0       3   \n",
      "1              2         1       1   \n",
      "2              3         1       3   \n",
      "3              4         1       1   \n",
      "4              5         0       3   \n",
      "..           ...       ...     ...   \n",
      "886          887         0       2   \n",
      "887          888         1       1   \n",
      "888          889         0       3   \n",
      "889          890         1       1   \n",
      "890          891         0       3   \n",
      "\n",
      "                                                  Name     Sex   Age  SibSp  \\\n",
      "0                              Braund, Mr. Owen Harris    male  22.0      1   \n",
      "1    Cumings, Mrs. John Bradley (Florence Briggs Th...  female  38.0      1   \n",
      "2                               Heikkinen, Miss. Laina  female  26.0      0   \n",
      "3         Futrelle, Mrs. Jacques Heath (Lily May Peel)  female  35.0      1   \n",
      "4                             Allen, Mr. William Henry    male  35.0      0   \n",
      "..                                                 ...     ...   ...    ...   \n",
      "886                              Montvila, Rev. Juozas    male  27.0      0   \n",
      "887                       Graham, Miss. Margaret Edith  female  19.0      0   \n",
      "888           Johnston, Miss. Catherine Helen \"Carrie\"  female   NaN      1   \n",
      "889                              Behr, Mr. Karl Howell    male  26.0      0   \n",
      "890                                Dooley, Mr. Patrick    male  32.0      0   \n",
      "\n",
      "     Parch            Ticket     Fare Cabin Embarked  \n",
      "0        0         A/5 21171   7.2500   NaN        S  \n",
      "1        0          PC 17599  71.2833   C85        C  \n",
      "2        0  STON/O2. 3101282   7.9250   NaN        S  \n",
      "3        0            113803  53.1000  C123        S  \n",
      "4        0            373450   8.0500   NaN        S  \n",
      "..     ...               ...      ...   ...      ...  \n",
      "886      0            211536  13.0000   NaN        S  \n",
      "887      0            112053  30.0000   B42        S  \n",
      "888      2        W./C. 6607  23.4500   NaN        S  \n",
      "889      0            111369  30.0000  C148        C  \n",
      "890      0            370376   7.7500   NaN        Q  \n",
      "\n",
      "[891 rows x 12 columns]\n"
     ]
    }
   ],
   "source": [
    "import pandas as pd\n",
    "df = pd.read_csv(\"https://raw.githubusercontent.com/datascienceschool/docker_rpython/master/data/titanic.csv\")\n",
    "pd.set_option(\"display.max_rows\", 20) # 앞뒤로 모두 20행만 보여준다.\n",
    "print( df )"
   ]
  },
  {
   "cell_type": "code",
   "execution_count": 125,
   "id": "b16987cd",
   "metadata": {},
   "outputs": [],
   "source": [
    "import cx_Oracle"
   ]
  },
  {
   "cell_type": "code",
   "execution_count": 131,
   "id": "4175101a",
   "metadata": {},
   "outputs": [
    {
     "data": {
      "text/plain": [
       "<cx_Oracle.Cursor on <cx_Oracle.Connection to c##scott@localhost/xe>>"
      ]
     },
     "execution_count": 131,
     "metadata": {},
     "output_type": "execute_result"
    }
   ],
   "source": [
    "connection = cx_Oracle.connect('c##scott', 'oracle', 'localhost/xe')\n",
    "cursor = connection.cursor()\n",
    "cursor.execute(\"\"\"\n",
    "select *\n",
    "from emp\n",
    "where deptno = 10\"\"\")"
   ]
  },
  {
   "cell_type": "code",
   "execution_count": 132,
   "id": "9d8e74bc",
   "metadata": {},
   "outputs": [
    {
     "name": "stdout",
     "output_type": "stream",
     "text": [
      "테스트:  (7839, 'KING', 'PRESIDENT', None, datetime.datetime(1981, 11, 17, 0, 0), 5000.0, None, 10)\n",
      "테스트:  (7782, 'CLARK', 'MANAGER', 7839, datetime.datetime(1981, 5, 9, 0, 0), 2450.0, None, 10)\n",
      "테스트:  (7934, 'MILLER', 'CLERK', 7782, datetime.datetime(1982, 1, 11, 0, 0), 1300.0, None, 10)\n",
      "테스트:  (7782, 'CLARK', 'MANAGER', 7839, datetime.datetime(1981, 6, 9, 0, 0), 2450.0, None, 10)\n",
      "테스트:  (7839, 'KING', 'PRESIDENT', None, datetime.datetime(1981, 11, 17, 0, 0), 5000.0, None, 10)\n",
      "테스트:  (7934, 'MILLER', 'CLERK', 7782, datetime.datetime(1982, 1, 23, 0, 0), 1300.0, None, 10)\n"
     ]
    }
   ],
   "source": [
    "for row in cursor :\n",
    "    print(\"테스트: \", row)"
   ]
  },
  {
   "cell_type": "code",
   "execution_count": 149,
   "id": "0b0ba305",
   "metadata": {},
   "outputs": [
    {
     "name": "stdout",
     "output_type": "stream",
     "text": [
      "       국어  영어  수학\n",
      "반  춘향  80  90  90\n",
      "   몽룡  90  70  60\n",
      "번호 향단  70  60  80\n",
      "   방자  30  40  70\n"
     ]
    }
   ],
   "source": [
    "import pandas as pd\n",
    "import numpy as np\n",
    "\n",
    "\n",
    "data = {\n",
    "\"국어\": [80, 90, 70, 30],\n",
    "\"영어\": [90, 70, 60, 40],\n",
    "\"수학\": [90, 60, 80, 70],\n",
    "}\n",
    "df_score3 = pd.DataFrame(data, index = [[\"반\", \"반\", \"번호\", \"번호\"],[\"춘향\", \"몽룡\", \"향단\", \"방자\"]], \n",
    "                         columns = [\"국어\", \"영어\", \"수학\"])\n",
    "print(df_score3)"
   ]
  },
  {
   "cell_type": "code",
   "execution_count": 155,
   "id": "f4a2b63c",
   "metadata": {},
   "outputs": [
    {
     "name": "stdout",
     "output_type": "stream",
     "text": [
      "[[55 50 58]\n",
      " [65 65 61]\n",
      " [54 89 78]\n",
      " [95 76 60]\n",
      " [96 99 77]\n",
      " [85 91 68]\n",
      " [84 80 93]\n",
      " [68 95 73]\n",
      " [51 56 92]\n",
      " [98 80 66]]\n",
      "      국어  영어  수학\n",
      "반 번호            \n",
      "A 1   55  50  58\n",
      "  2   65  65  61\n",
      "  3   54  89  78\n",
      "  4   95  76  60\n",
      "  5   96  99  77\n",
      "B 1   85  91  68\n",
      "  2   84  80  93\n",
      "  3   68  95  73\n",
      "  4   51  56  92\n",
      "  5   98  80  66\n"
     ]
    }
   ],
   "source": [
    "df_score3 = np.random.randint(50, 100,[10,3])\n",
    "print(df_score3)\n",
    "df_score3 = pd.DataFrame(df_score3, columns=['국어','영어','수학'],\n",
    "                       index=[[\"A\",\"A\",\"A\",\"A\",\"A\",\"B\",\"B\",\"B\",\"B\",\"B\"],[i+1for i in range(5)]*2])\n",
    "\n",
    "df_score3.index.names=['반','번호']\n",
    "print(df_score3)"
   ]
  },
  {
   "cell_type": "code",
   "execution_count": 158,
   "id": "e8718914",
   "metadata": {},
   "outputs": [
    {
     "name": "stdout",
     "output_type": "stream",
     "text": [
      "   index  반  번호  국어  영어  수학\n",
      "0      0  A   1  55  50  58\n",
      "1      1  A   2  65  65  61\n",
      "2      2  A   3  54  89  78\n",
      "3      3  A   4  95  76  60\n",
      "4      4  A   5  96  99  77\n",
      "5      5  B   1  85  91  68\n",
      "6      6  B   2  84  80  93\n",
      "7      7  B   3  68  95  73\n",
      "8      8  B   4  51  56  92\n",
      "9      9  B   5  98  80  66\n"
     ]
    }
   ],
   "source": [
    "df_score3 = df_score3.reset_index()\n",
    "print(df_score3)"
   ]
  },
  {
   "cell_type": "code",
   "execution_count": 161,
   "id": "8eb44756",
   "metadata": {},
   "outputs": [
    {
     "ename": "ValueError",
     "evalue": "level should contain all level names or all level numbers, not a mixture of the two.",
     "output_type": "error",
     "traceback": [
      "\u001b[1;31m---------------------------------------------------------------------------\u001b[0m",
      "\u001b[1;31mValueError\u001b[0m                                Traceback (most recent call last)",
      "Input \u001b[1;32mIn [161]\u001b[0m, in \u001b[0;36m<cell line: 1>\u001b[1;34m()\u001b[0m\n\u001b[1;32m----> 1\u001b[0m df_score4 \u001b[38;5;241m=\u001b[39m \u001b[43mdf_score3\u001b[49m\u001b[38;5;241;43m.\u001b[39;49m\u001b[43mstack\u001b[49m\u001b[43m(\u001b[49m\u001b[43m[\u001b[49m\u001b[38;5;124;43m\"\u001b[39;49m\u001b[38;5;124;43m반\u001b[39;49m\u001b[38;5;124;43m\"\u001b[39;49m\u001b[43m,\u001b[49m\u001b[38;5;124;43m\"\u001b[39;49m\u001b[38;5;124;43m번호\u001b[39;49m\u001b[38;5;124;43m\"\u001b[39;49m\u001b[43m]\u001b[49m\u001b[43m)\u001b[49m\n\u001b[0;32m      2\u001b[0m \u001b[38;5;28mprint\u001b[39m(df_score4)\n",
      "File \u001b[1;32mC:\\ProgramData\\Anaconda3\\lib\\site-packages\\pandas\\core\\frame.py:8221\u001b[0m, in \u001b[0;36mDataFrame.stack\u001b[1;34m(self, level, dropna)\u001b[0m\n\u001b[0;32m   8215\u001b[0m \u001b[38;5;28;01mfrom\u001b[39;00m \u001b[38;5;21;01mpandas\u001b[39;00m\u001b[38;5;21;01m.\u001b[39;00m\u001b[38;5;21;01mcore\u001b[39;00m\u001b[38;5;21;01m.\u001b[39;00m\u001b[38;5;21;01mreshape\u001b[39;00m\u001b[38;5;21;01m.\u001b[39;00m\u001b[38;5;21;01mreshape\u001b[39;00m \u001b[38;5;28;01mimport\u001b[39;00m (\n\u001b[0;32m   8216\u001b[0m     stack,\n\u001b[0;32m   8217\u001b[0m     stack_multiple,\n\u001b[0;32m   8218\u001b[0m )\n\u001b[0;32m   8220\u001b[0m \u001b[38;5;28;01mif\u001b[39;00m \u001b[38;5;28misinstance\u001b[39m(level, (\u001b[38;5;28mtuple\u001b[39m, \u001b[38;5;28mlist\u001b[39m)):\n\u001b[1;32m-> 8221\u001b[0m     result \u001b[38;5;241m=\u001b[39m \u001b[43mstack_multiple\u001b[49m\u001b[43m(\u001b[49m\u001b[38;5;28;43mself\u001b[39;49m\u001b[43m,\u001b[49m\u001b[43m \u001b[49m\u001b[43mlevel\u001b[49m\u001b[43m,\u001b[49m\u001b[43m \u001b[49m\u001b[43mdropna\u001b[49m\u001b[38;5;241;43m=\u001b[39;49m\u001b[43mdropna\u001b[49m\u001b[43m)\u001b[49m\n\u001b[0;32m   8222\u001b[0m \u001b[38;5;28;01melse\u001b[39;00m:\n\u001b[0;32m   8223\u001b[0m     result \u001b[38;5;241m=\u001b[39m stack(\u001b[38;5;28mself\u001b[39m, level, dropna\u001b[38;5;241m=\u001b[39mdropna)\n",
      "File \u001b[1;32mC:\\ProgramData\\Anaconda3\\lib\\site-packages\\pandas\\core\\reshape\\reshape.py:651\u001b[0m, in \u001b[0;36mstack_multiple\u001b[1;34m(frame, level, dropna)\u001b[0m\n\u001b[0;32m    648\u001b[0m         level \u001b[38;5;241m=\u001b[39m updated_level\n\u001b[0;32m    650\u001b[0m \u001b[38;5;28;01melse\u001b[39;00m:\n\u001b[1;32m--> 651\u001b[0m     \u001b[38;5;28;01mraise\u001b[39;00m \u001b[38;5;167;01mValueError\u001b[39;00m(\n\u001b[0;32m    652\u001b[0m         \u001b[38;5;124m\"\u001b[39m\u001b[38;5;124mlevel should contain all level names or all level \u001b[39m\u001b[38;5;124m\"\u001b[39m\n\u001b[0;32m    653\u001b[0m         \u001b[38;5;124m\"\u001b[39m\u001b[38;5;124mnumbers, not a mixture of the two.\u001b[39m\u001b[38;5;124m\"\u001b[39m\n\u001b[0;32m    654\u001b[0m     )\n\u001b[0;32m    656\u001b[0m \u001b[38;5;28;01mreturn\u001b[39;00m result\n",
      "\u001b[1;31mValueError\u001b[0m: level should contain all level names or all level numbers, not a mixture of the two."
     ]
    }
   ],
   "source": [
    "df_score4 = df_score3.stack([\"반\",\"번호\"])\n",
    "print(df_score4)"
   ]
  },
  {
   "cell_type": "code",
   "execution_count": 162,
   "id": "33a44cde",
   "metadata": {},
   "outputs": [
    {
     "name": "stdout",
     "output_type": "stream",
     "text": [
      "   고객번호   이름\n",
      "0  1001   둘리\n",
      "1  1002  도우너\n",
      "2  1003   또치\n",
      "3  1004   길동\n",
      "4  1005   희동\n",
      "5  1006  마이콜\n",
      "6  1007   영희\n"
     ]
    }
   ],
   "source": [
    "import pandas as pd\n",
    "df1 = pd.DataFrame({ '고객번호': [1001, 1002, 1003, 1004, 1005, 1006, 1007],\n",
    "'이름': ['둘리', '도우너', '또치', '길동', '희동', '마이콜', '영희']\n",
    "}, columns=['고객번호', '이름'])\n",
    "print(df1)"
   ]
  },
  {
   "cell_type": "code",
   "execution_count": 163,
   "id": "643f3ab8",
   "metadata": {},
   "outputs": [
    {
     "name": "stdout",
     "output_type": "stream",
     "text": [
      "   고객번호      금액\n",
      "0  1001   10000\n",
      "1  1001   20000\n",
      "2  1005   15000\n",
      "3  1006    5000\n",
      "4  1008  100000\n",
      "5  1001   30000\n"
     ]
    }
   ],
   "source": [
    "df2 = pd.DataFrame({ '고객번호': [1001, 1001, 1005, 1006, 1008, 1001],\n",
    "'금액': [10000, 20000, 15000, 5000, 100000, 30000]\n",
    "}, columns=['고객번호', '금액'])\n",
    "print(df2)"
   ]
  },
  {
   "cell_type": "code",
   "execution_count": 164,
   "id": "2309c234",
   "metadata": {},
   "outputs": [
    {
     "name": "stdout",
     "output_type": "stream",
     "text": [
      "   고객번호   이름     금액\n",
      "0  1001   둘리  10000\n",
      "1  1001   둘리  20000\n",
      "2  1001   둘리  30000\n",
      "3  1005   희동  15000\n",
      "4  1006  마이콜   5000\n"
     ]
    }
   ],
   "source": [
    "print(pd.merge(df1, df2))"
   ]
  },
  {
   "cell_type": "code",
   "execution_count": 165,
   "id": "2e926edd",
   "metadata": {},
   "outputs": [
    {
     "name": "stdout",
     "output_type": "stream",
     "text": [
      "   고객번호   이름        금액\n",
      "0  1001   둘리   10000.0\n",
      "1  1001   둘리   20000.0\n",
      "2  1001   둘리   30000.0\n",
      "3  1002  도우너       NaN\n",
      "4  1003   또치       NaN\n",
      "5  1004   길동       NaN\n",
      "6  1005   희동   15000.0\n",
      "7  1006  마이콜    5000.0\n",
      "8  1007   영희       NaN\n",
      "9  1008  NaN  100000.0\n"
     ]
    }
   ],
   "source": [
    "print(pd.merge(df1, df2, how='outer'))"
   ]
  },
  {
   "cell_type": "code",
   "execution_count": 166,
   "id": "3eb16952",
   "metadata": {},
   "outputs": [
    {
     "name": "stdout",
     "output_type": "stream",
     "text": [
      "   고객번호   이름       금액\n",
      "0  1001   둘리  10000.0\n",
      "1  1001   둘리  20000.0\n",
      "2  1001   둘리  30000.0\n",
      "3  1002  도우너      NaN\n",
      "4  1003   또치      NaN\n",
      "5  1004   길동      NaN\n",
      "6  1005   희동  15000.0\n",
      "7  1006  마이콜   5000.0\n",
      "8  1007   영희      NaN\n"
     ]
    }
   ],
   "source": [
    "print(pd.merge(df1, df2, how='left'))"
   ]
  },
  {
   "cell_type": "code",
   "execution_count": 169,
   "id": "902e1a01",
   "metadata": {},
   "outputs": [
    {
     "name": "stdout",
     "output_type": "stream",
     "text": [
      "   고객번호   이름      금액\n",
      "0  1001   둘리   10000\n",
      "1  1001   둘리   20000\n",
      "2  1005   희동   15000\n",
      "3  1006  마이콜    5000\n",
      "4  1008  NaN  100000\n",
      "5  1001   둘리   30000\n"
     ]
    }
   ],
   "source": [
    "print(pd.merge(df1, df2, how='right'))"
   ]
  },
  {
   "cell_type": "code",
   "execution_count": null,
   "id": "751f207a",
   "metadata": {},
   "outputs": [],
   "source": []
  }
 ],
 "metadata": {
  "kernelspec": {
   "display_name": "Python 3 (ipykernel)",
   "language": "python",
   "name": "python3"
  },
  "language_info": {
   "codemirror_mode": {
    "name": "ipython",
    "version": 3
   },
   "file_extension": ".py",
   "mimetype": "text/x-python",
   "name": "python",
   "nbconvert_exporter": "python",
   "pygments_lexer": "ipython3",
   "version": "3.9.12"
  }
 },
 "nbformat": 4,
 "nbformat_minor": 5
}
