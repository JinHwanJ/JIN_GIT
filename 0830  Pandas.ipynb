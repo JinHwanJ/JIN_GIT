{
 "cells": [
  {
   "cell_type": "code",
   "execution_count": 11,
   "id": "8402e726",
   "metadata": {},
   "outputs": [
    {
     "name": "stdout",
     "output_type": "stream",
     "text": [
      "Total tables:29\n",
      "                                           Minnesota  \\\n",
      "0                                              State   \n",
      "1                                 State of Minnesota   \n",
      "2  .mw-parser-output .ib-settlement-cols{text-ali...   \n",
      "3  Nickname(s): Land of 10,000 Lakes;North Star S...   \n",
      "4  Motto(s): L'Étoile du Nord (French: The Star o...   \n",
      "\n",
      "                                         Minnesota.1  \n",
      "0                                              State  \n",
      "1                                 State of Minnesota  \n",
      "2  .mw-parser-output .ib-settlement-cols{text-ali...  \n",
      "3  Nickname(s): Land of 10,000 Lakes;North Star S...  \n",
      "4  Motto(s): L'Étoile du Nord (French: The Star o...  \n",
      "<class 'pandas.core.frame.DataFrame'>\n",
      "RangeIndex: 52 entries, 0 to 51\n",
      "Data columns (total 2 columns):\n",
      " #   Column       Non-Null Count  Dtype \n",
      "---  ------       --------------  ----- \n",
      " 0   Minnesota    52 non-null     object\n",
      " 1   Minnesota.1  52 non-null     object\n",
      "dtypes: object(2)\n",
      "memory usage: 960.0+ bytes\n",
      "None\n"
     ]
    }
   ],
   "source": [
    "import pandas as pd\n",
    "import numpy as np\n",
    "import matplotlib.pyplot as plt\n",
    "from unicodedata import normalize\n",
    "\n",
    "table_MN = pd.read_html('https://en.wikipedia.org/wiki/Minnesota')\n",
    "print(f'Total tables:{len(table_MN)}')\n",
    "df = table_MN[0]\n",
    "print(df.head())\n",
    "print(df.info())\n"
   ]
  },
  {
   "cell_type": "code",
   "execution_count": 10,
   "id": "cad247c8",
   "metadata": {},
   "outputs": [
    {
     "name": "stdout",
     "output_type": "stream",
     "text": [
      "1\n",
      "[    Year     Office    GOP    DFL Others\n",
      "0   2020  President  45.3%  52.4%   2.3%\n",
      "1   2020    Senator  43.5%  48.8%   7.7%\n",
      "2   2018   Governor  42.4%  53.9%   3.7%\n",
      "3   2018    Senator  36.2%  60.3%   3.4%\n",
      "4   2018    Senator  42.4%  53.0%   4.6%\n",
      "5   2016  President  44.9%  46.4%   8.6%\n",
      "6   2014   Governor  44.5%  50.1%   5.4%\n",
      "7   2014    Senator  42.9%  53.2%   3.9%\n",
      "8   2012  President  45.1%  52.8%   2.1%\n",
      "9   2012    Senator  30.6%  65.3%   4.1%\n",
      "10  2010   Governor  43.2%  43.7%  13.1%\n",
      "11  2008  President  43.8%  54.1%   2.1%\n",
      "12  2008    Senator  42.0%  42.0%  16.0%\n",
      "13  2006   Governor  46.7%  45.7%   7.6%\n",
      "14  2006    Senator  37.9%  58.1%   4.0%\n",
      "15  2004  President  47.6%  51.1%   1.3%\n",
      "16  2002   Governor  44.4%  33.5%  22.1%\n",
      "17  2002    Senator  49.5%  47.3%   1.0%\n",
      "18  2000  President  45.5%  47.9%   6.6%\n",
      "19  2000    Senator  43.3%  48.8%   7.9%\n",
      "20  1998   Governor  34.3%  28.1%  37.6%\n",
      "21  1996  President  35.0%  51.1%  13.9%\n",
      "22  1996    Senator  41.3%  50.3%   8.4%\n",
      "23  1994   Governor  63.3%  34.1%   2.6%\n",
      "24  1994    Senator  49.1%  44.1%   6.8%\n",
      "25  1992  President  31.9%  43.5%  24.6%]\n"
     ]
    }
   ],
   "source": [
    "table_MN = pd.read_html('https://en.wikipedia.org/wiki/Minnesota', match='Election results from statewide races')\n",
    "print(len(table_MN))\n",
    "print(table_MN)"
   ]
  },
  {
   "cell_type": "code",
   "execution_count": 12,
   "id": "c17aed78",
   "metadata": {},
   "outputs": [
    {
     "name": "stdout",
     "output_type": "stream",
     "text": [
      "   도시    연도       인구   지역\n",
      "0  서울  2015  9904312  수도권\n",
      "1  서울  2010  9631482  수도권\n",
      "2  서울  2005  9762546  수도권\n",
      "3  부산  2015  3448737  경상권\n",
      "4  부산  2010  3393191  경상권\n",
      "5  부산  2005  3512547  경상권\n",
      "6  인천  2015  2890451  수도권\n",
      "7  인천  2010   263203  수도권\n"
     ]
    }
   ],
   "source": [
    "import pandas as pd\n",
    "data = {\n",
    "\"도시\": [\"서울\", \"서울\", \"서울\", \"부산\", \"부산\", \"부산\", \"인천\", \"인천\"],\n",
    "\"연도\": [\"2015\", \"2010\", \"2005\", \"2015\", \"2010\", \"2005\", \"2015\", \"2010\"],\n",
    "\"인구\": [9904312, 9631482, 9762546, 3448737, 3393191, 3512547, 2890451, 263203],\n",
    "\"지역\": [\"수도권\", \"수도권\", \"수도권\", \"경상권\", \"경상권\", \"경상권\", \"수도권\", \"수도권\"]\n",
    "}\n",
    "columns = [\"도시\", \"연도\", \"인구\", \"지역\"]\n",
    "df1 = pd.DataFrame(data, columns=columns)\n",
    "print(df1)\n"
   ]
  },
  {
   "cell_type": "code",
   "execution_count": 13,
   "id": "10d649c4",
   "metadata": {},
   "outputs": [
    {
     "name": "stdout",
     "output_type": "stream",
     "text": [
      "연도       2005       2010       2015\n",
      "도시                                 \n",
      "부산  3512547.0  3393191.0  3448737.0\n",
      "서울  9762546.0  9631482.0  9904312.0\n",
      "인천        NaN   263203.0  2890451.0\n",
      "Index(['2005', '2010', '2015'], dtype='object', name='연도')\n",
      "Index(['부산', '서울', '인천'], dtype='object', name='도시')\n"
     ]
    }
   ],
   "source": [
    "#행 인덱스 인수로는 \"도시\", 열 인덱스 인수로는 \"연도\", 데이터 이름으로 \"인구\"를 입력\n",
    "pivot1 = df1.pivot(\"도시\", \"연도\", \"인구\")\n",
    "print(pivot1)\n",
    "print(pivot1.columns)\n",
    "print(pivot1.index)"
   ]
  },
  {
   "cell_type": "code",
   "execution_count": 14,
   "id": "935e8f96",
   "metadata": {},
   "outputs": [
    {
     "name": "stdout",
     "output_type": "stream",
     "text": [
      "           인구                      \n",
      "연도       2005       2010       2015\n",
      "도시                                 \n",
      "부산  3512547.0  3393191.0  3448737.0\n",
      "서울  9762546.0  9631482.0  9904312.0\n",
      "인천        NaN   263203.0  2890451.0\n"
     ]
    }
   ],
   "source": [
    "#피봇테이블은 set_index 명령과 unstack 명령을 사용해서 만들 수도 있다.\n",
    "print(df1.set_index([\"도시\", \"연도\"])[[\"인구\"]].unstack())"
   ]
  },
  {
   "cell_type": "code",
   "execution_count": 15,
   "id": "cd3f4644",
   "metadata": {},
   "outputs": [
    {
     "name": "stdout",
     "output_type": "stream",
     "text": [
      "연도       2005       2010       2015\n",
      "도시                                 \n",
      "부산  3512547.0  3393191.0  3448737.0\n",
      "서울  9762546.0  9631482.0  9904312.0\n",
      "인천        NaN   263203.0  2890451.0\n"
     ]
    }
   ],
   "source": [
    "pivot2 = pivot1.copy()\n",
    "print(pivot2)"
   ]
  },
  {
   "cell_type": "code",
   "execution_count": 16,
   "id": "e512e29b",
   "metadata": {},
   "outputs": [
    {
     "name": "stdout",
     "output_type": "stream",
     "text": [
      "Index(['2005', '2010', '2015'], dtype='object', name='연도')\n",
      "Index(['부산', '서울', '인천'], dtype='object', name='도시')\n"
     ]
    }
   ],
   "source": [
    "print(pivot2.columns)\n",
    "print(pivot2.index)"
   ]
  },
  {
   "cell_type": "code",
   "execution_count": null,
   "id": "47e5ad7e",
   "metadata": {},
   "outputs": [],
   "source": []
  },
  {
   "cell_type": "code",
   "execution_count": 18,
   "id": "87ffd5e2",
   "metadata": {},
   "outputs": [
    {
     "ename": "NameError",
     "evalue": "name 'level' is not defined",
     "output_type": "error",
     "traceback": [
      "\u001b[1;31m---------------------------------------------------------------------------\u001b[0m",
      "\u001b[1;31mNameError\u001b[0m                                 Traceback (most recent call last)",
      "Input \u001b[1;32mIn [18]\u001b[0m, in \u001b[0;36m<cell line: 1>\u001b[1;34m()\u001b[0m\n\u001b[1;32m----> 1\u001b[0m pivot2\u001b[38;5;241m.\u001b[39mreset_index(\u001b[43mlevel\u001b[49m\u001b[38;5;241m-\u001b[39m\u001b[38;5;241m0\u001b[39m,inplace\u001b[38;5;241m=\u001b[39m\u001b[38;5;28;01mTrue\u001b[39;00m)\n\u001b[0;32m      2\u001b[0m \u001b[38;5;28mprint\u001b[39m(pivot2)\n",
      "\u001b[1;31mNameError\u001b[0m: name 'level' is not defined"
     ]
    }
   ],
   "source": [
    "pivot2.reset_index(level-0,inplace=True)\n",
    "print(pivot2)"
   ]
  },
  {
   "cell_type": "code",
   "execution_count": 20,
   "id": "4b2e963c",
   "metadata": {},
   "outputs": [
    {
     "name": "stdout",
     "output_type": "stream",
     "text": [
      "ValueError\n"
     ]
    }
   ],
   "source": [
    "try:\n",
    "    df1.pivot(\"지역\",\"연도\",\"인구\")\n",
    "except ValueError as e :\n",
    "    print(\"ValueError\")"
   ]
  },
  {
   "cell_type": "code",
   "execution_count": 26,
   "id": "3ffbb170",
   "metadata": {},
   "outputs": [
    {
     "name": "stdout",
     "output_type": "stream",
     "text": [
      "<class 'pandas.core.frame.DataFrame'>\n",
      "RangeIndex: 9 entries, 0 to 8\n",
      "Data columns (total 4 columns):\n",
      " #   Column   Non-Null Count  Dtype \n",
      "---  ------   --------------  ----- \n",
      " 0   cust_id  9 non-null      object\n",
      " 1   prod_cd  9 non-null      object\n",
      " 2   grade    9 non-null      object\n",
      " 3   pch_amt  9 non-null      int64 \n",
      "dtypes: int64(1), object(3)\n",
      "memory usage: 416.0+ bytes\n",
      "None\n",
      "  cust_id prod_cd grade  pch_amt\n",
      "0      c1      p1     A       30\n",
      "1      c1      p2     A       10\n",
      "2      c1      p3     A        0\n",
      "3      c2      p1     A       40\n",
      "4      c2      p2     A       15\n",
      "5      c2      p3     A       30\n",
      "6      c3      p1     B        0\n",
      "7      c3      p2     B        0\n",
      "8      c3      p3     B       10\n"
     ]
    }
   ],
   "source": [
    "import pandas as pd\n",
    "\n",
    "data = pd.DataFrame({'cust_id': ['c1', 'c1', 'c1', 'c2', 'c2', 'c2', 'c3', 'c3', 'c3'],\n",
    "                  'prod_cd': ['p1', 'p2', 'p3', 'p1', 'p2', 'p3', 'p1', 'p2', 'p3'], \n",
    "                  'grade' : ['A', 'A', 'A', 'A', 'A', 'A', 'B', 'B', 'B'], \n",
    "                  'pch_amt': [30, 10, 0, 40, 15, 30, 0, 0, 10]})\n",
    "\n",
    "print(data.info())\n",
    "print(data)"
   ]
  },
  {
   "cell_type": "code",
   "execution_count": 27,
   "id": "bca412e6",
   "metadata": {},
   "outputs": [
    {
     "data": {
      "text/html": [
       "<div>\n",
       "<style scoped>\n",
       "    .dataframe tbody tr th:only-of-type {\n",
       "        vertical-align: middle;\n",
       "    }\n",
       "\n",
       "    .dataframe tbody tr th {\n",
       "        vertical-align: top;\n",
       "    }\n",
       "\n",
       "    .dataframe thead th {\n",
       "        text-align: right;\n",
       "    }\n",
       "</style>\n",
       "<table border=\"1\" class=\"dataframe\">\n",
       "  <thead>\n",
       "    <tr style=\"text-align: right;\">\n",
       "      <th></th>\n",
       "      <th>prod_cd</th>\n",
       "      <th>p1</th>\n",
       "      <th>p2</th>\n",
       "      <th>p3</th>\n",
       "    </tr>\n",
       "    <tr>\n",
       "      <th>cust_id</th>\n",
       "      <th>grade</th>\n",
       "      <th></th>\n",
       "      <th></th>\n",
       "      <th></th>\n",
       "    </tr>\n",
       "  </thead>\n",
       "  <tbody>\n",
       "    <tr>\n",
       "      <th>c1</th>\n",
       "      <th>A</th>\n",
       "      <td>30</td>\n",
       "      <td>10</td>\n",
       "      <td>0</td>\n",
       "    </tr>\n",
       "    <tr>\n",
       "      <th>c2</th>\n",
       "      <th>A</th>\n",
       "      <td>40</td>\n",
       "      <td>15</td>\n",
       "      <td>30</td>\n",
       "    </tr>\n",
       "    <tr>\n",
       "      <th>c3</th>\n",
       "      <th>B</th>\n",
       "      <td>0</td>\n",
       "      <td>0</td>\n",
       "      <td>10</td>\n",
       "    </tr>\n",
       "  </tbody>\n",
       "</table>\n",
       "</div>"
      ],
      "text/plain": [
       "prod_cd        p1  p2  p3\n",
       "cust_id grade            \n",
       "c1      A      30  10   0\n",
       "c2      A      40  15  30\n",
       "c3      B       0   0  10"
      ]
     },
     "execution_count": 27,
     "metadata": {},
     "output_type": "execute_result"
    }
   ],
   "source": [
    "pd.pivot_table(data, index=['cust_id','grade'], columns='prod_cd', values='pch_amt')"
   ]
  },
  {
   "cell_type": "code",
   "execution_count": 30,
   "id": "70455a5e",
   "metadata": {},
   "outputs": [
    {
     "name": "stdout",
     "output_type": "stream",
     "text": [
      "<class 'pandas.core.frame.DataFrame'>\n",
      "RangeIndex: 4 entries, 0 to 3\n",
      "Data columns (total 4 columns):\n",
      " #   Column   Non-Null Count  Dtype \n",
      "---  ------   --------------  ----- \n",
      " 0   cust_ID  4 non-null      object\n",
      " 1   prd_CD   4 non-null      object\n",
      " 2   pch_cnt  4 non-null      int64 \n",
      " 3   pch_amt  4 non-null      int64 \n",
      "dtypes: int64(2), object(2)\n",
      "memory usage: 256.0+ bytes\n",
      "None\n",
      "  cust_ID prd_CD  pch_cnt  pch_amt\n",
      "0   C_001  P_001        1      100\n",
      "1   C_001  P_002        2      200\n",
      "2   C_002  P_001        3      300\n",
      "3   C_002  P_002        4      400\n"
     ]
    }
   ],
   "source": [
    "data = pd.DataFrame({'cust_ID' : ['C_001', 'C_001', 'C_002', 'C_002'], 'prd_CD' : ['P_001', 'P_002', 'P_001', 'P_002'],'pch_cnt' : [1, 2, 3, 4],'pch_amt' : [100, 200, 300, 400]})\n",
    "print(data.info())\n",
    "print(data)"
   ]
  },
  {
   "cell_type": "code",
   "execution_count": 32,
   "id": "b9db0bd5",
   "metadata": {},
   "outputs": [
    {
     "data": {
      "text/html": [
       "<div>\n",
       "<style scoped>\n",
       "    .dataframe tbody tr th:only-of-type {\n",
       "        vertical-align: middle;\n",
       "    }\n",
       "\n",
       "    .dataframe tbody tr th {\n",
       "        vertical-align: top;\n",
       "    }\n",
       "\n",
       "    .dataframe thead th {\n",
       "        text-align: right;\n",
       "    }\n",
       "</style>\n",
       "<table border=\"1\" class=\"dataframe\">\n",
       "  <thead>\n",
       "    <tr style=\"text-align: right;\">\n",
       "      <th></th>\n",
       "      <th>cust_ID</th>\n",
       "      <th>prd_CD</th>\n",
       "      <th>variable</th>\n",
       "      <th>value</th>\n",
       "    </tr>\n",
       "  </thead>\n",
       "  <tbody>\n",
       "    <tr>\n",
       "      <th>0</th>\n",
       "      <td>C_001</td>\n",
       "      <td>P_001</td>\n",
       "      <td>pch_cnt</td>\n",
       "      <td>1</td>\n",
       "    </tr>\n",
       "    <tr>\n",
       "      <th>1</th>\n",
       "      <td>C_001</td>\n",
       "      <td>P_002</td>\n",
       "      <td>pch_cnt</td>\n",
       "      <td>2</td>\n",
       "    </tr>\n",
       "    <tr>\n",
       "      <th>2</th>\n",
       "      <td>C_002</td>\n",
       "      <td>P_001</td>\n",
       "      <td>pch_cnt</td>\n",
       "      <td>3</td>\n",
       "    </tr>\n",
       "    <tr>\n",
       "      <th>3</th>\n",
       "      <td>C_002</td>\n",
       "      <td>P_002</td>\n",
       "      <td>pch_cnt</td>\n",
       "      <td>4</td>\n",
       "    </tr>\n",
       "    <tr>\n",
       "      <th>4</th>\n",
       "      <td>C_001</td>\n",
       "      <td>P_001</td>\n",
       "      <td>pch_amt</td>\n",
       "      <td>100</td>\n",
       "    </tr>\n",
       "    <tr>\n",
       "      <th>5</th>\n",
       "      <td>C_001</td>\n",
       "      <td>P_002</td>\n",
       "      <td>pch_amt</td>\n",
       "      <td>200</td>\n",
       "    </tr>\n",
       "    <tr>\n",
       "      <th>6</th>\n",
       "      <td>C_002</td>\n",
       "      <td>P_001</td>\n",
       "      <td>pch_amt</td>\n",
       "      <td>300</td>\n",
       "    </tr>\n",
       "    <tr>\n",
       "      <th>7</th>\n",
       "      <td>C_002</td>\n",
       "      <td>P_002</td>\n",
       "      <td>pch_amt</td>\n",
       "      <td>400</td>\n",
       "    </tr>\n",
       "  </tbody>\n",
       "</table>\n",
       "</div>"
      ],
      "text/plain": [
       "  cust_ID prd_CD variable  value\n",
       "0   C_001  P_001  pch_cnt      1\n",
       "1   C_001  P_002  pch_cnt      2\n",
       "2   C_002  P_001  pch_cnt      3\n",
       "3   C_002  P_002  pch_cnt      4\n",
       "4   C_001  P_001  pch_amt    100\n",
       "5   C_001  P_002  pch_amt    200\n",
       "6   C_002  P_001  pch_amt    300\n",
       "7   C_002  P_002  pch_amt    400"
      ]
     },
     "execution_count": 32,
     "metadata": {},
     "output_type": "execute_result"
    }
   ],
   "source": [
    "pd.melt(data, id_vars=['cust_ID', 'prd_CD'])"
   ]
  },
  {
   "cell_type": "code",
   "execution_count": 33,
   "id": "129f4bee",
   "metadata": {},
   "outputs": [
    {
     "data": {
      "text/html": [
       "<div>\n",
       "<style scoped>\n",
       "    .dataframe tbody tr th:only-of-type {\n",
       "        vertical-align: middle;\n",
       "    }\n",
       "\n",
       "    .dataframe tbody tr th {\n",
       "        vertical-align: top;\n",
       "    }\n",
       "\n",
       "    .dataframe thead th {\n",
       "        text-align: right;\n",
       "    }\n",
       "</style>\n",
       "<table border=\"1\" class=\"dataframe\">\n",
       "  <thead>\n",
       "    <tr style=\"text-align: right;\">\n",
       "      <th></th>\n",
       "      <th>cust_ID</th>\n",
       "      <th>prd_CD</th>\n",
       "      <th>pch_CD</th>\n",
       "      <th>pch_value</th>\n",
       "    </tr>\n",
       "  </thead>\n",
       "  <tbody>\n",
       "    <tr>\n",
       "      <th>0</th>\n",
       "      <td>C_001</td>\n",
       "      <td>P_001</td>\n",
       "      <td>pch_cnt</td>\n",
       "      <td>1</td>\n",
       "    </tr>\n",
       "    <tr>\n",
       "      <th>1</th>\n",
       "      <td>C_001</td>\n",
       "      <td>P_002</td>\n",
       "      <td>pch_cnt</td>\n",
       "      <td>2</td>\n",
       "    </tr>\n",
       "    <tr>\n",
       "      <th>2</th>\n",
       "      <td>C_002</td>\n",
       "      <td>P_001</td>\n",
       "      <td>pch_cnt</td>\n",
       "      <td>3</td>\n",
       "    </tr>\n",
       "    <tr>\n",
       "      <th>3</th>\n",
       "      <td>C_002</td>\n",
       "      <td>P_002</td>\n",
       "      <td>pch_cnt</td>\n",
       "      <td>4</td>\n",
       "    </tr>\n",
       "    <tr>\n",
       "      <th>4</th>\n",
       "      <td>C_001</td>\n",
       "      <td>P_001</td>\n",
       "      <td>pch_amt</td>\n",
       "      <td>100</td>\n",
       "    </tr>\n",
       "    <tr>\n",
       "      <th>5</th>\n",
       "      <td>C_001</td>\n",
       "      <td>P_002</td>\n",
       "      <td>pch_amt</td>\n",
       "      <td>200</td>\n",
       "    </tr>\n",
       "    <tr>\n",
       "      <th>6</th>\n",
       "      <td>C_002</td>\n",
       "      <td>P_001</td>\n",
       "      <td>pch_amt</td>\n",
       "      <td>300</td>\n",
       "    </tr>\n",
       "    <tr>\n",
       "      <th>7</th>\n",
       "      <td>C_002</td>\n",
       "      <td>P_002</td>\n",
       "      <td>pch_amt</td>\n",
       "      <td>400</td>\n",
       "    </tr>\n",
       "  </tbody>\n",
       "</table>\n",
       "</div>"
      ],
      "text/plain": [
       "  cust_ID prd_CD   pch_CD  pch_value\n",
       "0   C_001  P_001  pch_cnt          1\n",
       "1   C_001  P_002  pch_cnt          2\n",
       "2   C_002  P_001  pch_cnt          3\n",
       "3   C_002  P_002  pch_cnt          4\n",
       "4   C_001  P_001  pch_amt        100\n",
       "5   C_001  P_002  pch_amt        200\n",
       "6   C_002  P_001  pch_amt        300\n",
       "7   C_002  P_002  pch_amt        400"
      ]
     },
     "execution_count": 33,
     "metadata": {},
     "output_type": "execute_result"
    }
   ],
   "source": [
    "pd.melt(data, id_vars=['cust_ID', 'prd_CD'], var_name='pch_CD', value_name='pch_value')"
   ]
  },
  {
   "cell_type": "code",
   "execution_count": 35,
   "id": "464edd21",
   "metadata": {},
   "outputs": [
    {
     "name": "stdout",
     "output_type": "stream",
     "text": [
      "RangeIndex(start=0, stop=8, step=1)\n",
      "Index(['cust_ID', 'prd_CD', 'pch_CD', 'pch_value'], dtype='object')\n"
     ]
    }
   ],
   "source": [
    "data_melt = pd.melt(data, id_vars=['cust_ID', 'prd_CD'], var_name='pch_CD', value_name='pch_value')\n",
    "print(data_melt.index)\n",
    "print(data_melt.columns)"
   ]
  },
  {
   "cell_type": "code",
   "execution_count": 36,
   "id": "05309aef",
   "metadata": {},
   "outputs": [
    {
     "name": "stdout",
     "output_type": "stream",
     "text": [
      "MultiIndex([('C_001', 'P_001'),\n",
      "            ('C_001', 'P_002'),\n",
      "            ('C_002', 'P_001'),\n",
      "            ('C_002', 'P_002')],\n",
      "           names=['cust_ID', 'prd_CD'])\n"
     ]
    }
   ],
   "source": [
    "data_melt_pivot = pd.pivot_table(data_melt, index=['cust_ID', 'prd_CD'], columns='pch_CD', values='pch_value', aggfunc=np.mean)\n",
    "print(data_melt_pivot.index)"
   ]
  },
  {
   "cell_type": "code",
   "execution_count": 37,
   "id": "392124f4",
   "metadata": {},
   "outputs": [
    {
     "name": "stdout",
     "output_type": "stream",
     "text": [
      "Index(['pch_amt', 'pch_cnt'], dtype='object', name='pch_CD')\n"
     ]
    }
   ],
   "source": [
    "print(data_melt_pivot.columns)"
   ]
  },
  {
   "cell_type": "code",
   "execution_count": 38,
   "id": "aa9a4181",
   "metadata": {},
   "outputs": [],
   "source": [
    "data_melt_pivot = pd.pivot_table(data_melt, index=['cust_ID', 'prd_CD'], columns='pch_CD', values='pch_value', aggfunc=np.mean)"
   ]
  },
  {
   "cell_type": "code",
   "execution_count": 44,
   "id": "2502c667",
   "metadata": {},
   "outputs": [
    {
     "data": {
      "text/plain": [
       "노선번호\n",
       "line_1     483346.70\n",
       "line_2    2369694.25\n",
       "line_3     824213.45\n",
       "line_4     990538.80\n",
       "line_5     526479.85\n",
       "line_6     990538.80\n",
       "line_7     978634.95\n",
       "line_8     946210.60\n",
       "Name: 승차, dtype: float64"
      ]
     },
     "execution_count": 44,
     "metadata": {},
     "output_type": "execute_result"
    }
   ],
   "source": [
    "sub= pd.read_csv('C:/Users/Administrator/Jupyter/subway.csv', encoding='cp949')\n",
    "\n",
    "\n",
    "sub.groupby(sub['노선번호']).mean()['승차']\n",
    "sub.groupby(sub['노선번호'])['승차'].mean()"
   ]
  },
  {
   "cell_type": "code",
   "execution_count": 45,
   "id": "5c1e31ab",
   "metadata": {},
   "outputs": [
    {
     "data": {
      "text/html": [
       "<div>\n",
       "<style scoped>\n",
       "    .dataframe tbody tr th:only-of-type {\n",
       "        vertical-align: middle;\n",
       "    }\n",
       "\n",
       "    .dataframe tbody tr th {\n",
       "        vertical-align: top;\n",
       "    }\n",
       "\n",
       "    .dataframe thead tr th {\n",
       "        text-align: left;\n",
       "    }\n",
       "\n",
       "    .dataframe thead tr:last-of-type th {\n",
       "        text-align: right;\n",
       "    }\n",
       "</style>\n",
       "<table border=\"1\" class=\"dataframe\">\n",
       "  <thead>\n",
       "    <tr>\n",
       "      <th></th>\n",
       "      <th colspan=\"2\" halign=\"left\">승차</th>\n",
       "      <th colspan=\"2\" halign=\"left\">하차</th>\n",
       "    </tr>\n",
       "    <tr>\n",
       "      <th></th>\n",
       "      <th>sum</th>\n",
       "      <th>mean</th>\n",
       "      <th>sum</th>\n",
       "      <th>mean</th>\n",
       "    </tr>\n",
       "    <tr>\n",
       "      <th>노선번호</th>\n",
       "      <th></th>\n",
       "      <th></th>\n",
       "      <th></th>\n",
       "      <th></th>\n",
       "    </tr>\n",
       "  </thead>\n",
       "  <tbody>\n",
       "    <tr>\n",
       "      <th>line_1</th>\n",
       "      <td>9666934</td>\n",
       "      <td>483346.70</td>\n",
       "      <td>9430846</td>\n",
       "      <td>471542.30</td>\n",
       "    </tr>\n",
       "    <tr>\n",
       "      <th>line_2</th>\n",
       "      <td>47393885</td>\n",
       "      <td>2369694.25</td>\n",
       "      <td>47983161</td>\n",
       "      <td>2399158.05</td>\n",
       "    </tr>\n",
       "    <tr>\n",
       "      <th>line_3</th>\n",
       "      <td>16484269</td>\n",
       "      <td>824213.45</td>\n",
       "      <td>16555337</td>\n",
       "      <td>827766.85</td>\n",
       "    </tr>\n",
       "    <tr>\n",
       "      <th>line_4</th>\n",
       "      <td>19810776</td>\n",
       "      <td>990538.80</td>\n",
       "      <td>20053934</td>\n",
       "      <td>1002696.70</td>\n",
       "    </tr>\n",
       "    <tr>\n",
       "      <th>line_5</th>\n",
       "      <td>10529597</td>\n",
       "      <td>526479.85</td>\n",
       "      <td>10650666</td>\n",
       "      <td>532533.30</td>\n",
       "    </tr>\n",
       "    <tr>\n",
       "      <th>line_6</th>\n",
       "      <td>19810776</td>\n",
       "      <td>990538.80</td>\n",
       "      <td>20053934</td>\n",
       "      <td>1002696.70</td>\n",
       "    </tr>\n",
       "    <tr>\n",
       "      <th>line_7</th>\n",
       "      <td>19572699</td>\n",
       "      <td>978634.95</td>\n",
       "      <td>20642314</td>\n",
       "      <td>1032115.70</td>\n",
       "    </tr>\n",
       "    <tr>\n",
       "      <th>line_8</th>\n",
       "      <td>18924212</td>\n",
       "      <td>946210.60</td>\n",
       "      <td>17843163</td>\n",
       "      <td>892158.15</td>\n",
       "    </tr>\n",
       "  </tbody>\n",
       "</table>\n",
       "</div>"
      ],
      "text/plain": [
       "              승차                    하차            \n",
       "             sum        mean       sum        mean\n",
       "노선번호                                              \n",
       "line_1   9666934   483346.70   9430846   471542.30\n",
       "line_2  47393885  2369694.25  47983161  2399158.05\n",
       "line_3  16484269   824213.45  16555337   827766.85\n",
       "line_4  19810776   990538.80  20053934  1002696.70\n",
       "line_5  10529597   526479.85  10650666   532533.30\n",
       "line_6  19810776   990538.80  20053934  1002696.70\n",
       "line_7  19572699   978634.95  20642314  1032115.70\n",
       "line_8  18924212   946210.60  17843163   892158.15"
      ]
     },
     "execution_count": 45,
     "metadata": {},
     "output_type": "execute_result"
    }
   ],
   "source": [
    "#\n",
    "\n",
    "sub.iloc[:,[0,2,3]].groupby('노선번호').agg(['sum','mean'])"
   ]
  },
  {
   "cell_type": "code",
   "execution_count": 46,
   "id": "cfb74947",
   "metadata": {},
   "outputs": [
    {
     "data": {
      "text/plain": [
       "노선번호\n",
       "line_1    20\n",
       "line_2    20\n",
       "line_3    20\n",
       "line_4    20\n",
       "line_5    20\n",
       "line_6    20\n",
       "line_7    20\n",
       "line_8    20\n",
       "Name: 승차, dtype: int64"
      ]
     },
     "execution_count": 46,
     "metadata": {},
     "output_type": "execute_result"
    }
   ],
   "source": [
    "# 노선번호별 승차 데이터 수 확인\n",
    "\n",
    "sub.groupby(sub['노선번호'])['승차'].count()\n",
    "sub.groupby(sub['노선번호'])['승차'].size()"
   ]
  },
  {
   "cell_type": "code",
   "execution_count": 47,
   "id": "aced19f6",
   "metadata": {},
   "outputs": [
    {
     "data": {
      "text/html": [
       "<div>\n",
       "<style scoped>\n",
       "    .dataframe tbody tr th:only-of-type {\n",
       "        vertical-align: middle;\n",
       "    }\n",
       "\n",
       "    .dataframe tbody tr th {\n",
       "        vertical-align: top;\n",
       "    }\n",
       "\n",
       "    .dataframe thead th {\n",
       "        text-align: right;\n",
       "    }\n",
       "</style>\n",
       "<table border=\"1\" class=\"dataframe\">\n",
       "  <thead>\n",
       "    <tr style=\"text-align: right;\">\n",
       "      <th></th>\n",
       "      <th>48</th>\n",
       "      <th>49</th>\n",
       "      <th>50</th>\n",
       "    </tr>\n",
       "  </thead>\n",
       "  <tbody>\n",
       "    <tr>\n",
       "      <th>2.5</th>\n",
       "      <td>1</td>\n",
       "      <td>2</td>\n",
       "      <td>3</td>\n",
       "    </tr>\n",
       "    <tr>\n",
       "      <th>12.6</th>\n",
       "      <td>4</td>\n",
       "      <td>5</td>\n",
       "      <td>6</td>\n",
       "    </tr>\n",
       "    <tr>\n",
       "      <th>4.8</th>\n",
       "      <td>7</td>\n",
       "      <td>8</td>\n",
       "      <td>9</td>\n",
       "    </tr>\n",
       "    <tr>\n",
       "      <th>4.8</th>\n",
       "      <td>40</td>\n",
       "      <td>50</td>\n",
       "      <td>60</td>\n",
       "    </tr>\n",
       "    <tr>\n",
       "      <th>2.5</th>\n",
       "      <td>23</td>\n",
       "      <td>35</td>\n",
       "      <td>37</td>\n",
       "    </tr>\n",
       "  </tbody>\n",
       "</table>\n",
       "</div>"
      ],
      "text/plain": [
       "      48  49  50\n",
       "2.5    1   2   3\n",
       "12.6   4   5   6\n",
       "4.8    7   8   9\n",
       "4.8   40  50  60\n",
       "2.5   23  35  37"
      ]
     },
     "metadata": {},
     "output_type": "display_data"
    },
    {
     "data": {
      "text/html": [
       "<div>\n",
       "<style scoped>\n",
       "    .dataframe tbody tr th:only-of-type {\n",
       "        vertical-align: middle;\n",
       "    }\n",
       "\n",
       "    .dataframe tbody tr th {\n",
       "        vertical-align: top;\n",
       "    }\n",
       "\n",
       "    .dataframe thead th {\n",
       "        text-align: right;\n",
       "    }\n",
       "</style>\n",
       "<table border=\"1\" class=\"dataframe\">\n",
       "  <thead>\n",
       "    <tr style=\"text-align: right;\">\n",
       "      <th></th>\n",
       "      <th>index</th>\n",
       "      <th>48</th>\n",
       "      <th>49</th>\n",
       "      <th>50</th>\n",
       "    </tr>\n",
       "  </thead>\n",
       "  <tbody>\n",
       "    <tr>\n",
       "      <th>0</th>\n",
       "      <td>2.5</td>\n",
       "      <td>1</td>\n",
       "      <td>2</td>\n",
       "      <td>3</td>\n",
       "    </tr>\n",
       "    <tr>\n",
       "      <th>1</th>\n",
       "      <td>12.6</td>\n",
       "      <td>4</td>\n",
       "      <td>5</td>\n",
       "      <td>6</td>\n",
       "    </tr>\n",
       "    <tr>\n",
       "      <th>2</th>\n",
       "      <td>4.8</td>\n",
       "      <td>7</td>\n",
       "      <td>8</td>\n",
       "      <td>9</td>\n",
       "    </tr>\n",
       "    <tr>\n",
       "      <th>3</th>\n",
       "      <td>4.8</td>\n",
       "      <td>40</td>\n",
       "      <td>50</td>\n",
       "      <td>60</td>\n",
       "    </tr>\n",
       "    <tr>\n",
       "      <th>4</th>\n",
       "      <td>2.5</td>\n",
       "      <td>23</td>\n",
       "      <td>35</td>\n",
       "      <td>37</td>\n",
       "    </tr>\n",
       "  </tbody>\n",
       "</table>\n",
       "</div>"
      ],
      "text/plain": [
       "   index  48  49  50\n",
       "0    2.5   1   2   3\n",
       "1   12.6   4   5   6\n",
       "2    4.8   7   8   9\n",
       "3    4.8  40  50  60\n",
       "4    2.5  23  35  37"
      ]
     },
     "metadata": {},
     "output_type": "display_data"
    },
    {
     "data": {
      "text/html": [
       "<div>\n",
       "<style scoped>\n",
       "    .dataframe tbody tr th:only-of-type {\n",
       "        vertical-align: middle;\n",
       "    }\n",
       "\n",
       "    .dataframe tbody tr th {\n",
       "        vertical-align: top;\n",
       "    }\n",
       "\n",
       "    .dataframe thead th {\n",
       "        text-align: right;\n",
       "    }\n",
       "</style>\n",
       "<table border=\"1\" class=\"dataframe\">\n",
       "  <thead>\n",
       "    <tr style=\"text-align: right;\">\n",
       "      <th></th>\n",
       "      <th>48</th>\n",
       "      <th>49</th>\n",
       "      <th>50</th>\n",
       "    </tr>\n",
       "    <tr>\n",
       "      <th>index</th>\n",
       "      <th></th>\n",
       "      <th></th>\n",
       "      <th></th>\n",
       "    </tr>\n",
       "  </thead>\n",
       "  <tbody>\n",
       "    <tr>\n",
       "      <th>12.6</th>\n",
       "      <td>4</td>\n",
       "      <td>5</td>\n",
       "      <td>6</td>\n",
       "    </tr>\n",
       "    <tr>\n",
       "      <th>4.8</th>\n",
       "      <td>40</td>\n",
       "      <td>50</td>\n",
       "      <td>60</td>\n",
       "    </tr>\n",
       "    <tr>\n",
       "      <th>2.5</th>\n",
       "      <td>23</td>\n",
       "      <td>35</td>\n",
       "      <td>37</td>\n",
       "    </tr>\n",
       "  </tbody>\n",
       "</table>\n",
       "</div>"
      ],
      "text/plain": [
       "       48  49  50\n",
       "index            \n",
       "12.6    4   5   6\n",
       "4.8    40  50  60\n",
       "2.5    23  35  37"
      ]
     },
     "metadata": {},
     "output_type": "display_data"
    }
   ],
   "source": [
    "df = pd.DataFrame(data=np.array([[1, 2, 3], [4, 5, 6], [7, 8, 9], [40, 50, 60], [23, 35, 37]]),\n",
    "index= [2.5, 12.6, 4.8, 4.8, 2.5],\n",
    "columns=[48, 49, 50])\n",
    "display(df)\n",
    "df = df.reset_index()\n",
    "display(df)\n",
    "df = df.drop_duplicates(subset='index', keep='last').set_index('index')\n",
    "display(df)"
   ]
  },
  {
   "cell_type": "code",
   "execution_count": 49,
   "id": "f12050d6",
   "metadata": {},
   "outputs": [
    {
     "name": "stdout",
     "output_type": "stream",
     "text": [
      "<class 'pandas.core.frame.DataFrame'>\n",
      "RangeIndex: 122 entries, 0 to 121\n",
      "Data columns (total 18 columns):\n",
      " #   Column               Non-Null Count  Dtype  \n",
      "---  ------               --------------  -----  \n",
      " 0   Date                 122 non-null    object \n",
      " 1   Day                  122 non-null    int64  \n",
      " 2   Cases_Guinea         93 non-null     float64\n",
      " 3   Cases_Liberia        83 non-null     float64\n",
      " 4   Cases_SierraLeone    87 non-null     float64\n",
      " 5   Cases_Nigeria        38 non-null     float64\n",
      " 6   Cases_Senegal        25 non-null     float64\n",
      " 7   Cases_UnitedStates   18 non-null     float64\n",
      " 8   Cases_Spain          16 non-null     float64\n",
      " 9   Cases_Mali           12 non-null     float64\n",
      " 10  Deaths_Guinea        92 non-null     float64\n",
      " 11  Deaths_Liberia       81 non-null     float64\n",
      " 12  Deaths_SierraLeone   87 non-null     float64\n",
      " 13  Deaths_Nigeria       38 non-null     float64\n",
      " 14  Deaths_Senegal       22 non-null     float64\n",
      " 15  Deaths_UnitedStates  18 non-null     float64\n",
      " 16  Deaths_Spain         16 non-null     float64\n",
      " 17  Deaths_Mali          12 non-null     float64\n",
      "dtypes: float64(16), int64(1), object(1)\n",
      "memory usage: 17.3+ KB\n",
      "None\n"
     ]
    }
   ],
   "source": [
    "ebola = pd.read_csv('C:/Users/Administrator/Jupyter/country_timeseries.csv')\n",
    "print(ebola.info())"
   ]
  },
  {
   "cell_type": "code",
   "execution_count": 50,
   "id": "69136a60",
   "metadata": {},
   "outputs": [
    {
     "name": "stdout",
     "output_type": "stream",
     "text": [
      "<class 'pandas.core.frame.DataFrame'>\n",
      "RangeIndex: 122 entries, 0 to 121\n",
      "Data columns (total 19 columns):\n",
      " #   Column               Non-Null Count  Dtype         \n",
      "---  ------               --------------  -----         \n",
      " 0   Date                 122 non-null    object        \n",
      " 1   Day                  122 non-null    int64         \n",
      " 2   Cases_Guinea         93 non-null     float64       \n",
      " 3   Cases_Liberia        83 non-null     float64       \n",
      " 4   Cases_SierraLeone    87 non-null     float64       \n",
      " 5   Cases_Nigeria        38 non-null     float64       \n",
      " 6   Cases_Senegal        25 non-null     float64       \n",
      " 7   Cases_UnitedStates   18 non-null     float64       \n",
      " 8   Cases_Spain          16 non-null     float64       \n",
      " 9   Cases_Mali           12 non-null     float64       \n",
      " 10  Deaths_Guinea        92 non-null     float64       \n",
      " 11  Deaths_Liberia       81 non-null     float64       \n",
      " 12  Deaths_SierraLeone   87 non-null     float64       \n",
      " 13  Deaths_Nigeria       38 non-null     float64       \n",
      " 14  Deaths_Senegal       22 non-null     float64       \n",
      " 15  Deaths_UnitedStates  18 non-null     float64       \n",
      " 16  Deaths_Spain         16 non-null     float64       \n",
      " 17  Deaths_Mali          12 non-null     float64       \n",
      " 18  date_dt              122 non-null    datetime64[ns]\n",
      "dtypes: datetime64[ns](1), float64(16), int64(1), object(1)\n",
      "memory usage: 18.2+ KB\n",
      "None\n"
     ]
    }
   ],
   "source": [
    "ebola['date_dt']=pd.to_datetime(ebola.Date)\n",
    "print(ebola.info())"
   ]
  },
  {
   "cell_type": "code",
   "execution_count": null,
   "id": "78a9dab9",
   "metadata": {},
   "outputs": [],
   "source": []
  }
 ],
 "metadata": {
  "kernelspec": {
   "display_name": "Python 3 (ipykernel)",
   "language": "python",
   "name": "python3"
  },
  "language_info": {
   "codemirror_mode": {
    "name": "ipython",
    "version": 3
   },
   "file_extension": ".py",
   "mimetype": "text/x-python",
   "name": "python",
   "nbconvert_exporter": "python",
   "pygments_lexer": "ipython3",
   "version": "3.9.12"
  }
 },
 "nbformat": 4,
 "nbformat_minor": 5
}
